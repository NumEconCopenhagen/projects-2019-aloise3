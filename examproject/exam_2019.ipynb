{
 "cells": [
  {
   "cell_type": "code",
   "execution_count": 1,
   "metadata": {},
   "outputs": [],
   "source": [
    "from __future__ import division\n",
    "import numpy as np\n",
    "import matplotlib.pyplot as plt\n",
    "import scipy\n",
    "from scipy import optimize\n",
    "import sympy as sm\n",
    "sm.init_printing(use_unicode=True)"
   ]
  },
  {
   "cell_type": "markdown",
   "metadata": {},
   "source": [
    "# 1. Human capital accumulation"
   ]
  },
  {
   "cell_type": "markdown",
   "metadata": {},
   "source": [
    "Consider a worker living in **two periods**, $t \\in \\{1,2\\}$. \n",
    "\n",
    "In each period she decides whether to **work ($l_t = 1$) or not ($l_t = 0$)**. \n",
    "\n",
    "She can *not* borrow or save and thus **consumes all of her income** in each period. "
   ]
  },
  {
   "cell_type": "markdown",
   "metadata": {},
   "source": [
    "If she **works** her **consumption** becomes:\n",
    "\n",
    "$$c_t = w h_t l_t\\,\\,\\text{if}\\,\\,l_t=1$$\n",
    "\n",
    "where $w$ is **the wage rate** and $h_t$ is her **human capital**. \n",
    "\n",
    "If she does **not work** her consumption becomes:\n",
    "\n",
    "$$c_t = b\\,\\,\\text{if}\\,\\,l_t=0$$\n",
    "\n",
    "where $b$ is the **unemployment benefits**."
   ]
  },
  {
   "cell_type": "markdown",
   "metadata": {},
   "source": [
    "Her **utility of consumption** is: \n",
    "\n",
    "$$ \\frac{c_t^{1-\\rho}}{1-\\rho} $$\n",
    "\n",
    "Her **disutility of working** is:\n",
    "\n",
    "$$ \\gamma l_t $$"
   ]
  },
  {
   "cell_type": "markdown",
   "metadata": {},
   "source": [
    "From period 1 to period 2, she **accumulates human capital** according to:\n",
    "\n",
    "$$ h_2 = h_1 + l_1 + \n",
    "\\begin{cases}\n",
    "0 & \\text{with prob. }0.5 \\\\\n",
    "\\Delta & \\text{with prob. }0.5 \n",
    "\\end{cases} \\\\\n",
    "$$\n",
    "\n",
    "where $\\Delta$ is a **stochastic experience gain**."
   ]
  },
  {
   "cell_type": "markdown",
   "metadata": {},
   "source": [
    "In the **second period** the worker thus solves:\n",
    "\n",
    "$$\n",
    "\\begin{eqnarray*}\n",
    "v_{2}(h_{2}) & = &\\max_{l_{2}} \\frac{c_2^{1-\\rho}}{1-\\rho} - \\gamma l_2\n",
    "\\\\ & \\text{s.t.} & \\\\\n",
    "c_{2}& = & w h_2 l_2 \\\\\n",
    "l_{2}& \\in &\\{0,1\\}\n",
    "\\end{eqnarray*}\n",
    "$$"
   ]
  },
  {
   "cell_type": "markdown",
   "metadata": {},
   "source": [
    "In the **first period** the worker thus solves:\n",
    "\n",
    "$$\n",
    "\\begin{eqnarray*}\n",
    "v_{1}(h_{1}) &=& \\max_{l_{1}} \\frac{c_1^{1-\\rho}}{1-\\rho} - \\gamma l_1 + \\beta\\mathbb{E}_{1}\\left[v_2(h_2)\\right]\n",
    "\\\\ & \\text{s.t.} & \\\\\n",
    "c_1 &=& w h_1 l_1 \\\\\n",
    "h_2 &=& h_1 + l_1 + \\begin{cases}\n",
    "0 & \\text{with prob. }0.5\\\\\n",
    "\\Delta & \\text{with prob. }0.5 \n",
    "\\end{cases}\\\\\n",
    "l_{1} &\\in& \\{0,1\\}\\\\\n",
    "\\end{eqnarray*}\n",
    "$$\n",
    "\n",
    "where $\\beta$ is the **discount factor** and $\\mathbb{E}_{1}\\left[v_2(h_2)\\right]$ is the **expected value of living in period two**."
   ]
  },
  {
   "cell_type": "markdown",
   "metadata": {},
   "source": [
    "The **parameters** of the model are:"
   ]
  },
  {
   "cell_type": "code",
   "execution_count": 2,
   "metadata": {},
   "outputs": [],
   "source": [
    "rho = 2.0\n",
    "beta = 0.96\n",
    "gamma = 0.1\n",
    "w = 2.0\n",
    "b = 1.0\n",
    "delta = 0.1"
   ]
  },
  {
   "cell_type": "markdown",
   "metadata": {},
   "source": [
    "The **relevant levels of human capital** are:"
   ]
  },
  {
   "cell_type": "code",
   "execution_count": 3,
   "metadata": {},
   "outputs": [],
   "source": [
    "h_vec = np.linspace(0.1,1.5,100) "
   ]
  },
  {
   "cell_type": "markdown",
   "metadata": {},
   "source": [
    "**Question 1:** Solve the model in period 2 and illustrate the solution (including labor supply as a function of human capital). "
   ]
  },
  {
   "cell_type": "code",
   "execution_count": 4,
   "metadata": {},
   "outputs": [],
   "source": [
    "c2 = sm.symbols(\"c_2\")\n",
    "l2 = sm.symbols(\"l_2\")\n",
    "c1 = sm.symbols(\"c_1\")\n",
    "l1 = sm.symbols(\"l_1\")\n",
    "h2 = sm.symbols(\"h_2\")\n",
    "h1 = sm.symbols(\"h_1\")\n",
    "l = sm.symbols(\"l\")\n",
    "rho_2 = sm.symbols(\"rho\")\n",
    "gamma_2 = sm.symbols(\"gamma\")\n",
    "w_2 = sm.symbols(\"w\")"
   ]
  },
  {
   "cell_type": "code",
   "execution_count": 5,
   "metadata": {},
   "outputs": [
    {
     "name": "stdout",
     "output_type": "stream",
     "text": [
      "Cutoff value is: [0.555555555555556]. The individual works if their level of human capital is above this value as utility is increasing in human capital.\n"
     ]
    }
   ],
   "source": [
    "#We have workers utility:\n",
    "def util(h, l):\n",
    "    return consumption(h, l)**(1-rho)/(1-rho)-gamma*l\n",
    "\n",
    "def consumption(h, l):\n",
    "    if l == 1: \n",
    "        return w*h\n",
    "    elif l == 0:\n",
    "        return b\n",
    "\n",
    "def v2util(h, l):\n",
    "    return util(h, l)\n",
    "\n",
    "\n",
    "#Solve cutoff value between work and not working\n",
    "cutoff_p2 = sm.solve(v2util(h2, 1)-v2util(h2, 0), h2)\n",
    "print(f'Cutoff value is: {cutoff_p2}. The individual works if their level of human capital is above this value as utility is increasing in human capital.')"
   ]
  },
  {
   "cell_type": "code",
   "execution_count": 6,
   "metadata": {},
   "outputs": [
    {
     "data": {
      "image/png": "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\n",
      "text/plain": [
       "<Figure size 432x288 with 1 Axes>"
      ]
     },
     "metadata": {
      "needs_background": "light"
     },
     "output_type": "display_data"
    }
   ],
   "source": [
    "#Plotting the cutoff\n",
    "fig = plt.figure()\n",
    "ax = fig.add_subplot(1, 1, 1)\n",
    "ax.plot(h_vec, v2util(h_vec, 1), \"r-\", label='Working')\n",
    "ax.axhline(y=v2util(h_vec, 0), xmin=0, xmax=2, label='Not working')\n",
    "plt.title(\"Utility as a function of human capital\")\n",
    "plt.xlabel('Human capital')\n",
    "plt.ylabel('Utility')\n",
    "plt.legend()\n",
    "plt.show()"
   ]
  },
  {
   "cell_type": "markdown",
   "metadata": {},
   "source": [
    "**Question 2:** Solve the model in period 1 and illustrate the solution (including labor supply as a function of human capital). "
   ]
  },
  {
   "cell_type": "code",
   "execution_count": 7,
   "metadata": {},
   "outputs": [
    {
     "name": "stdout",
     "output_type": "stream",
     "text": [
      "The solution for period 1 is: [-0.846169527733768, 0.351725083289324]. As the relevant levels of human capital are positive, we are left with the solution: 0.35\n"
     ]
    }
   ],
   "source": [
    "def utilp1(h, l):\n",
    "    return consumptionp1(h, l)**(1-rho)/(1-rho)-gamma*l+beta*v2util(human_cap(h, l), l)\n",
    "\n",
    "def human_cap(h, l):\n",
    "    return h + l + 0.5*delta\n",
    "\n",
    "def consumptionp1(h, l):\n",
    "    if l == 1: \n",
    "        return w*h\n",
    "    elif l == 0:\n",
    "        return b\n",
    "\n",
    "cutoff_p1 = sm.solve(utilp1(h1, 1)-utilp1(h1, 0), h1)\n",
    "print(f'The solution for period 1 is: {cutoff_p1}. As the relevant levels of human capital are positive, we are left with the solution: {cutoff_p1[1]:.2f}')"
   ]
  },
  {
   "cell_type": "code",
   "execution_count": 8,
   "metadata": {},
   "outputs": [
    {
     "data": {
      "image/png": "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\n",
      "text/plain": [
       "<Figure size 432x288 with 1 Axes>"
      ]
     },
     "metadata": {
      "needs_background": "light"
     },
     "output_type": "display_data"
    }
   ],
   "source": [
    "#Plotting the cutoff\n",
    "fig = plt.figure()\n",
    "ax = fig.add_subplot(1, 1, 1)\n",
    "ax.plot(h_vec, utilp1(h_vec, 1), \"r-\", label='Working')\n",
    "ax.axhline(y=utilp1(h_vec, 0), xmin=0, xmax=2, label='Not working')\n",
    "plt.title(\"Utility as a function of human capital in period 1\")\n",
    "plt.xlabel('Human capital')\n",
    "plt.ylabel('Utility')\n",
    "plt.legend()\n",
    "plt.show()"
   ]
  },
  {
   "cell_type": "markdown",
   "metadata": {},
   "source": [
    "**Question 3:** Will the worker never work if her potential wage income is lower than the unemployment benefits she can get? Explain and illustrate why or why not."
   ]
  },
  {
   "cell_type": "code",
   "execution_count": 9,
   "metadata": {},
   "outputs": [
    {
     "data": {
      "image/png": "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\n",
      "text/plain": [
       "<Figure size 432x288 with 1 Axes>"
      ]
     },
     "metadata": {
      "needs_background": "light"
     },
     "output_type": "display_data"
    }
   ],
   "source": [
    "#Let's try setting b > w\n",
    "b = 2.5\n",
    "#Plotting the cutoff\n",
    "fig = plt.figure()\n",
    "ax = fig.add_subplot(1, 1, 1)\n",
    "ax.plot(h_vec, utilp1(h_vec, 1), \"r-\", label='Working')\n",
    "ax.axhline(y=utilp1(h_vec, 0), xmin=0, xmax=2, label='Not working')\n",
    "plt.title(\"Utility as a function of human capital in period 1\")\n",
    "plt.xlabel('Human capital')\n",
    "plt.ylabel('Utility')\n",
    "plt.legend()\n",
    "plt.show()"
   ]
  },
  {
   "cell_type": "markdown",
   "metadata": {},
   "source": [
    "As we see, the individual can choose to work in period 1, if the level of human capital is large enough. The cutoff is within the 'relevant' level of acquired human capital. Therefore the worker may choose to work, even though the unemployment benefits are larger than the wage. "
   ]
  },
  {
   "cell_type": "markdown",
   "metadata": {},
   "source": [
    "# 2. AS-AD model"
   ]
  },
  {
   "cell_type": "markdown",
   "metadata": {},
   "source": [
    "Consider the following **AS-AD model**. The **goods market equilibrium** is given by\n",
    "\n",
    "$$ y_{t} = -\\alpha r_{t} + v_{t} $$\n",
    "\n",
    "where $y_{t}$ is the **output gap**, $r_{t}$ is the **ex ante real interest** and $v_{t}$ is a **demand disturbance**. "
   ]
  },
  {
   "cell_type": "markdown",
   "metadata": {},
   "source": [
    "The central bank's **Taylor rule** is\n",
    "\n",
    "$$ i_{t} = \\pi_{t+1}^{e} + h \\pi_{t} + b y_{t}$$\n",
    "\n",
    "where $i_{t}$ is the **nominal interest rate**, $\\pi_{t}$ is the **inflation gap**, and $\\pi_{t+1}^{e}$ is the **expected inflation gap**. "
   ]
  },
  {
   "cell_type": "markdown",
   "metadata": {},
   "source": [
    "The **ex ante real interest rate** is given by \n",
    "\n",
    "$$ r_{t} = i_{t} - \\pi_{t+1}^{e} $$"
   ]
  },
  {
   "cell_type": "markdown",
   "metadata": {},
   "source": [
    "Together, the above implies that the **AD-curve** is\n",
    "\n",
    "$$ \\pi_{t} = \\frac{1}{h\\alpha}\\left[v_{t} - (1+b\\alpha)y_{t}\\right]$$"
   ]
  },
  {
   "cell_type": "markdown",
   "metadata": {},
   "source": [
    "Further, assume that the **short-run supply curve (SRAS)** is given by\n",
    "\n",
    "$$ \\pi_{t} = \\pi_{t}^{e} + \\gamma y_{t} + s_{t}$$\n",
    "\n",
    "where $s_t$ is a **supply disturbance**."
   ]
  },
  {
   "cell_type": "markdown",
   "metadata": {},
   "source": [
    "**Inflation expectations are adaptive** and given by\n",
    "\n",
    "$$ \\pi_{t}^{e} = \\phi\\pi_{t-1}^{e} + (1-\\phi)\\pi_{t-1}$$"
   ]
  },
  {
   "cell_type": "markdown",
   "metadata": {},
   "source": [
    "Together, this implies that the **SRAS-curve** can also be written as\n",
    "\n",
    "$$ \\pi_{t} = \\pi_{t-1} + \\gamma y_{t} - \\phi\\gamma y_{t-1} + s_{t} - \\phi s_{t-1} $$"
   ]
  },
  {
   "cell_type": "markdown",
   "metadata": {},
   "source": [
    "The **parameters** of the model are:"
   ]
  },
  {
   "cell_type": "code",
   "execution_count": 10,
   "metadata": {},
   "outputs": [],
   "source": [
    "par = {}\n",
    "\n",
    "par['alpha'] = 5.76\n",
    "par['h'] = 0.5\n",
    "par['b'] = 0.5\n",
    "par['phi'] = 0\n",
    "par['gamma'] = 0.075"
   ]
  },
  {
   "cell_type": "markdown",
   "metadata": {},
   "source": [
    "**Question 1:** Use the ``sympy`` module to solve for the equilibrium values of output, $y_t$, and inflation, $\\pi_t$, (where AD = SRAS) given the parameters ($\\alpha$, $h$, $b$, $\\alpha$, $\\gamma$) and $y_{t-1}$ , $\\pi_{t-1}$, $v_t$, $s_t$, and $s_{t-1}$."
   ]
  },
  {
   "cell_type": "code",
   "execution_count": 11,
   "metadata": {},
   "outputs": [
    {
     "data": {
      "image/png": "iVBORw0KGgoAAAANSUhEUgAAAWwAAAATBAMAAABGsioqAAAAMFBMVEX///8AAAAAAAAAAAAAAAAAAAAAAAAAAAAAAAAAAAAAAAAAAAAAAAAAAAAAAAAAAAAv3aB7AAAAD3RSTlMAdu+ZiTJUIma7qxDdRM2CxnTmAAAACXBIWXMAAA7EAAAOxAGVKw4bAAADWUlEQVRIDdWUT2jUQBTGv22SzW5jdrctooig4kUUpEX8Ay4SwVIRKYtFQUHcnnqwh4WCFi+NXoroYUtB1B7cguJNIggKgrt4UgRbBVHBQ6VUoUgoCNbqoU6Sefm/263Sg3PIvJn3m+99eRkCNDvkZsG6XKluZg0T4j9ra/+s8BcC/6ntRINX7W+Q81I5LwxHyQY5m22uQliWrd/F7NFWU6JqgfDovHa2tWgxd6cp241u2eptty8vL393DUSC5NQEkgak9/sH8LAL8q4IwTbI9uCSgfN1qLNDF9iv5PDG2J6T7bpmqAIJiN39wxuYnj16TWvM8pU9Xbn7Eglgn6JnStpbJBa8pFSmmIumdh4vIxeiOCMUn+ArMoV0Jx1i82mKue2AGSvnAmSbBE6hJ1EA0yOF4CxX0FoYQFpPlcT7xUNIlzHHCWlPjVguegm4l7wYpAi5iVEcwwgkw6vVl6cstx024wFk2xMotxpAlQRofmY3fi5lQNFyuA4RwitsQzanLBCi1uyo1zSfm+Y8i68BjxKKj1JsEZO1JFWDhjyq26f9tT7ZAqJpftttmhVrETLjAF4FT0CqrGP4oHWmzuguYJzZzlTU3zhXSNYI47bZknoBiCcRohya3Q0N81DvLPlrOa4YQXc7bMYFqIIrIOhZA0Ov91ry7LXYsBrnH0eAHRjGSFGYQbucn2XNs0esbQ0hymFbdFmXf8hFbCnxWta+64ps+80EAG7bE6gaWfbhvjjqsc+jwGd2M8eRruA2MkWCYm3rYcqhM7lUKd2ZqSHrrxWxHTbjAty2J7AZLRqw6KjHPg9abdHYZxYq6k9kSwTF2RaMMOXQak203ruENn8t1xV1O2zGBbhtT+AGWjVIW8lLzNwJSAfG2C1SJjsWcQL4eIsNA7G2PSqo1He1owC57XLRqqVaAhMxl4TMRAC6JFyAaycqj4NV/CtmG7Ju7wgz2KRQu+vYhnW7PYqUhinw1XKbSd22mTiA2w7lhZxGqpFZ1dlWyvL6ANVpdIlEJGsUPaUAHyIUpUYp8NVy/1+KQVk2xwFeBX9emiz4zgVD0XJse32BMeDMep6W879yQZKteoAg5RIaRV6toalJ2vTPKwFe3n8qHNuOU9buG3Y9VxhaXUpf4eSq0n8AgQQJHmNaoEMAAAAASUVORK5CYII=\n",
      "text/latex": [
       "$$\\pi_{t} = - \\gamma \\phi y_{t-1} + \\gamma y_{t} - \\phi s_{t-1} + \\pi_{t-1} + s_{t}$$"
      ],
      "text/plain": [
       "πₜ = -γ⋅φ⋅yₜ₋₁ + γ⋅yₜ - φ⋅sₜ₋₁ + πₜ₋₁ + sₜ"
      ]
     },
     "execution_count": 11,
     "metadata": {},
     "output_type": "execute_result"
    }
   ],
   "source": [
    "pt = sm.symbols(\"pi_t\")\n",
    "ptminus = sm.symbols(\"pi_t-1\")\n",
    "yt = sm.symbols(\"y_t\")\n",
    "ytminus = sm.symbols(\"y_t-1\")\n",
    "st = sm.symbols(\"s_t\")\n",
    "stminus = sm.symbols(\"s_t-1\")\n",
    "vt = sm.symbols(\"v_t\")\n",
    "alpha = sm.symbols(\"alpha\")\n",
    "gamma = sm.symbols(\"gamma\")\n",
    "phi = sm.symbols(\"phi\")\n",
    "h = sm.symbols(\"h\")\n",
    "b = sm.symbols(\"b\")\n",
    "SRAS = sm.Eq(pt,ptminus+gamma*yt-phi*gamma*ytminus+st-phi*stminus)\n",
    "SRAS\n"
   ]
  },
  {
   "cell_type": "code",
   "execution_count": 12,
   "metadata": {},
   "outputs": [
    {
     "data": {
      "image/png": "iVBORw0KGgoAAAANSUhEUgAAALsAAAAsBAMAAADP3dSiAAAAMFBMVEX///8AAAAAAAAAAAAAAAAAAAAAAAAAAAAAAAAAAAAAAAAAAAAAAAAAAAAAAAAAAAAv3aB7AAAAD3RSTlMAdu+ZiTJUIma7qxDdRM2CxnTmAAAACXBIWXMAAA7EAAAOxAGVKw4bAAADN0lEQVRYCbVWz2sTQRT+0mw2zU6S3Sgi/gAj9KAI0oKKlNquoFikSPDgwdN6ED30sChIbwYU7M3iQdRTFM+y9qBQxOTmSQn+A1koeigSKloVSltndjbT7GY3SbPbd5h9873vfTOZnbx9wOA21z31VvdwryhZcBnkSS2Iq5hBaN9YXqTnR/1J8gmA2H50R/MHgq0aritr3Fm6vE6d8y462OOTSGtYrtuSxzCTXxSEAZx0TSTNtDyvfL7ewgOeb8eQLftxslfDHb7XxCgNSoVzdFwpnOFEr7zEGGGmf0W24g9KuSKOcDBTBtKfsWi+I5tW1XRAr/ywzZlBY9qYgKz7I/eSNp5zMGsAWR2Z0UPyOlTNAb3ycs0BAweCo8gZ+MaCH5vMmGsNafiJfIm6Q3VgykLS1umSVZ0eVLP542SzWaEx/mpTq8wNsdw6EiB+RsNKraHKUpj8cSo6YtFr3zAcFe/uu8pLNUiQa07a9jCJRBGzbE4Ph/ym8n+gltnPYOaVz9UcMHhQKriZnlgueaMvkKnc/XKaguzV/qPyRah1coyzvPLdXi0km+jIGzxPjONolPGdTdm1GwcerpaUcob6zIR8gv2tkjrDwuz1PKCavuhSYcrEXwayny5Nz+OURsamXVZLPvlq8yz4DXAjwY+rnfAkUkUH3S4KgtSS58AHgYc5B4l3+4pNNpCovGf87ZImsoklXOr0LmljUjufXpdyRkNS0xma8a7sJdIZsTsgP3B9nxfJFeilSb0sMVR8TrwUMeu1vCCGOD0+ho+ctD1bW1u/QgSiw9LFG3P7W6d4hdWW5nJ0VaFwDZcSzlEKJGZnQbH6+QsMuGqqkqWZThFsV1DpK4lsq7QylFW6e6cIgp/9SvsyUf2qpdbBi2BUqaD8wxjSwYtgUDgq9hQKlXeKYFSp0Hy3CIbGIwbcIrhDlZDetVPFLYKdge4I/Yj3ZW4R7IvbRlKNtkn8ruhd45dmijO7I+u2rli+fcDchRV46wqyadJuKH7jrSvkNSgL8au7rSto70pb2viNt66s/75fil/dbV1Rre/O3eGtKx4DI8NW/NvnrSveABu+PiuWtXjrimfAhe6v9j9ItvwwbLlPtwAAAABJRU5ErkJggg==\n",
      "text/latex": [
       "$$\\pi_{t} = \\frac{v_{t} - y_{t} \\left(\\alpha b + 1\\right)}{\\alpha h}$$"
      ],
      "text/plain": [
       "     vₜ - yₜ⋅(α⋅b + 1)\n",
       "πₜ = ─────────────────\n",
       "            α⋅h       "
      ]
     },
     "execution_count": 12,
     "metadata": {},
     "output_type": "execute_result"
    }
   ],
   "source": [
    "AD = sm.Eq(pt,(1/(h*alpha)*(vt-(1+b*alpha)*yt)))\n",
    "AD"
   ]
  },
  {
   "cell_type": "code",
   "execution_count": 13,
   "metadata": {},
   "outputs": [
    {
     "data": {
      "image/png": "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\n",
      "text/latex": [
       "$$\\frac{v_{t} - y_{t} \\left(\\alpha b + 1\\right)}{\\alpha h} = - \\gamma \\phi y_{t-1} + \\gamma y_{t} - \\phi s_{t-1} + \\pi_{t-1} + s_{t}$$"
      ],
      "text/plain": [
       "vₜ - yₜ⋅(α⋅b + 1)                                        \n",
       "───────────────── = -γ⋅φ⋅yₜ₋₁ + γ⋅yₜ - φ⋅sₜ₋₁ + πₜ₋₁ + sₜ\n",
       "       α⋅h                                               "
      ]
     },
     "execution_count": 13,
     "metadata": {},
     "output_type": "execute_result"
    }
   ],
   "source": [
    "def SRASandAD(h, alpha, b, phi, gamma):\n",
    "    return sm.Eq((1/(h*alpha)*(vt-(1+b*alpha)*yt)),ptminus+gamma*yt-phi*gamma*ytminus+st-phi*stminus)\n",
    "SRASandAD(h, alpha, b, phi, gamma)"
   ]
  },
  {
   "cell_type": "code",
   "execution_count": 14,
   "metadata": {},
   "outputs": [
    {
     "data": {
      "image/png": "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\n",
      "text/latex": [
       "$$\\left [ \\frac{\\alpha \\gamma h \\phi y_{t-1} + \\alpha h \\phi s_{t-1} - \\alpha h \\pi_{t-1} - \\alpha h s_{t} + v_{t}}{\\alpha b + \\alpha \\gamma h + 1}\\right ]$$"
      ],
      "text/plain": [
       "⎡α⋅γ⋅h⋅φ⋅yₜ₋₁ + α⋅h⋅φ⋅sₜ₋₁ - α⋅h⋅πₜ₋₁ - α⋅h⋅sₜ + vₜ⎤\n",
       "⎢──────────────────────────────────────────────────⎥\n",
       "⎣                 α⋅b + α⋅γ⋅h + 1                  ⎦"
      ]
     },
     "execution_count": 14,
     "metadata": {},
     "output_type": "execute_result"
    }
   ],
   "source": [
    "solutiony21 = sm.solve(SRASandAD(h, alpha, b, phi, gamma), yt)\n",
    "#came back to store this for 2.3\n",
    "yt21 = sm.lambdify((h, alpha, vt, b, st, phi, stminus, ptminus, ytminus, gamma), solutiony21[0])\n",
    "solutiony21"
   ]
  },
  {
   "cell_type": "code",
   "execution_count": 15,
   "metadata": {},
   "outputs": [
    {
     "data": {
      "image/png": "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\n",
      "text/latex": [
       "$$\\frac{v_{t} - \\frac{\\left(\\alpha b + 1\\right) \\left(\\alpha \\gamma h \\phi y_{t-1} + \\alpha h \\phi s_{t-1} - \\alpha h \\pi_{t-1} - \\alpha h s_{t} + v_{t}\\right)}{\\alpha b + \\alpha \\gamma h + 1}}{\\alpha h}$$"
      ],
      "text/plain": [
       "     (α⋅b + 1)⋅(α⋅γ⋅h⋅φ⋅yₜ₋₁ + α⋅h⋅φ⋅sₜ₋₁ - α⋅h⋅πₜ₋₁ - α⋅h⋅sₜ + vₜ)\n",
       "vₜ - ──────────────────────────────────────────────────────────────\n",
       "                            α⋅b + α⋅γ⋅h + 1                        \n",
       "───────────────────────────────────────────────────────────────────\n",
       "                                α⋅h                                "
      ]
     },
     "execution_count": 15,
     "metadata": {},
     "output_type": "execute_result"
    }
   ],
   "source": [
    "solutionpi21 = (1/(h*alpha)*(vt-(1+b*alpha)*solutiony21[0]))\n",
    "#came back to store this for 2.3\n",
    "pi21 = sm.lambdify((h, alpha, vt, b, st, phi, stminus, ptminus, ytminus, gamma), solutionpi21)\n",
    "solutionpi21"
   ]
  },
  {
   "cell_type": "markdown",
   "metadata": {},
   "source": [
    "Solving with parameter values:"
   ]
  },
  {
   "cell_type": "code",
   "execution_count": 16,
   "metadata": {},
   "outputs": [
    {
     "data": {
      "image/png": "iVBORw0KGgoAAAANSUhEUgAAAaAAAAAUBAMAAAA5NPS9AAAAMFBMVEX///8AAAAAAAAAAAAAAAAAAAAAAAAAAAAAAAAAAAAAAAAAAAAAAAAAAAAAAAAAAAAv3aB7AAAAD3RSTlMAds0yiUTdEGZUIu+7q5nSkj2cAAAACXBIWXMAAA7EAAAOxAGVKw4bAAAE3klEQVRYCd2WX2hbdRTHv0lucpObv6siW8dmSGHoy5YHQUTGUk19m9Znh7vI9uBY8TrElzETp+DQBwM+CjaCKNuDi/PPUMEFxIFSZ3BFH4Q1g1onuLTO1dhKjeec3725t+tt0saX4Y/25Jx7z/nkfO/vd3+/YGgE/6Nx8jDGXDna1oc5CE3MFouQ4J3i1/btF377Egi+EvrVTV/X68XRW1P5npzRl/MMljzqpUm+GL4onqKP3plXObf0NOYVdC+er1JVtNPprIADo4nJMvCmBb2Bx8YR73QKlNBv9ODgBLTFXpxgRT/CfMkDIg3y2cTO81X2hH5sPJX1ZXkFRWvQslSVqgINCQJLSJv69IyFlIV4DcH9w3S/3+jFwS/A536cWEZhXwMeYk/ygO0siMyJ/W2+Sp6iX0Ki7svyCko0EOMyjf7yEoQ/RjoLvE5qTCSXkWRo39GLg0+AmaoPxxH0LTBp0VdIHoyTJEhMlDtjTzW2zF34sbyC0g2ElzgReBxOwEuOBAXbSP6xQUFOqR8HeyzM5HsIWgEOVqhS8qAFSZAYEcSe0BM1SvFleQWVmgj/zolAHXagH6KIBNGIkKZTO/MIXKB3rMlX1hl9OHjGEg60LS+5hFhGfP0fEqRcysOrLEiMCGJP6OmR0Z8l32Y9exWRslzwCjpbQEgJ0spQgfEIrWVb0MECEpaxiOIDwy+ekWJlQnVPwG4fTvim4mAEl9xKW5BxE9inBFGeniEFYsCCxBN66R5EKlTssApPqO0DtMe52/bZJkLEo1Giruxg+7gjaEJuXQxVtOod5DrHV6hlyg3XOKXrcGTjwkUYC7jfxTiCaIb2FYRFeRpIkBgRJJ7QSwtInacsm2VU5hArSEssSM/JyLtLZYh6sddfnOpkyaWa8jXzVSTwIz2tBQnJhE3xjgmEZTqlgB8HLUmfr+p/06pRGC2X23Uul2tQ7C45ynuDBYkRQeKpJWciukgcm/UePkC4IizvDKVpl1ObwlHwuxdbMqh7uiKCdlL99+DTaC9MOhfoXw1bkBPapRL6cQJNh3OgU3cx9gyBNoVJXkygPL1AgsTQ4dhWoWoskkX0L8lRPYXbCCiWVxDt7PLqgakSpNtdQbEmzuAcMG/hGtow5nbnpefuDNkRffTk4C0YVeGcRmDZxTiCppwVTnmnr7Tmv9jGJsOdxcQTerImM9RlaSY0xfIKcg5EhGjeJYjXeW+TGboPGEYTeAp6GzTbQXmMrGLNDPXkhAoIVIWzC1hwMY4g52CVPCBOy1CMetQUCj3URqoGl5WUlckteQXhaRzP6zdoOfHWwEG0LD997rZgHCpeN/E+op8hYOIjWldVypGxRlAvDt4tPvqD4nyDQMbFOIIiFf1DlLIqj7TU6TvYBOjBKo8bwzSOVzwsLUsrU1paJei5LZeBCTqQP6VaCZ5sfQVcv7C7HKSzx4Qxe8VCokI4PAgcmKJhrZ0hVerPwZ5O50/FeXvrNsFwo/QQM+pTH92R581L8qB9t1IWk/rpxjU6YjmUxrRZatVlYfqUzVolSCE3ZnfoVTtx7QxtjCBZXYwjaBO1t6YKa2BBV+kXnxox0/EG+OxidGuA6tUlwhpY0F4+XHkYcyv2alHx5mwXs7ky32xhDSzIF3kbXBzDXc5vmNugm//ewtDhfwH+qxly12cq+AAAAABJRU5ErkJggg==\n",
      "text/latex": [
       "$$\\left [ - 0.703125 \\pi_{t-1} - 0.703125 s_{t} + 0.244140625 v_{t}\\right ]$$"
      ],
      "text/plain": [
       "[-0.703125⋅πₜ₋₁ - 0.703125⋅sₜ + 0.244140625⋅vₜ]"
      ]
     },
     "execution_count": 16,
     "metadata": {},
     "output_type": "execute_result"
    }
   ],
   "source": [
    "solutiony21_par = sm.solve(SRASandAD(par['h'], par['alpha'], par['b'], par['phi'], par['gamma']), yt)\n",
    "solutiony21_par"
   ]
  },
  {
   "cell_type": "code",
   "execution_count": 17,
   "metadata": {},
   "outputs": [
    {
     "data": {
      "image/png": "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\n",
      "text/latex": [
       "$$0.947265625 \\pi_{t-1} + 0.947265625 s_{t} + 0.018310546875 v_{t}$$"
      ],
      "text/plain": [
       "0.947265625⋅πₜ₋₁ + 0.947265625⋅sₜ + 0.018310546875⋅vₜ"
      ]
     },
     "execution_count": 17,
     "metadata": {},
     "output_type": "execute_result"
    }
   ],
   "source": [
    "solutionpi21_par = (1/(par['h']*par['alpha'])*(vt-(1+par['b']*par['alpha'])*solutiony21_par[0]))\n",
    "solutionpi21_par"
   ]
  },
  {
   "cell_type": "markdown",
   "metadata": {},
   "source": [
    "**Question 2:** Find and illustrate the equilibrium when $y_{t-1} = \\pi_{t-1} = v_t = s_t = s_{t-1} = 0$. Illustrate how the equilibrium changes when instead $v_t = 0.1$."
   ]
  },
  {
   "cell_type": "code",
   "execution_count": 18,
   "metadata": {},
   "outputs": [
    {
     "data": {
      "image/png": "iVBORw0KGgoAAAANSUhEUgAAACEAAAAUBAMAAADxfUlCAAAAMFBMVEX///8AAAAAAAAAAAAAAAAAAAAAAAAAAAAAAAAAAAAAAAAAAAAAAAAAAAAAAAAAAAAv3aB7AAAAD3RSTlMAds0yiUTdZlQQIu+7q5kTmFmKAAAACXBIWXMAAA7EAAAOxAGVKw4bAAAAm0lEQVQYGZ3QMQrCQBBG4adIZFOJhZ0gCKlzgxjBPjewt7azcG+w3sBDeA0FD5NWceaPoKKV2zz4mJ0NYTzn7QyLhhXU21LoHbj0Y9i4qJIdLF1UyQXSwUSV3GAdTVSXcDcZQVeXvIXKpKvEZqqFifr7lm9Mz80p+gxn2PvrquT7C7MYThxnqJoJ9bQku6JKbMXr/C2Tj7/aK5oHpJQy8l5R5HcAAAAASUVORK5CYII=\n",
      "text/latex": [
       "$$\\left [ 0.0\\right ]$$"
      ],
      "text/plain": [
       "[0.0]"
      ]
     },
     "execution_count": 18,
     "metadata": {},
     "output_type": "execute_result"
    }
   ],
   "source": [
    "ptminus = 0\n",
    "ytminus = 0\n",
    "vt = 0\n",
    "st = 0\n",
    "stminus = 0\n",
    "#Finding solution for y_t\n",
    "solutiony22_par = sm.solve(SRASandAD(par['h'], par['alpha'], par['b'], par['phi'], par['gamma']), yt)\n",
    "solutiony22_par"
   ]
  },
  {
   "cell_type": "code",
   "execution_count": 19,
   "metadata": {},
   "outputs": [
    {
     "data": {
      "image/png": "iVBORw0KGgoAAAANSUhEUgAAAAoAAAAOBAMAAADkjZCYAAAAMFBMVEX///8AAAAAAAAAAAAAAAAAAAAAAAAAAAAAAAAAAAAAAAAAAAAAAAAAAAAAAAAAAAAv3aB7AAAAD3RSTlMAiXZmMs1UEN0i77urRJlR0qN3AAAACXBIWXMAAA7EAAAOxAGVKw4bAAAAUUlEQVQIHWNgYFQWYWBgCGOomMDAvICBMYCB+wAD23cG/gMMvN8Y6h8w8H5imC/AwAIkHzCwfISKAGXZvjFwb2Bg/g7VxdDGUOXAwFCodIQBAG3HFgUteuAKAAAAAElFTkSuQmCC\n",
      "text/latex": [
       "$$0$$"
      ],
      "text/plain": [
       "0"
      ]
     },
     "execution_count": 19,
     "metadata": {},
     "output_type": "execute_result"
    }
   ],
   "source": [
    "#solution for pi_t\n",
    "solutionpi22_par = (1/(par['h']*par['alpha'])*(vt-(1+par['b']*par['alpha'])*solutiony22_par[0]))\n",
    "solutionpi22_par"
   ]
  },
  {
   "cell_type": "code",
   "execution_count": 20,
   "metadata": {},
   "outputs": [
    {
     "data": {
      "image/png": "iVBORw0KGgoAAAANSUhEUgAAAH8AAAAUBAMAAABWoP+5AAAAMFBMVEX///8AAAAAAAAAAAAAAAAAAAAAAAAAAAAAAAAAAAAAAAAAAAAAAAAAAAAAAAAAAAAv3aB7AAAAD3RSTlMAds0yiUTdZlQQIu+7q5kTmFmKAAAACXBIWXMAAA7EAAAOxAGVKw4bAAACP0lEQVQ4Ed2UzWsTURTFTyeTTCaTTKOIgqIOVFo3Shau28SPneL8B52FCxEKVVzZhQMuRRqluCmY7AQXJuBKsDbgSvBjxEJ3OqIuBBs/i02lxnPvTCpu686BnPPem5Pf3LnvMdg+gq1f1qiPE4C565gy1G99fCST8U3RW5kYqF2scFzbUYFmxurjIUwFHMTNpsTE7QinfY6nZEHkal1GuQhGaJ8Dbviul2QW+9/5bAFYbZgeQ+puHU4bGFrgAsVeeq2APRFmgKPAMxQ7SebAi2YKKEbI95hXdwKU1oHbh7igclkAhQsRngKz9SzvIclEHCUVDEfIrnGibvRQ+gZUBaCiANOIsAFMhkVWhyTzB9CIkf3C9YHnerCaBKhAAZeMyP5FQHl4pPaeUTCzfP5tWkGriowABj5ZxXUQoKIAu2xEBbZsotwYQy5klpnHaPnJK7RiZHgXA59i8QJQUYAJAljBRLXxGe59Zplh04IEMCg9dTdGvkKAChRwhYD0FQJYqwAzvNz1zSbm1zhnE8X3AXMgQEUBdpUAaeJsmPNg/dBMyYO5mgCKHVi6jer5GHeudbs/36goIP+q++lh+YmMS22pQDKOB7eXAP46SDgC7GY5C1KjiO4CnPQgZXpw25pxuRUsQo/yWcxX7K+AeOHM8ZWA/3vAn8p+OUhwOuy+fQ9YwnyomUKMmWYKmNv2UvsqbvT7/QA42V9OZGXx8DRgPt+Ytmt7Kxy9G2TunvrAqVYgj9ji9X8Adv7LJ21o1P8NIo7XWP3iW1sAAAAASUVORK5CYII=\n",
      "text/latex": [
       "$$\\left [ 0.0244140625\\right ]$$"
      ],
      "text/plain": [
       "[0.0244140625]"
      ]
     },
     "execution_count": 20,
     "metadata": {},
     "output_type": "execute_result"
    }
   ],
   "source": [
    "#now vt = 0.1\n",
    "vt = 0.1\n",
    "solutiony22_vt = sm.solve(SRASandAD(par['h'], par['alpha'], par['b'], par['phi'], par['gamma']), yt)\n",
    "solutiony22_vt"
   ]
  },
  {
   "cell_type": "code",
   "execution_count": 21,
   "metadata": {},
   "outputs": [
    {
     "data": {
      "image/png": "iVBORw0KGgoAAAANSUhEUgAAAJYAAAAPBAMAAAD0RitaAAAAMFBMVEX///8AAAAAAAAAAAAAAAAAAAAAAAAAAAAAAAAAAAAAAAAAAAAAAAAAAAAAAAAAAAAv3aB7AAAAD3RSTlMAiXZmMs1UEN0i77urRJlR0qN3AAAACXBIWXMAAA7EAAAOxAGVKw4bAAACfklEQVQ4Ea2TT0gUcRTHP7MuM+r+aSXpopjZPTe7RaDdOoRuBHmxWOgWUaMQSAR6yVPkRqc6aKeiMvQm1aEpo4MH3UsUXdz+EVlKJbuWEdP395tZCro2MPPmvc+b7++93+8NOLtbMZe1dQdGdq1BU0tb0cIYH/X7jd+v2+lqxevqKHNoqaUlR0SOMVoy+dZGzikfKqSLTOFugHurjmfDryb1EnjHeU8WntEbhmGAJQ03cAri1tqH93jZx83jFegu8p0L7Zsx5sgTs2xiBlIVHnISzvER0kQkFeAqF2tjp9fHmcMb51WZqnTEIxIoEa4OwYoRbYNRcqBNCgzYFpCp1W3sSCvz03fyCpsejVZEAkUgJ60H5mVlnu0ymc5Ya6xC5psC1saOtFje2KEoo1rWaEVkoeed3JK0qgf3lEmHe4vKSem2ZDpH0mhZGztGywkHFb1yWa9GKyLzTJcZYQivmmcCdlaFbW2WTFdImsOxNnaM1pmXW2WFE/dirTgtNa4NklYIq767NinsfVGeqhuPi/+nx4aAbjMK3PH/6hGyP9w+ael46S0fILHlkyiYPBGzqW68924tdlRXs0+yxjV4VKzvvVtLF3B+DWO0Lkorr8UGijTOaSoMITVncyMbO9Ia00oLhH5dy5LmAtnN0+vrW29YlNYLNZfOm2qwJJpRffhnVpWlukpwn7swGfVosea80TQ0o3p8VrmtXSoxUFGDEZngfJ+niTQ2etCt+RqkoZN9dr4SOkdLmirs1xpmiXTOu8lznx44m9OPG5Hhrqf2D7PWPj7Pnshz+PWapnD9U5nsYvUtWDLV/kFSbeECdLT3kVzSv831omIR0ct/un4DWqgEkAzBkO0AAAAASUVORK5CYII=\n",
      "text/latex": [
       "$$0.0018310546875$$"
      ],
      "text/plain": [
       "0.00183105468750000"
      ]
     },
     "execution_count": 21,
     "metadata": {},
     "output_type": "execute_result"
    }
   ],
   "source": [
    "solutionpi22_vt = (1/(par['h']*par['alpha'])*(vt-(1+par['b']*par['alpha'])*solutiony22_vt[0]))\n",
    "solutionpi22_vt"
   ]
  },
  {
   "cell_type": "code",
   "execution_count": 22,
   "metadata": {},
   "outputs": [
    {
     "data": {
      "image/png": "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\n",
      "text/plain": [
       "<Figure size 432x288 with 1 Axes>"
      ]
     },
     "metadata": {
      "needs_background": "light"
     },
     "output_type": "display_data"
    }
   ],
   "source": [
    "#plotting the AS-AD model\n",
    "xs2 = np.linspace(-1,1)\n",
    "novtsolasad = lambda x: (1.0/(par['h']*par['alpha'])*(-(1.0+par['b']*par['alpha'])*x)) #no vt\n",
    "vtsolasad = lambda x: (1.0/(par['h']*par['alpha'])*(0.1-(1.0+par['b']*par['alpha'])*x)) #vt\n",
    "srassol = lambda x: par['gamma']*x #sras\n",
    "\n",
    "novtsol = novtsolasad(xs2)\n",
    "vtsol = vtsolasad(xs2)\n",
    "sras = srassol(xs2)\n",
    "\n",
    "plt.plot(xs2, vtsol, 'b-', label='$V_t = 0.1$')          \n",
    "plt.plot(xs2, novtsol, 'r-', label = \"$V_t = 0$\")   \n",
    "plt.plot(xs2, sras, 'g-', label= \"SRAS\")\n",
    "plt.xlabel('$y_t$')\n",
    "plt.ylabel('inflation')\n",
    "plt.axis([-0.05, 0.05, -0.1, 0.1])\n",
    "plt.title(\"AS-AD model\")\n",
    "plt.legend()\n",
    "plt.show()"
   ]
  },
  {
   "cell_type": "markdown",
   "metadata": {},
   "source": [
    "**Persistent disturbances:** Now, additionaly, assume that both the demand and the supply disturbances are AR(1) processes\n",
    "\n",
    "$$ v_{t} = \\delta v_{t-1} + x_{t} $$\n",
    "$$ s_{t} = \\omega s_{t-1} + c_{t} $$\n",
    "\n",
    "where $x_{t}$ is a **demand shock**, and $c_t$ is a **supply shock**. The **autoregressive parameters** are:"
   ]
  },
  {
   "cell_type": "code",
   "execution_count": 23,
   "metadata": {},
   "outputs": [],
   "source": [
    "par['delta'] = 0.80\n",
    "par['omega'] = 0.15"
   ]
  },
  {
   "cell_type": "markdown",
   "metadata": {},
   "source": [
    "**Question 3:** Starting from $y_{-1} = \\pi_{-1} = s_{-1} = 0$, how does the economy evolve for $x_0 = 0.1$, $x_t = 0, \\forall t > 0$ and $c_t = 0, \\forall t \\geq 0$?"
   ]
  },
  {
   "cell_type": "code",
   "execution_count": 24,
   "metadata": {},
   "outputs": [
    {
     "data": {
      "image/png": "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\n",
      "text/plain": [
       "<Figure size 1440x288 with 2 Axes>"
      ]
     },
     "metadata": {
      "needs_background": "light"
     },
     "output_type": "display_data"
    }
   ],
   "source": [
    "#Let's define the processes\n",
    "def vt(vtminus, x):\n",
    "    return par['delta']*vtminus + x\n",
    "def st(stminus, c):\n",
    "    return par['omega']*stminus + c\n",
    "\n",
    "T = 200\n",
    "x = np.zeros(T)\n",
    "c = np.zeros(T)\n",
    "yminus = [0]\n",
    "piminus = [0]\n",
    "sminus = [0]\n",
    "vminus = [0]\n",
    "x[1] = 0.1\n",
    "\n",
    "#using the stored solutions from 2.1 to simulate the process\n",
    "\n",
    "for t in range(1, T):\n",
    "    vminus.append(vt(vminus[t-1], x[t]))\n",
    "    sminus.append(st(sminus[t-1], c[t]))\n",
    "    yminus.append(yt21(par['h'], par['alpha'], vminus[t], par['b'], sminus[t], par['phi'], sminus[t-1], piminus[t-1], yminus[t-1], par['gamma']))\n",
    "    piminus.append(pi21(par['h'], par['alpha'], vminus[t], par['b'], sminus[t], par['phi'], sminus[t-1], piminus[t-1], yminus[t-1], par['gamma']))\n",
    "    \n",
    "fig, (ax1, ax2) = plt.subplots(1, 2)\n",
    "ax1.plot(yminus, label = \"Output gap\")\n",
    "ax1.set_title(\"Output over time\")\n",
    "ax2.plot(piminus, label = \"Inflation gap\")\n",
    "ax2.set_title(\"Inflation over time\")\n",
    "ax1.set_xlabel(\"Time\")\n",
    "ax2.set_xlabel(\"Time\")\n",
    "ax1.set_ylabel(\"Output\")\n",
    "ax2.set_ylabel(\"Inflation\")\n",
    "fig.set_figwidth(20)\n",
    "plt.show() \n",
    "    "
   ]
  },
  {
   "cell_type": "markdown",
   "metadata": {},
   "source": [
    "**Stochastic shocks:** Now, additionally, assume that $x_t$ and $c_t$ are stochastic and normally distributed\n",
    "\n",
    "$$ x_{t}\\sim\\mathcal{N}(0,\\sigma_{x}^{2}) $$\n",
    "$$ c_{t}\\sim\\mathcal{N}(0,\\sigma_{c}^{2}) $$\n",
    "\n",
    "The **standard deviations of the shocks** are:"
   ]
  },
  {
   "cell_type": "code",
   "execution_count": 25,
   "metadata": {},
   "outputs": [],
   "source": [
    "par['sigma_x'] = 3.492\n",
    "par['sigma_c'] = 0.2"
   ]
  },
  {
   "cell_type": "markdown",
   "metadata": {},
   "source": [
    "**Question 4:** Simulate the AS-AD model for 1,000 periods. Calculate the following five statistics:\n",
    "\n",
    "1. Variance of $y_t$, $var(y_t)$\n",
    "2. Variance of $\\pi_t$, $var(\\pi_t)$\n",
    "3. Correlation between $y_t$ and $\\pi_t$, $corr(y_t,\\pi_t)$\n",
    "4. Auto-correlation between $y_t$ and $y_{t-1}$, $corr(y_t,y_{t-1})$\n",
    "5. Auto-correlation between $\\pi_t$ and $\\pi_{t-1}$, $corr(\\pi_t,\\pi_{t-1})$"
   ]
  },
  {
   "cell_type": "code",
   "execution_count": 26,
   "metadata": {},
   "outputs": [
    {
     "data": {
      "image/png": "iVBORw0KGgoAAAANSUhEUgAABJEAAAEWCAYAAADWwwZ1AAAABHNCSVQICAgIfAhkiAAAAAlwSFlzAAALEgAACxIB0t1+/AAAADl0RVh0U29mdHdhcmUAbWF0cGxvdGxpYiB2ZXJzaW9uIDMuMC4yLCBodHRwOi8vbWF0cGxvdGxpYi5vcmcvOIA7rQAAIABJREFUeJzsvXm8HFWZ//85Vb3cLTc7kLCFHUHZBBQRF3TUEZf5qaMj7qPofHUc+el3FBQRFUFxYRxxRPZFNkVkGfYlMUACIUACIQnZk5v9Jne/vVbV+f5RdapPna7qru6u6u5787xfr7zSt7u66nSt53zO53kexjkHQRAEQRAEQRAEQRAEQVRCa3UDCIIgCIIgCIIgCIIgiPaHRCSCIAiCIAiCIAiCIAiiKiQiEQRBEARBEARBEARBEFUhEYkgCIIgCIIgCIIgCIKoColIBEEQBEEQBEEQBEEQRFVIRCIIgiAIgiAIgiAIgiCqQiISQRCED4yx1xhj72p1OwiCIAiCmBwwxvZnjC1kjI0yxn7NGLuEMfanBtY36fsqjLHPMMYea3U7CIIoQSISQUxSGGNfZIy9yhjLMMZ2Msb+wBibVsP3NzHG3htheyJdX5Qwxm5ijF0qv8c5P55zvqBFTSIIgiAIYgJQY//mqwD2AOjlnH+nxu1M+r4KY2weY4wzxhLiPc75bZzz97WyXQRBeCERiSAmIYyx7wD4BYD/BDAVwFsBHArgccZYqpVtazVyx4QgCIIgCKKJHApgJeect7ohrYb6YwQxcSERiSAmGYyxXgA/BvBNzvkjnPMi53wTgE/C7rx81lnOM6PFGHsXY2yr8/pWAIcAeIAxNsYY+640O/RVxth2xtgOR6xCPesLaPt5jLF1jLEBxtj9jLG5zvtXM8Z+pSx7H2Ps287ruYyxvzLG+hljGxlj/yEtdwlj7G7G2J8YYyMAvqis56sAPgPgu07bHnDed2cWnXX8xVnHqOPwOpoxdiFjbDdjrI8x9j5pnVMZY9c7+2gbY+xSxphe/egRBEEQBDFRcVzgzzDGfsUYG3T6JP/ofHYTgC+g1N8ocy85fY2djLFhJ+zteOf9MH2VNGPsv5w+2nbnddr57F2Msa2Mse84/ZYdjLEvVfgdc51+2IDTLztPej/LGJshLXsyY2wPYyzp/P2vjLFVzu9/lDF2qLQsZ4x9gzG2FsBan00vdP4fcn7nGWKfKuv4OmNsrdMn+ylj7AjG2GLG2Ahj7M/yhClj7EOMsWWMsSHG2CLG2AmVjiFBENUhEYkgJh9vA9AB4B75Tc75GICHAfxDtRVwzj8HYAuAD3POezjnV0gfvxvAUQDeB+ACv05QjesDADDGzgZwOWyxaw6AzQDudD6+HcCnGGPMWXa6s/07GWMagAcALAdwIID3ADifMfZ+afUfBXA3gGkAblPado3z3hVO2z4c8DM+DOBWANMBvAzgUdj30AMB/ATAH6VlbwZgADgSwMlOW79SYRcRBEEQBDE5eAuA1wHMAnAFgOsZY4xz/kV4+xtP+Hz3Ydh9rP0AvOQsH7av8gPYzvOTAJwI4HQAF0mfHwDbnX4ggC8D+L3Tn/LjDgBbAcwF8AkAlzHG3sM53w5gMYCPS8ueC+BuznmRMfZPAL4P4GMAZgN42lmXzD85++g4n+2+w/l/mvM7Fwe07wMA3uz83u8CuAa2yHYwgDcC+DQAMMZOAXADgK8BmAm7r3a/ENcIgqgPEpEIYvIxC8Aezrnh89kO5/NG+DHnfJxz/iqAG+E8qCPgMwBu4Jy/xDnPA7gQwBmMsXmwOyEcwFnOsp8AsNjpzJwGYDbn/Cec8wLnfAOAawH8i7TuxZzzeznnFuc8W2f7nuacP+rs17/A7hz9nHNehC12zWOMTWOM7Q/gHwGc7+yn3QCuVNpDEARBEMTkZDPn/FrOuQl7UmkOgP3DfJFzfgPnfNTpB10C4ETG2NSQ2/0MgJ9wzndzzvthu9I/J31edD4vcs4fAjAG4Bh1JYyxgwG8HcD3OOc5zvkyANdJ67odJZGGwe7f3O589jUAl3POVzn9pcsAnCS7kZzPBxrojwHALzjnI5zz1wCsAPAY53wD53wYthB3srPceQD+yDl/nnNucs5vBpCHLT4RBFEnJCIRxORjD4BZzD/WfI7zeSP0Sa83w56lioK5zvoAuM6pvQAOdHIH3ImSYHUuSo6iQwHMdWzKQ4yxIdizYHKHTW5zveySXmdhC3Wm9DcA9DjtSQLYIbXnj7BnFQmCIAiCmNzsFC845xnnZU+1LzHGdMbYzxlj653w+03OR2En/zz9KJT30fYqE4yZgHbNBTDAOR9V1nWg8/pu2JN8c2E7hzjsyT7A7gP9Vur/DABg0neBePpk6t/idx0K4DtKH/FgRNd3JYh9EhKRCGLysRj2LMvH5DcZY92wHTJPOm+NA+iSFjlAWU9Q0seDpdeHANje4PoE22E/7OX2zgSwzXnrDgCfcGaz3gLgr877fQA2cs6nSf+mcM4/WMO2o0xw2Qd7/8+S2tPLOT8+wm0QBEEQBDG5OBd2+P17YYedzXPeZ87/NfWj4O2j1cJ2ADMYY1OUdW0DAM75EIDHYKcfOBfAHVKi8D4AX1P6ZJ2c80XSuir9jqgTjvcB+JnSni7OuRpiRxBEDZCIRBCTDMfK+2MAv2OMfYAxlnRCwv4CO779VmfRZQA+yBibwRg7AMD5yqp2ATjcZxM/ZIx1OckevwTgrgbXJ7gdwJcYYyc5seqXAXjeSQoOzvnLAPphW6ofdToxALAEwAhj7HuMsU5nJu+NjLHTKmxLpVrbQsM53wG7c/VrxlgvY0xzEj6+M4r1EwRBEAQxKZkCexJqL+xJucuUz6v1Ve4AcBFjbDZjbBaAiwH8qdZGcM77ACwCcDljrMNJRP1leHNK3g7g87BzI90uvX81gAulhOBTGWP/XMPm+wFYiKhPBju9wb8xxt7CbLoZY+coAhlBEDVCIhJBTEKcxNXfB/ArACMAnoc9G/MeJ84esMWk5bDt0o+hJAYJLofdGRlijP1f6f2/A1gH29H0K875Yw2uT7T5SQA/hO0w2gHgCJTnEboD9gzd7dL3TNhJr08CsBF2uN51sGfxwnI9gOOctt1bw/eC+DyAFICVAAZhW7/nRLBegiAIgiAmJ7fADhvbBrv/8JzyebW+yqUAlgJ4BcCrsBNzX+qzXBg+DdsJtR3A3wD8iHP+uPT5/bATgO/inC8Xb3LO/wbgF7ALn4zAzlf0j2E36oT//QzAs87vbCh3Eed8Key8SFfB7o+tg1KllyCI2mEl9yFBEEQwjptpI4BkQNJugiAIgiAIgiAIYhJDTiSCIAiCIAiCIAiCIAiiKiQiEQRBEARBEARBEARBEFWhcDaCIAiCIAiCIAiCIAiiKuREIgiCIAiCIAiCIAiCIKqSaHUDamHWrFl83rx5rW4GQRAEQRAx8eKLL+7hnM9udTsIL9QHIwiCIIjJTdg+2IQSkebNm4elS5e2uhkEQRAEQcQEY2xzq9tAlEN9MIIgCIKY3ITtg1E4G0EQBEEQBEEQBEEQBFEVEpEIgiAIgiAIgiAIgiCIqpCIRBAEQRAEQRAEQRAEQVSFRCSCIAiCIAiCIAiCIAiiKiQiEQRBEARBEARBEARBEFUhEYkgCIIgCIIgCIIgCIKoColIBEEQBEEQBEEQBEEQRFVaLiIxxnTG2MuMsf9tdVuIyjy7bg829I+1uhkEQRAEQRBETPSP5vHgKzta3QyCIAiiTUm0ugEAvgVgFYDeVjeEqMxnrnseALDp5+e0uCUEQRAEQRBEHHzjtpewZNMADOsknH3sfpjSkWx1kwiCIIg2oqVOJMbYQQDOAXBdK9tBEARBEARBEATQN5gBAHzrzmW4av66FreGIAiCaDdaHc72XwC+C8AKWoAx9lXG2FLG2NL+/v7mtYwgCIIgCIIg9jE6knrpD966dhAEQRDtSctEJMbYhwDs5py/WGk5zvk1nPNTOeenzp49u0mtIwiCIAiCIIh9j3RCGh6w1rWDIAiCaE9a6UQ6E8BHGGObANwJ4GzG2J9a2B6CIAiCIAiC2KcpmqUAgfG80cKWEARBEO1Iy0QkzvmFnPODOOfzAPwLgKc4559tVXsIgiAIgiAIYl9nYLyAz771EBw0vRPjebPVzSEIgiDajFbnRCIIgiAIgiAIok3IFEx0pxPoSSfIiUQQBEGUkWh1AwCAc74AwIIWN2PC8thrO2FYHB9805xWN4UgCIIgCIKYoFgWR96w0JnU0Z1OYLxAIhJBEAThpS1EJKIxvnqrnZt808/PaXFLCIIgCIIgiIlKtmiHr3UmdXSldIzkSEQiCIIgvFA4G0EQBEEQBEEQrojUldIpnI0gCILwhUQkIhSWxVvdBIIgCIIgCCJGsgVbROpI2iLSGDmRCIIgCAUSkYhQmLwkIsmlX+NgYLyAeRc8iAdf2RHrdgiCIAiCIIgSbjhbSsfsKWnsGcvTRCJBEAThgUQkIhSm1IHIFeMt97p65wgA4JbFm2LdDkEQBEEQBFFCOJG6Ujr27+2AYXEMZAotbhVBEATRTpCIRIRCFpEKRrxOpJw0C0YQBEEQBEE0h4wUzrZ/bxoAsHM418omEQRBEG0GVWcjQiGHs8mv4yBbsEWqjgSJSARBEARBEM0i5ybWTqAzaffDdo/mAExtYasIgiCIdoJEJCIUcjy8Fa8RiZxIBEEQBEEQLcDNiZTUXRFpYLzYyiYRBEEQbQaFsxGhkMPZjJhVJNGB6UiSiDQZ4JxTUk6CqIOhTCH2HHQEQRAyIpytM6mjO233w8bzVKGNIAiCKEEiEhEKOYStWU6kjiSdnpOBf7hyIY7/0aOtbgZBTDhO+snj+NQfF7e6GQRB7EPI1dm603bAwhiJSARBEIQEhbMRoZCFo/hzIpVmwYiJz7rdY61uAkFMWJZvHW51EwiC2IfIFmzBqDOlI53QkNAYOZEIgiAID2T1IELhSawdc2hSxpkFS2gs1u0QBEEQxL4IY+xgxth8xtgqxthrjLFvtbpNRHsgipt0JnUwxtCV0klEIupiNFeEZXE8sHw77nlpa6ubQxBEhJATiQiFJ7F2k5xIcTueCIIg2pW4xXpin8cA8B3O+UuMsSkAXmSMPc45X9nqhhGtJVs0kUpo0J2JvJ50AmN5ys1GBHPZQ6twz0tbsfSif3DfyxQMvOmSx/B/3nUE/rBgPQDg/zv5QDBGE8QEMRkgJ9IkIs7kxfKAJu7BTcG0Z8EMGkQRLWbB67spFwTREvIGDdqI+OCc7+Ccv+S8HgWwCsCBrW0V0Q5kC4YnnUB3OkFOJKIi1yzcgD1jBc97e52/b3tus/ve1sFsU9tFEER8kIg0iYhTdGlmOJtpcs//BNEKdgxn8cUbX8D5dy5rdVOIfZBcMeYKBgThwBibB+BkAM/7fPZVxthSxtjS/v7+ZjeNaAHZolkuIhVIRCJqYyhTBADkjdKz7Kwr5uOahetb1SSCICKERKRJRJzijtVEJ5IQw8iJ1BjZgomCQQPRehGn32vbKbExUWI4W8S51z6HvoFMrNsRVSoJIk4YYz0A/grgfM75iPo55/wazvmpnPNTZ8+e3fwGEk0nW7TQlSqJSHY4G4lIRHWKZqnPOZCxnUh5w3s+XfbQ6qa3iyCI6CERaRJRtOITDDxOpAhzFWUKBr5261JsHypZXA3nd1BOkMZ4w8WP4ON/WNTqZkxYRNR+pkCDeaLE4yt3YdH6vfj1Y6/Hup0gEcmyeOwCFrFvwBhLwhaQbuOc39Pq9hDtQbZgoENyIk3tSmJwvFDhGwRhIz+3hjKlc2Z6V6oVzSEIIkZIRJpExBn+JQs6UeVeMkwLDyzfjkdf24UrHinNTAgHEiXWbpxXt5GLpl7EOZ8lEYmQ2G9KGgCwYzgX63ZECIBapfKapzfgrCvmY+2u0Vi3T0xumJ3d9noAqzjnv2l1e4j2IVs00Sk5Rw6a1ontQ7lY824Sk4OsJCINSMJj3AV5CIJoPiQiTSLidCLJq47CIWRaHCf8+DF876+vAvDGTBuOHZZyIhGtRJznBZNCAokSmlNZZudI/SLSfcu24cJ7Xq24jJjRTSW8j+klGwcAABv3jNe9fYIAcCaAzwE4mzG2zPn3wVY3img9mYLpCT86aHonCqaFPWP5FraKmAjkCqX+ksiJBHgdSuozjSCIiQldyZMII04nUsThbGM5wxMmJItIJuVEItoAOv8IP0S47a4GRKRv3bkMdyzZUnEZkVhb7XCnnb/zlO+MaADO+TOcc8Y5P4FzfpLz76FWt4toPdmC6QlnO3B6JwCgr47KWlsHM/j1Y69j2xBV5ZqM5IqmO/ELeJ1IsnA0KAlKctJ2giAmLiQiTSBe3jKIeRc8iDUBYQxROISyBdM3F4cZcWJttdKHXM7aDWeL0VlFANc9vQEb+sda3Yy2hezXhB9CrI+7elrOuSemdO9jWohKWUq8TRBEDOSKXifSoTO7AQCb6nA/3rmkD797ah3ueL6yaE5MTI794SP48s1L3b9lh67q4v7UqQcDAI7ev6c5jSMIIlZIRJpAPLB8BwBg4Rr/MrvFCMJu3nDxI3jHFfPL3pcH1FGISGqyYnlAJgZp5ASpH15FAMkVTVz64Cp88o+Lm9SiiQcldif8MJokbucDwtmEqCQnLSUIgoiKTMH0uEUOndGFpM6wdnftk07rnYkqqu42+RD9zL9LY5Iv3LAET6zcBQBl1YFnT0njrKNmoUipKghiUkAi0gRCCDmMMd/Poxr07h4tj3v3JNaOwKGRqehEoupsjVLtIS327UiWOnZB0PlH+NGsDnBQOJtgYLzo+36jcE7V3whiXyZb9IazJXQNh83qxjoSkQiJ8YCiI8u3DgEoF5FSCQ3phFb2PkEQExMSkSYQQrzR/TWkWAc33nC2xtc3nvc+fPLF8pxINIivn2rJoIXLi2Ni7uOiaWFnzNWx6Pwj/JCdSNUcf40grmG1OpsIBR7OxuNE+u7dr+CsK+ZjdwM5nwiCmLhklcTaADCjO4WRbO3C9a4Re1JynESkCc3ukVxZqovBcf9n0IzuFIDyfmhS15BKaFSshCAmCSQiTSBcEUmL14kElA+Oos6JlC2qTqTSQ0WIYTSIr59ilZkekQixmWl/ohxwf+/uV/DWy5/0zd8VFRROSfghi/Vx5kUSYb265n1MjzkCfFyTBn95cSsAYLiOASNBEBObomnBsHhZ8uN0Qvc4xsMivjOWN/D3Nf14+NUdkbSTaC6nX/Yk3nLZk573BgNCqoXTqGhabiEIwHYipXRyIhHEZIFEpAmEGNMGhbMVI8zVIVdSALwV2aIIZ1OdSHKOJKrO1jjhnUjNI8rD+fCKnQDiFRopsTbhh1wFczTXmNBSSVgVjiclr7Y7o2/EPJtLs8UEse8hEvZ3plQRSatLNBeCwbahLL5wwxL8n9tearyRRFMRz6nhbBH9UrqLAcmJ1JnUceJBUwGUQhcLhoUjZvfglEOmAQA0ZgtJJCIRxOSARKQJhLiRa0EiUoQ35gHFpmpF7ERScyLtGcu7M98iQTg5keqn2kNa3sdXPbW2GU2KNCGxODcCLoVIMCj5I+GDXDVyJNdYiEalW5xwGunKSS5EpGLM90dKfkoQ+x7Zgr+I1JGs3YlkmJZ7j9vQX3tlN6I9kCuB/mHBevf1kDPZ3JnUUTAtvP2oWZjSkcCo81zMGxaSCQ2nzZsBwHbuJnUKZyOIyQKJSC3msdd2Yt4FD2LHcLbqsmLgLEezyTPZ+QhFJFXAiTqcTa3OBgArt4941t+sKkiTkWrngnwMf/XYmribAwCI8nAKZ1yc42jZiRRn7htiYiGLK40mi610jxNOI00JXxbnZdxOpCiqfRIEMbFwRaSycLbanUgkFkwOLn1wlfv6hmc3uhMZ4vmnMbtPmdJ1TEmXRKSiaSGta0g751KuaCKV0CKd8I6aaxaux/8sWNfqZhDEhCDR6gbs69z1Qh8AYMW2EcyZ2llxWTFglgcV8iA6SouoOoCQB9RxiUgiTxJVDmucagPAVrgM7AGzXnW5MIhzJE5xRw6nLJocqUSMtidiwiALP/kGc3JVupeK8091IomvxO3UbOeOPkEQ8eCGsyUbdyJR2NLE5uZFm7BlIIPbn9/ieX/jnnG88cCpbkSBmNRLJTRM6UhiLG87lAqGha5UAh1J26+QM2wRKd/G4uJlD60GAHz9XUe2uCUE0f6QE6nFCEEozIDA8glns5rgRPrQ757Gv/2pFMduRjBw96vyIfIkidxOK3eM4BEn9w1RG9U6b6oDIi7XgRwGGYexLFYnkkdEat9OTy3kDROb9lBYQSN4Ems3eM+tdN8vVnEixS0Ek4uAIPY9RLJkv5xItfYxRT9E5MoRxO2iJKLhR/e/huuf2Vj2/ganDyGKPAiHWk9aR48UzlYwLaQSGjoSjhOpYCLtJNZuR3f33rF89YUIgnAhEanFJGoRkXzC2eTvFczoKlXJLowV20Z829EIas4lwLZRD2eK6Bsohfa9uHmg4W3ti1RNrK0MQMcazO0SuB3pXIkjPDHOjojn2poEM6oFw8IH/utpvOtXCxoOw9qXka+dRp1Ib7rkscDPXOFSOcXFKR93uC/lRCKIfY9zr30egL8TKVc0a3rmCtHpM285FO84erb7fibGqqpEfBy1Xw8AYOtgBgCQUfoRvZ1JHDqjC2t2jYJzjoJhIakzfOyUA3H6YTPw1XcegZRTra0dny9bBjLu6z8sWI95FzzYcPEMgpjMkIjUYlwnUogHsxvOJjmR5K/lIyw3XWmmKAonklr9DQDGCwbOu2Wp572ZPemGtzURGc4U8cKm+gW06k4k7zEcjUlE8uTSikHwidOJZEwyJ9JlD63CRmcGUe38EeHxhLPFKC4KsUqtEtgsJxK5BQiicQqGhYvvW4HdI7lWN6UqOUnc6U57s12kExosXlvVXDGZlUpouPlLp+HSf3ojACCTJxFpIvLI+e9AKqG5RXDGlbQUvZ1JnDpvBvaMFbBpb8ZJA6BjWlcKf/7aGThwWieSTrnRdnS6ylWjf/GIHdY2OE4iEkEEQSKSw1CmgN88vsZN7twshBMpjLtHDB7kFBnywDzKm3IlZ1QUTiRhmZbJFEys2und/zO7Uw1vayLypZuW4J+vXlyXAyZXNEM4kbyfj8Q02yIPuOPI4RKnE8mK6dpqFa9sHXJfx13Zq5247fnNWLd7LLL1yeJNnCJSsYqIFPf1NBnOeYJoNc9t2ItbFm/G6Zc9iQ390d2H4mD+6t0AgC+dOQ/Hz+31fJYWeW1qcBGJ/ksqoYExhikdtjA1XqBJjInGt95zFHSNYVpnEsPOJLBaZXlqZxLzZnYBAHaN5FAwLKR07zCzQ0qy3U6M5Q03l5MMV63ABEG4kIjk8Pc1/fjvJ9fiikdXN3W7ImlqmNmdkogUkBMpQidSpUFmLTNRQQwq4WwJjSFTMNCd8s5+dSSjScQ80RAhhOoAshrrdo/i2B8+grtf3FpxOdXFEFd4kxxxE8egt3lOpInfkZB/QZwduC17M23TQTRMCz/42wp84upFka3TlE7qOH+nEGDVc1xsPg6n0GQ75wmi1ci5hR59bVcLW1Kdv728DXOnduAHH3yDp58JlPpitQjnrojkCAmif5f1KaxCtDfiPJ7amcSQIyKN58tFpA5nuWzRRN6wygqSCIdbO7nRckUTb/zRo7jo3hVln02GVAYEERckIjmIG8WeJidW0yQn0iX3v4bjLn4kcFkxePAmK47LiVQhnC0iJ9L0rqT7d1dKx3jeRFfaKxrVKqJMGpznbq37etWOUQDAQ6/uqLicut64wtkmtBNpkoWzybs/LvGDc453/HI+Trv0iVjWXyvivParBlkvzXYiqec4jzGcTT7PJ8M5TxCtRp7cm9XT3s7qoUwRh8zsQkIvHxqknVw2tdzzilI4G2D384By8YFof0SOrGldyVI4myIETe1Musc4WzBRNMudSN3iHGgjN5o4H/eM2ZPbh8/udj+L8xlPEBMdEpEchFhRSR0vGBa+ftuLWB+hJTkh5US6adGmioMd0UZZWJEHho0meZVREy/7taMRxgsmejtLIlJnSseyviF3pkp0WPZxDalm15funE/V9ltREQlrLd0rM5QpYN4FD+KOJVvKPvPkRIpDRIp8jSXkfT8pZqOkk6KaU61eRIdrtE0GCUJE6k5F52g0LMtdXyPXTdXtmAFOpBgTa8vCFIlIBNE4WalfFsczMEpGckVM6Uj6flZPGJIczgYA6WTJpUJMLISINLUzhaGsfzhbb0cSXUnHaVQw7XC2hCIiCSdSG4lI6rjrgN4O93Wcz3iCmOiQiOQg+suVRJylmwfw0Ks78f17Xo1su8KJ9MTK6jZn0f+QOyKecLYIO/2VxIsoNmNZ3BWKAGDXSB7L+obcqm0iefi+6kRidTqRlGrggagiYSOd28177YoWf3puc/l2YhaR4jw/JpsTSd5TNz67KRYXV7uEsQHAml2jbo61LiVMth4457AsDsPk6HI6wrkIQ4hVxLUTlBOpktBfL/J5PimEU4JoMbJg0u5VMUdzBnoDRCTXiVTDPS+vOJGSevhqxERrUY+RCFOb1pXEkJPTdM9YAYfPKrl2UgkNHSn7WGed3JzlIpK9nrE2CmdTx337TSkV9IkyTQhBTDZaJiIxxg5mjM1njK1ijL3GGPtWq9oClBJUV1LHGUKO0GtAOJGedBIaAsEhOmLwIH8sD3Qjrc5mcZgWx0X3lgtmjQzc1+0eRd9ABobFkU6UuwPEuoX6v6/2NcS5VqvbQM1jEISaT6URPUEMPP0s8BO5Opvc3gWv92PJxvqr5bUD6nUbhwAiD5iiSMDfCO+7ciG+duuLAEphFI3w4wdW4vDvP2RXnNE1pBJaXbOUT64KnjB4acug+wwqVnUiRb9/DY8TaR+9+RJEhGSlPmWUYbVxYDuR/AV34SLK1XDPU3MiJbT2Le9OeFHdYsKJNHdqB3aN5DCcLWLbUBanzZvhWU5M2IznDZgWd6uxCUo5kdpHUJXHfRqzw/IEtZzvBLGv0UonkgHgO5zzNwB4K4BvMMaOa1VjxIAnzMAqysef5jPoD4rBNX1mpuVxRJQ5kQwdbaqUAAAgAElEQVTTwrK+QfzpucohSrXy3t8sxFlXzAcAjxPp6s++GYDsQILz/77d2ajdiRRSRFLW28gxFSFDSR8blLydOJwTcQoVy7aUqpn99sm1+OQfF8e2rWagXkqjPpVIGkVOmBqHaFgvXenGnUg3LdoEwBa4EzpDOqHVJdxfGOBkHRgv4GP/swj//13LAJSul/JJBeFEiiOcrbTOONZPEPsa8j2xnfLAqFgWx1jeQG+QiFSHE0mISGnFiRRHKC4RLeqEuhCRjtivBxYHFrxuT3yfdtgM3+VE3qQyJ5IQmdpIUJWvUYvDE9JJTiSCCKZlIhLnfAfn/CXn9SiAVQAObFV7xGC32WWNaxGR3NLO0qBCfh21EyloDBjVDLgoGSu/FlbX8846DEC8iZPbGXFa1Cq8+JiBfFE7cY0M+IeytrU5oZefy3KC9uue3oDHQ4RttgOWxXHX0r5WNyNS1Mt2LGQy9d2jOSxevzfUsu2S/0O9b3RFUOVRXJOjOQMJjaEjqdeVdPOMI2b6vi867a9uHQYgV2dTw9ns/ytV0KyXAiXWJoiGWdY3hC1OmHfW6Zd1JvW2Tig9VjDAOTy5KmWEc7wW96WaE0nkbIxjQomIlsFx7yRTpxOmdsTsHgDAwjV7AABH7teDf37zQbjxi6cBsI9xKqG5FdzUxNrtmFxddQj2SEIqJdYmiGDaIicSY2wegJMBPN+qNsiOhqDBT0iTR034DbyDHtJiLCE3L8rqbPLAK2gfaCw694cczpaQEkLvNyWNL7/9cAD7cjibTa0D8bDhbKqdvJFjOux0FoRVXUYWHO9dth3n3bK07u34EZdTTU08PhlQhZWw+Tk+efVifPra50IJurKTs5UiktrxiyKcTXSGx/IGEprmOJFqn03dX0raKSN2r7iGS9XZvMuVciJFf47Kg7sCDfQIoi7+6ffP4h2/tB3XIpxtRneqrcqaqwhHcVA4W4cz0VdLGLQQxkV5eBHaFEcoLhEtq3aMeP7eb4r93BLPrw177AJDUzuT+OU/n4h3H7ufu2xXSsdIkBMpLZxIbSQiOc/x4+f24opPnIA9o6Uq3ZRYmyCCabmIxBjrAfBXAOdzzkd8Pv8qY2wpY2xpf39/bO2QnRhVB1cRPv98nUgBD2m3OltQYu0Gk9rKg5WgAYquscjCVOQZCiFA5A0LGmNuguh9NZxNDCRrrs4WOieSEs7WkBPJ7ixofuFsMQ9E4+qLTsaZUvUQh3UibXJm1MPMyMmJtVsZzias9AK/c7NWRGd4NFd0w9nqyZcQJK6pkwCBTiTn+3EMxIrkRCKISMkWTXQmdfSkExjLG23rrh50ippM7Uz5fl6PE0m4UUSOGTFpSqGy7c9KRUQS4pEQGbcNZj1/y3Ql9VI4m+JESic06BprKyeSEHqv/fyp+OSpB+NtR5bcwuREItoNzjnW7hptdTMAtFhEYowlYQtIt3HO7/FbhnN+Def8VM75qbNnz46tLXLHPkhEisGI5Bt+VC2cLSgnUqMz//Kgz7C4r/NKYywyJ5I8QyFi5fOGCV1jroiyr05Y1etECoupOG0aOaZiBtNPxPRrv+isRkFcHfLJKCKpYsRoyE6cuDZHctVzKHlyIrVwH44oIlIUp4kYRI3mDCR0DV2phOf3hiVIGBeTB8LQVzT8nUji77Dn6OB4IXQ5ZRKRCCJaMgUTXSkdUzoSeGzlLnzl5mjduFGxZ8x2X8ye4i8iCSdS2LQJu0dy+PXjawCU7p1uYu19tWM3gdg7VsDcqSXXrOivdyR1pBMadjtuHT8RqSOlu2kOVCcSYwydSb2tcg2JcDbhWD772P2x/EfvA0A5kYj24+ZFm/APVy7ES1sGW92UllZnYwCuB7CKc/6bVrVDIA+iF67px1jeCBzs8gitSHLFt5MOngYguLSyGPebAaF3jc78y+sKGqDoGotM2JATa4vKXnnDgqaVStW366xdNR5fuQvXLtxQ/wpETqQaw6rCngNqOFsjx1QMNv3syX7tWROhgh6bEylgv0/U8xEoFy/COpFEosyxnIF1uysfu2ybOpGisI+mXSeSgaTG0J3W60oOqgq24m8xwy+eCcXAnEjCiVT93rB7JIeTf/o4vh+QzFul6KnORp1ngqgV1WWTLZjoSOquk0OuxNtO7B2z+7szu9O+n9fqRLr67+X9n4RGTqSJQrZoBBakEHmz0gnNt8pyb0cSe0bt80mtzia+104OHyEidUph70JQ+tlDq1rSJoII4kWn6I/Iu9dKWulEOhPA5wCczRhb5vz7YKsaIw94LrznVbzjivk4+aePe5YRff8ox0bydt9+5CwAwQ9pMXiQtx8mj1FYPOFsAevSWXThbCKZdkdSczsXBcOCzlipStsEnbE675alkTx8aj2mfvvLT/hQB6CN7GZXRPLJ9+DX/ihFpNicSAE7pJ06PrWwfShbJqOEzYkkOlaPvLYT7/3NQtz94tbAZXNtklh7VBHIonEiSTmRdIbuVKLM4fOJPyzCJ/6wCIB9LX737uVuomyBulsMV0Syzy01qb66vJtY2+RVz//XttshCfcv317l14ltls7vSZgWjCBiZ/EGbxGCsbyBKR0JTyGRdkQ4kWZN8ReRas2J1NtZLkCIcLZWPhuIcIznTXSndDz93Xfj6e++2/OZCE+Uq5jJzOpJYedIDkC5Ewmwn6W5BtNvREmmYNgJwT0pNkoT/GFc2ATRLES/L448zbXSyupsz3DOGef8BM75Sc6/h1rVHnXwPeDjQoojP4+8zmld9g25lnA2Twhag+EjnqpvluU78NK06MLZxAxGOqG7nYuCYUHTJBFpH+9r/PDeFdi8dzz08n6dM7/3yhJrN3BuF5ywG7+QGb9zclOE6nlc50eQC6Od4vjDMn/1brzt509hQ7/3PAorInU5JXlX77DFvyUbgyu1tYuIpIqAUdy7veG3GrrSibJEuUs3D2LpZttiPJwt4s9Lt+LDVz3jWUYV4UXbXBHJeV+cg0FOJPt15TaLZXsCZpRV5LxM+2o+OoKol0dW7MDnrl/i/s05x1jeQE86EenkY9SYFsflD68GAHQHFCGo1YnU6yMwCFeK2v8g2o9swURnSsfBM7pw8Iwuz2e9Tghbb0AS9hndpZBIXxGpzsqmcZEpmOhK6p7CNIwxV0g64ZLHsHnv+IR2ohOTB3EWtsPp2N5TI00kjLtGDEyiPG6yIDOty77xBotI9v9yW+XZ4kYdQvKgoWhy30FgQmORJXQVD5fOpO7GyhsWh84YmFbepokA5zwwHLEWxKNs+dZhnH/XstDf8zs0fueFemyjCGfzm6H0F7Ci6zxEGVoqE7Q//NxW7c6C18vDJ1IJrcytE4QIZxNU+l67VGd7ZeuQ5+8o7lme8FuNoTulV6wwE3Q/VjuirhPJEeBK1dksZ3n1+6XX1a4lcQzCHgt5cLevC/iTHcbYDYyx3YyxFa1uy2Rh3e4xz99jecMWkToSOOGgqe777TYY3TtWqkYVVOE1qTMwFt6N63dv0lsYzpYrmvjTc5snrLu92WSKhjuBpNLrOpH8P5/ZU3KzpQPD2dqnLyUEM5W7vnaG+/qdv1yAPy/ta2azCMIX8fzI1JFOIWpIRHIIM8iI4+EjP0unOTfmoCprfuFsHldSg+2Tf59p+YtImsYiE3aSToeiI6m5yXsBu6MhnEht1teqypWPr8HRFz3c8HqCOnLV8Ds2g+NFzLvgQdzzUikMSe3ENSJAis5i1ue89cvbEmVVqbhCboJmStupLG1Ydgznyt6bkk5gLB/Ooi1yA4hOXyURqWi1XkR6YPl2/O6pdZ73omiLPKOqa3Zi7UqiYpAztEzANf3D2QoVnEipkKWy3dC3kL9fvi+020CXiJybAHyg1Y2YzGwdzOKVrcPoSSfwhTPm4SMnzgUQ3gXaLMRg5Ff/fGLgMowxdCT00GFIYp33feNM9z03J1KTnw2juSKO/eEjuOjeFXiqTXNStRuZvOk++1VOONAWRE8+ZLrv5zMlJ1IyIJyt3ZxI3T5u3bnTOjx/v7R5qGwZgmg2omsWtg8fJyQiOYQRiFwnUoSda3mAsF+vrd4H3Vz9ZpVlNb9hEUme4bYsz4P+px89Hk98+512TqQ6txM0A9+R1N3E2oBdAU6EI080J9I9L2+LZD2yhpTUwl+mfsdGzI7etGiT+546qFywuh/PbwgOU6qEEJEKhhXK4RRl1a64zo+gpMUTMZzNT0Tq6UiET6ztdCRFiO9ohfwAHiG6Rdeu3yAhikGLWk2yJ207kYKeB7tHy/c7UO7wEfupoISzib99RSSnLdVm9EXbwt6zw4SzDYwXsHh9ffcKon3gnC8EMNDqdkwm1MmHjzv50bpTCWgaw9uPsvNeDmVa3/mXEYJPUCibIJ0MP/jPFAx0JnWc6BSMAUohQrUWDGkU+X41sXqUrUNUFfTjm+85Cld/9hRc8I/H+n7uCWfzdSK1X3U21XENAPtP6cA5J8xx/47L+T6Z2dA/hqN/8DDW949VX5gIhejPjbVBZASJSA6mhcAbZmmZ6G96FueY1pXE6p9+ANM6w4WzyZ174QqY1pVsWETyVHpTwtlOOng6jtyvx6nOVt/61YGcSMp3wkFTPUns9AmcE+nQmV3VFwqB7ENK6OFdSX4DP+EQEg9zznnZ4HPJpgF86prnam8ovB1ndZbSb/DeyqpdYREukk+ffrDn/XqqcbWaPVKoAgC8+5jZ6EknQoeziTwWYvmRCt+TT6tWOZFW7yxP3B5FW+QqNAknJxLnwYlmP3LVs+5rWWhSJyzEgErc98W9L++KSN71WrwkaFXLLWLWKCKJ817XWOC995SfPo5PX1vfvYKYeDDGvsoYW8oYW9rf39/q5rQ1QxlvLk0hzmSc56IYqLZTUmGg1EfwC+mRqdWJ5Nen1jXWcP7OWpHdMO0wez8RyBSCw9mSuoYPvHEOOnyEF8CbcNs/J1KbhbMVDd9zVdMY/vtfTnb/ngBd17bjoVd3oGBakzYUcNOecVx834qm9neFkzXsRHCckIjkYHGOhMZw4LTOwGXiCOM2nRxAHUkdul65Ipl4X/5YhFNM7Uw2PNsuD3QMi3vWJ4QMTavf/aF2HI6Y3Y07znsrfvLRN3pEJI2VnDhROk2uf2Yj/r4m3k7wnKnB50+9JHxmcoLwu5GJDmJStytivOmSx3Dt0xsja5+c+0ANaQub6LsW5O/H50Sy1/v2I2d73p+ITiT5+HzkxLm49vOn2iJSyN8i8lgIEalSHh5vcv7W9LhGsuWDhEicSNJ1mHRyIgH+IY7qPbySw0fMTYhOtRvOZoicSKXlxetkyCpHtf5scWxTulb12qJwt30Dzvk1nPNTOeenzp49u/oX9mH2+hRkAYBB530xUPUL/W4lWUfsChINBOmkFro6W1CemaSuNT2xdlaa/BluMxdYu5ItBjuRqiHnSkoGOJHCnkfNYDzvf64Cpf4PUR+ikp9fv2wy8J93L8ctizdj+dbmhDpyzrFpj10kpx0EcRKRHEyLQ9cYvnn2kYHLiBnjKB9/FrfVbgBVQ7hEvhF5gCJOommdyYZzNnkqvVmWx3klBi2NhLMVFSdXQmc444iZ5eFsnpxI0e3tn/7vSnzhhiXVF2wA9djV2345J1KihoeY37HJOR2oVELDM2v3RJ6PwSMiFao7kRod0Bc9A/KGVhWIcGp1KGWZ20lEuuelrVi0bk/V5eT93ZWyr7UpUjjbFY+sxi2LN1Vdjyhzu3Uwi88HXEdqXrV2IQoXqdyZTOgMnc6ASz3ngfJ73frdpcp4Jgemd5VmalUn0paBDOZd8KDrYpB3o3hdciJZuG/ZtsDzstb7z3NOSGs6qfnOuvI2EAkJol3ZMmBXHv3pR4/3vC8e58KJ5HfPaCVZxSkVRGeycSdSQmexuPqrtUUwnG2fZ3i7UjAsFE1et4gkVwNNTwQnUoXQPZk4n3g7h3NtlystCsTYbniSikhCJG3W2GD1zlFsd1JUHDqzuynbrASJSA4mt0WkSq6PODrNlsVd8ahaCJfYvixUiJjI3s5kw3Hm8nZN1Ynk5OWxw9nq2w9qLhxd8+YYcd9nEzecTY3zrlcw8YSz1SAi+QmQGccpkdS1WGZACxXC2fyEzUbFzmITypCL4yaHMAGlB8VortjyKi/f/vNynHvd81WXk687IVjbTiT7of4/C9bj4vteC7yuxfty+NvCAEdfOziR/IgifEI+1xK6VjFJrJqA84P//TT++uJWdz0zulP4zSftJLZiP4l7hzpDK2/Xcp1I9r3zpS2D+Nady3Dxfa/5tjnoGGzZmykTmBa8vhv3LtsOINiJ5CdoEQRhTzys3jmK8846DB89+UDPZ7/4+AkAgI42dSKJPkK1cLbOlB667Zmi6QrtMglNC53oPyrkNk/WwWyUiPOhmjMtiN5q4Wztlli7QiU6mbj6m30DGbz18ifxrze9EMv6W4kQcCfrdScSsjdLRNo6mAUA3P/vZ+Ib7w42vTQLEpEcbDGHVRywxyIicTucDSgJBxbneH7DXry2fdizrBgIyQM14Sbo7Ww8J5I8KC4Y3pxIIpytERGpzImk5EES2E4kp00TLGSiLCdQnYNXT2LtGsLZ/A7NuOtEiq6ynkzRsNz2Pr9xwLMP1AF2Um88qaa8Tzm3BZ1v37XMtakXTQtfuGEJlvfVby8V21A7QOMFE3vG8njTJY/hmqc31L3+ZiLfL8R11ZVOlM2Gbx/K+n+/hus9jsTaw9kivnLzC4GJqsMQxb3bIyJprGLIrV/OoOc32i4f8awR9zzRtoIZUJXT8p7vQCm0ToTJBB07v5+9aP0evOOX8/E3pQjANmkd6aS/iNQMAZdoDoyxOwAsBnAMY2wrY+zLrW7TRKZvMIuCYeGYA3rRk0q494fTD5uBuU6aBDecrd2cSG44W2URqSulhy4rnckb6PJxNiU0VrUgQNRkHVGktyMxaQezUSIcMT0+FcvC0BMinK2dRKSg0Eu/5eJACANLNk6+OgdCXGm3YgJRIa6RsDlGG0X0+aZ3paos2RxIRHIwLDsnUqX4V9HZj7LvbHLuhi6J/zmASx5Yid8+sdazrOjAy9sfyxfRkdSQ1rWGB23yQKtgeittiQeBxljd21EFFXlfyxXIdMbcfdGMCasnVu7CcRc/UvUB8ey6PXhq9a6Ky+QUi64qnIXHGzoTFr/BsghDSulaLEJo0bTcmaeL7l2Br9y8VGqP9/d3pxMN5xaT9ynnHDcv2oR7Xt6GPy5cDwDYO1bA39f04+Utgw1vQ93343kDa3fZVSaeWjUxSgXL150QrDuTOrIF0+NGCcp1VMs540nOH9G59pelfXhi1W5cvSCcaOcXwhVFW+Tdk9A09/6VL1p4z68XYP7rlc+HbLFUbU3XykWkINei/HOEcONWZ6uaE6n881e32pMTK7ePeN7XJOXadiIBy/uGPKJwHMeXaA2c809zzudwzpOc84M459e3uk0TGZFUe2Z3CprG3FwgcoiYG85WtCcjTr30CazYNly+siYTPpwtEVpE2jGcwwFTO8reT+jNT6ydLdj33v17OypWFyVsRK5VWQyqBVl8EteBTDqhId9GbrxMwfQVPFXiCjebzMKmyBn52vYRPLB8e4tbEz1CeG/WMRx0njPTusqvq1ZAIpKDZXFoGvOEVQFKDgjndaQ5kZxcTEDJJcA5R65oImf4h0Z5cyKZ6EknbYdQgw9mecCRK5pKOFvJiVRvGI/acUgEuI/k/dGM5K1XPLoamYKJvsFMxeU+c93z+NebllZcRg1FiaKzVEtiP79B44iTAyCV8IpIc6Z2YI5PJ69WDIujt7PUaViza9TzmUx3KtFwPgR5n1rcK74CJTGkkdxL4lqSxU3ADv0S1c5m9kQ3E/CZ657Dt/+8LLL1ycjOLyaLSEXTc74G7a9anGNqONtwphjZw7WR8rpRJNaW70VJnbmC3LahLNb3j+OH966o+H0hxphWqdS13Da/+2qH4ghSnUhVE2t7XEz266BKTLosIiV0jOcNfPT3z+K8W0r3PHk/khOJIEq47g1n4D3DmSkOEpEeX7kLe8byuHnRpuY21AchDIUKZ/MpJKBimBZ2juRw0PTyQiNJXYvkflwLmaKBVEJDT0ei7UIJ2xGRa7W7TieS7OD267/aOZHaw4nEObeTiFf4reI3xCUiiaTTLHxXf8KQkcrQf/OOl1vYkngQBougogpRM5gpIqmzul2CUUMikoPpzg57d4maJwiwZ2dfasDloK6/JJqUqrPliyaKqojkDI7lgVr/aA69HQk7WWGETqTF6/fikvtLeTZErihdq387qitHfbiIbWjS/mjGQEVsIor7d1li6TptN/U+TPwGlWLmLankOZnSkcDiC9/jG7NeCwXD8sTAyzNPanu603qkibVvXrwJv3z0dQCl41iIQEQSwolfB2iZEyY3qydd9/oFnHP8eWkfnl23F/e8tK36F+pA3g3i93SmdFgcGJBKUhcCOnVhNaSiaeGVraVZdcviOPEnj+HEHz9We6MbwO+oR+JE8uREKrklxX6rJvYKEYlzDl0r3e8rOZE6k7rn99TuRCq9FssGiUjyPSehMXe5p9eWkrfL97Mm58YliLZGpBYQnfvp3Y6IJF1nHVI4264ROzx3/97GJ3IaJVc0wZh/EmSZrmS4nEg7hnMwLe4rIula4yHttZItmOhM6jWF4+3LiFyrPen6EmsLgtKDTEknkDes0Ena4yRXtMB55VDO57//Hhw3pze2vDciWqDa9TfRWLFtGEOT2GUFlMYjzcqJNDhewLSulKf4UiuZXGdsA5iWnZtIDV+RH3ayA+J/l++IZrucu513OZl0wbTKwkvEIECMZUZzRSxcswfvOHq2HWbW4EDpH65c6L4eyxueh21KDmeLzInkPf2Swu0k7Y9mTFiJTURxTZaHs9WZE0l6XYubye/YCCdIQmNlITlA5ZLtYSiaFg6bVaoSICenV9venU7ULAxe8NdXMO+CB6Xtlb7/4Cul61A4LcTvCXOe3rdsG0772RNlYp/YhupMBICtjmMtTAx9JbYPZXHl42vw3btfaWg9tSD6dB3OjPie0bz7WaNOpCseWY0XN5fE9adWt0+4XxSDFk+OOCmcTeQyqnb7cJ1I3Mm/p3tFJH8nku6bWFuuzgYEu7Tk7wqxSwjdauiKHM6mMX9R0RPORk4kgnAZVfLIzPARkeTqbLtGone01osI56k2MOkMEGEWrunHvAsedPN17HCqB82ZWi4iJTTmeYbHzXC2iFsWb8ZwtlhTON6+jBgQ1+tEAoAH/v3teOZ7Z/t+doBzXuwayWHtrlEc9YOH3LLlUTGaK+L4ix/Bgiph5qUk4sH9uVk9aRw3t9cVigH7WXjZQ6sC8xHWguijq873iUzfQAYf+t0zeGD5dhzo5IQ79dDpAIBNe8abnhctLkQ/qVmC6GCm4Lpc24HJc8Y2iMXtcDZVOZc7zXKHvLtBhd5dpyUl1tZK28kbPiKSSKzttGnvWAEF08IJB021kxXGqLiIAU+ikcTaZmUnkvhb/M9YdCETlULwSmEqjatIanW2ekMM5b5cLQNg33A258FnWLzMTQE0nuOraFpuhxmAp3Sreq4kdS20KPb6zlHsHM7hzhf6PO8H7Q83nM3wikmV+MHfVqB/NI+M8gAQ7ZYFsQv/8VgApdw2Qc6dsHzod8/gv59a19A6gNrcbsLlJzpM/ZKIFJgTKeT58aqS2+O6ZzaGbleU+J3PUTiR5PUmdQZxaoh8G9W2kHNzIsFJrO2EpPHKTiS/imhC1K92Dsr3A3F8hYikVh6U+6+MMd9wAwpnI5rFovV7sLxvCEdf9HDVfGPtgBhgTqkQzpbUNSR1hmfX78GGfju3XjvkFssU/CupqXSldN/ckTc8a9/rb1+yBQDckO/ZU8rdunYfoHkDyM17S+JEdzpcON6+hGlx/OrR1z2FK1RXXT286aCpvjmxALhpFLYP5XD/8u0omhz3vBytE7tvIIvxgokv3vhCRaEnEzCpotKTTnjC2V7YNIBrFm7A9//2asNtFeFs7RLiVwvXPb0BH/rd02Xvy4m0507rwHvfsB+yRRNbBzN4168W4DePr2lmM2NDRD6oqUziYihTbJt8SADQHkF1bYDrRFKUYLnTLL9uRKHfO5bHmy99AoBtX5w303ZxiJlgzu2bSUEZvYnBs+i8i5M3ldCgNSDuhEGIa41sR/2eKiKJ2FIxG6YxFlkS80oCWyNOpAWv78ZbD5/pOjtUNbqexNortg27s5QAapq18/uZuYLIxcI9YlqlSoS1UDQ5krqGX3z8TfjeX1/1CGnqfk9oLLT48v7/WuhpI3eS0AuRSIUr10WY8zQo55YYcMvbFzPK4hjnjcZmHgaUGOpUDVX45N82njcxtSvcd+XE2gBw1fySiBWcWDs44bauMVyzcD12Duc9TpZ2IwqB3VutUnPvU2Ims9q9SoSB2NXZSsfCdSL5rCCd1D3nqHiddJxI1Tou3oqb9rJCMFW3Jx9m1Ykkrj1PPrI2GPwSk5dzr33efX3Xkj68+5j9Wtia6owp7g0RztaR9N6biybHcxtKVZgKbTAjnyua6ExVf4Z0pexw9IJhuW7IG5/diAWv9wMAfvno6/jy2w/D3gp5A/WYJzxVhOh1+mEz0JXS3Wq1hM3zG/biqvnrsGbXKK75/KkAGq/OVg0hIv3fvyzHO46eDaBUdSoq5KHcn5f24fz3Hu27XMatTFj5t/akExh3ipEwxiINXxJOJFHQqJY8qK3m0gdXVV3mwGmdsLjtcNvpuBSf27A37qY1BTHeaZYTaSBTwJGze5qyrTCQE8nBtGyBRA1nk50k8iCiu4FQltelxMN5w5JyADnb4fZD2lNO2eKuQCD+F538lK415BBSUTs9QEnY0RvIU6Q6SMpzIpW2Adj7I6qBSkU3j7OJWpN47xrJ4Ys3voB/v/0l9z31RlJPYtNG1GwAACAASURBVO0L7/HObNQSbuZ3DogQu6LJywbCUZAtmkjqGj512iE49y2HKE6k8mNeSxiM3NkUne0gYU6sVuyvmsQ3Zb+J7cr3AyG8iNki1XXWKLXMLsjnxFgNM6tC6BGip8jvZK/Tf38FnX5CPLnsodW44dmNsYlItcZ++4V2NVJ0YPXOEfQNZDz3vYRWSqz9l6VbA7crIwYzanU21WEqYyfWLv0tXqedazdbrHzs5e/mlXC28hDO0t8a84q9oqMt30cpnI2IC/V+HFShNNNGrpKxvIGOpOZOhp1+2HQcOK0Tp86b4VlOnbxp1NEaBZmCga5kdcFAuJXEPYRzjh8/sNKzTL5oYc+YLQj4hV2kEs1NqiwEkYvOeQM6k4nYyrRPVLLupFjpmEQRzlaJuU5407ahLO5w3GvqpFqjyP2zg6d3BS4XJpwNEJWFuTtxI/ZbOqHh/uXbsWrHSKWvV0QOsTzj8ierFuloR9T+i5za46DpXehOJzCWN91+fFTjj1bjOpGadE8byhTcCYp2YHIcxQiwnGSn6gNeHsTKF0k11boWxLUkBmGiUyF3LuSBs+hgiZM36TiRoprdqfTb9IbC2cpdKTJiZktONB7VhFUYJ1Kt+08Mup6QSr2rs4r15BtSc+3UIkT5iW5Z14lkeQbCfvl+auXOJVtgWtxNDNiR0D3uCPXnhz1//Dp64vwJ2h/iXXHdhLHMBx17V0SSprPEccn7dLqioBZxVj6v1AT8lRCCtXyOzXJmi4P2V5ATST1GcRuRGtEsGrk3fuC/nsZZV8wvF5GcfSkmBaqZDnNFE30DGQxminZ1Nl3kwCuFs6nCemeVnEjiGDy3YcC3dLX83TIRSdknqogki8GiTK8Z8DwkiChRkzdv3lteOXXtrlEcd/GjuG9ZPAUJamU0Z6AnXZoIOPvY/fHsBWeXOahu/fJbPH+3QwhLtmiFyvEnBtoZR7zePpwrW6ZoWdg7nsf0rqTvQLE7ICQuLmRXjZ1Y22hK1d+Jgrjvy/3BsYJdzS4Z00C/I6nj6s++2fNe1CXS5euq0oSHmyOwyvkvkoyL80kIba9sHcZ/3PEyLvhr/bkt5fvd7tE8bn1uc13rWbFtuGoOqLhQ79myMHbQ9E70pO2Kr2KiPYrxRzsgxhsL1/R70kPEAeccg5kiprdROBuJSA52B14rC2eTO+GekveNXADK/UyIR2IQJi5GuVOv5ma6ZfEmvOpUQko7TqSoXDuVYoM1jYXOkfKHBes9NzT1JqMOmMRMmBjoRpkTqZIQIzoUtQ6K1OU55yia3HOB1zN4VWdEarG7+z0sxU3bsLxOJLUSYT08+Kqd2Fo48+zSrV4nklr1Kcx+3jtefjMWN+sgYU6cK+LzMPte7C7T4tg9msMHf/s0tg1lXUHFE86mOJGitq/W4mySBdlahErxc+Rr/AtnzKu4Hvl4vdlJjAiUd/riciLV2uH3W7zR5PGA19WTM6yaf2/esHDWFfOxascIdMbc74vz1LJ42b03ndDAeWkfqCLSvcu2u8te5ZNfS75/ivM1W/QXkeTwaaaEs43nS25GAY3DiLgYVxxGO0fKxYqXHRflwjV7yj5rBdmCESok7IwjZuLYA6a4f7eDEylbMKrmhAFK4U0iZ8763WNlyxRNC3vHCpgZUL20O51oWiUjoJQTsqcjga60nWOuHYS7dmHU2T/y2GcsZ2BKzCXEP/DGAzx/R51jT+6HVrrGSuFsVUQkJ9eZOHcHM948RlsGyoXusETVl/zQ757BF298IZJ11YoqDMu5x4QTKVs0MTguCv1MDvlBPrf+9aZ49/1IzoBpcU8O2lYzOY5iBNgJrsvFIU8i0YiSiqrfdEUkJ7GzGEx63AZKWN3F972GH93/GgB7QKFrWmROpErxuHqFELPRXBGnXvoEFq/fi5FcEb94ZLXnhrZul7fDoe5rMRMg3s4UTNy0aFMkHY5K4Wzi19QqIsn7m3Puij1yRZJ6EkjKnbkzDp9Z0zr8jo1wBhmmN7F2MoK4a5FEVMSbdyR0T9icYXGPECOq+2UKBr504xJs8ZlhBvytzdVEJDWcrZaE5IbF8beXtmHljhHcvGiTKzp6wtl8nEiPr9xVNvNjmFbNA4Pj5vTW1LENujeolOUhU3IiAcAMx4kUHM7GccTsbvz+3FNw9P6lwc9e5RjFFcZf673Wb2mRx6MR5H25bTBb9nuriV2yGKxppXK+ssjboQzkhFgkVi3+95sh9ttP3nA2R0QKG85myiISOZGI5pHJewckw9li2fWVyYcLQ2kWecNCRyJcW8RzE2gPESlTMEPtx95Oe4JMOI/9xD3D5LaIFDDQ6U4lykTCOHETnqeT6HLur1ShrYSYDNKlvs543ogtlE3mnq+/zX0dtbAnX1eV1i1yBFaLLul2Ph9zRSS7/yOep43kMfLLbdiIsNQKp50qIpU7kez9J+4Zcbncmo0sVjYiJIZB5A2bRtXZ2g+RzKysOps0sPKGtjW2LZlS+Jb9t4gllW+Ccod/RAlbSCU0d3AYhRupUm6PSuFIK7aNYM9YHlc+vgZLN9mJI+XqHCuVmOEyJ5LTiRFOJLG/b1lcn7VTptKAR3aj1LvOoUzRPV4i3huoLS+PQAzwNWbnRKllHX5OpILkzJHP54bcdA67RvI44/CZbocj7eTTEjdWNUlgQrfDLuev7sf81/tx+cP+SfmEQCEnm3bFoSr7o1Ahx4yKONdNk7uD+nzR9A9nU3MiGSbOu2Vp2czP2b/+O46+6OGq25bpSukomFbo69cT6lrhZqR+VgpnK/0u8XAPrs7GceJB03DOCXMgSzSiAo+g3k5UwbBw2s+ewL0B1VmiKgctkjru9AnBCAPn3LVgpxNa2e+t1kr5mGmMuXHtQ05n1OK8zMkgOlpWgBNJxu89+RoQHVURilIWwqmIXPJ+Fx1nyolENANVZCgYVtlASyRI7oqoUm6j5A2rTAQOQl6uHUSkbNFERxgRyRG/hLtnt4+IVDAt7BnPY1ZFJ1Izw9mK0DWGjqTmCgXNzqXVrKS79SCqaMlPs7G82RQR6ZRDSs7mqIW9vEdECl53NmROJNeFJ0Qkp48qnL215m70tMHn/OhrQJBohUiaUfIzym2YM63DPZ92DNuV8qIq7NNq5PPMrw8WJU+vtQsYvGHOlCpLNg8SkRxMzqExVhbD7ek0y3mJGuhAq4M1cSkJR5KoplUMELDk0omAfeIKQSAKN1Kln1ZJRBJiRTqpYcCxLModCbmEKFByRQi6XCdS9DeXiuFsCC86ACWVX17nzpGc2xl82xEzceJBU2tap4xwvFjcHkTWEopTaXOmZXkGflEktts9msP+vaVjXBJiSsKVLMTomgbL4m6IW9B1JGYP5YF6vqoTyQlnc5cLH85mWBbSkkgk2iU7blOKc0Sd3RrNFTHvggfrmo0Qxzxs6KJ8nVc6P9T7gZpYGyjNiqvXyK2LN+HJVbtgmtwVn2SX3d4xrxOp3k7USK6I/tE8zr9rme/ntQ6ygu5fY3kDH/zvp/HWy5+s67o0OcdZR83GVeeejG+/72h3nwhqeSZojLlJZ4Vgapjl4WzinFOLKvhV8kv7uCDkGclswUT/aB59A1l3ezJyOJsaqjeeLxeeKK8IERfyAEQM3oay3vuNEJ3DhGE1g7xhus+/aggRBmiP6mzZgum6dCoxpcNxImWDnUilcLYAJ1Jax1jeCJw0iJqxnIGedAKMMfc528ycTAvX9OPYHz6CeRc8iOFMtHl/okA4auRrbixfdHMANYtsxMJe3OFsYowjaEQT8TsfNwW49MOwd6yAV7YOYdtQtv5G1YgqXMnCaTqhuyKSmMRrZoXGOJHv32Hv//WyZNMgDpzWiePm9Ma6nVogEcnBCnIiBbiPGnH8qIPPpZsHAZRyIpWqaUlOJGl74qYvSOma2+mPIsSgqogUsIBcLU68lvemGl2kihii8oc6wx+FplQxsXaNTiSxLnn5nSM5V7ToTOm45CPHAwiuJFYJuVNcs4hU4TcYFvd8HsVMwNB40WOtFOJETnEiPXfhe/DCD94Lndnt0FwRyX+94gEku+LcqmsBX+LKcrVcC6YlOZGMkiNIFjTFwN2vOlu2YGL7UH0OF6DUgQmbF0k+JyoNQtSk2345kUQyWHU9P7zvNXz55qUweSkk8evvOgK/+/TJYAxuGWd13bVS7V4q2tXoYGu8YLhhkiu2Ddf8/YKTB+lDJ8xFVypRJrTsGgmfVFFj9n2iM6m7M5oW52UW73RCcSJZtTmRvHmcTHzqj4vdv9V7k3xOqYLgovV2OV7D9H8eEkSUyCHsh8/uBuCdPOsbyGCtk4+nngqocZArWq4Ttxpb9o4DsJPLtoMTKXw4m+pEKr/nZQomhrNFzOz2dyIJN9D5dy2rK9y/VkbzhjtR0u0II+NNFJEWS6XMNznHvZ3Y7ggNY9I1N543XfG2WUTuRJL6UhXD2UIm1u5WnEhDyjiskTmVvGHi9MPsKo5/chLvb9pT27ki96P2jufxkauexfuvXFh/o2rcZlA42+3n2b9HiJIbnd/Vzu68WpDPs7hFpMHxAvbrTTfkeosaEpEcTKXsskAIBs9t2Isbnt3ovt+IVhNkrWSMgTEph4006Jcftr5OJKfdv59fnly1VtQwJ/lhorHgBN7CIpxKaCg4v1F2cqgz9Wp2fjETps7wR3G5VOqs1CwiiXAp6ffsGs55RDQxGKyngyt35pI6qy2crZKIpOREiiKxnSwwAH5OJAsJjeGAqR2YPSUNXdNgWty9CQY9eF0RSfq8WtU1sawQG8KIb2L1hsVdJ0euaLr7SRYK3GPq7GP5Ot42lGlIwBWijp+t2Q9vOFvwdtV9oLvhbLKIJJxI/on8TavkREroGj584lxM7Uy6iSUFrM4rNUgUdD8XzrLQgy3/9ckD04FM7eWEhzJFyBpPI45JcRxmdKdKTiSf6mxCuFSvE7/KJn7uJDWcbYPUMTWV80bs39u+8payI3nXC33IFAzKiUQ0BXlAedo8e3Al93vWOBURgfYZjNhOpHDujavOPQVfOnMejtxvSlskeQ4fzuZ1Io3myt0jIsQtyIkk9xcacVuEZdRxIgFAZ7L54WxTO+VCK60/1irCrbJk44A7odGsnEgyUbvDPOFsFSbnMgUDusZ8n58yajib2odo5D6ULZh404FTsenn5+DtR81Cd0rH9uHaXETflarDiWqWYzEmsN85nPOMiVURMFMwkdI1vO2IWQBK4vH6/nHn8+aGlMaFPA5Ihbz/18tgpuA62NsFEpEcLEuEs/k7kb5264ve5RuQnSvNPGmMeW6mpQGxrDIrTiQpP8dVDYhIYib7px99o+f9FT9+v/s6yIlUNC18685l7nryrhOptD/Vr6kiRmdAOJvfWO2RFTvx7LrwVVnCWCfD5vgQM/hyeOPOkRyuXrgeAJCUSqPWUxUqLblEOpJ6xXhulUq/wbS4xz0QRYlNi3sHvn5OJFkUFNXZpLPCd71CSJU/dXM7BYgm4poU11eoQa4kIIpm2uFs9mtP25X9JT80+wazDd0ThAvvc9c/H2p5+XyuJJCq7h0h3skJYMUsrfceU5phVpOjA/a1WxYqV+fTRBUzVIo1iIKVGMub7jGuJ6xg92jeIyr6/d4TnDDWaojjMKM75bqj1PxhQIWcSD4dXj8nkiecTenkqsevaFqY1pXEmUfO8lx3F53zBozlDfz2ibVY1jfovh91NR2CEMiCrxCRhp1wtqueWosv37wUgH0dhBXe4yZftELPRJ955Cz86MPH2xNuLbb05YomCoYVqhpXR1JHKqG5eTn9EmTvccKcZfFERnbSq3n14mAsV3IidbUgnC0jnctjTcwFFQbOObYOlsSK5xzX1GjeaJoT6ZtnHwnATnAdZYi06AemExoKZvB+zzihnNXcHUJUG3edSN4+hF9y7DBwzpEtmh53+NTOpK9AW4m7X9zqvlbzz8bBp699Dpc+uMrts6iikF2tsnyyUvDSlqFITA+tRj7ucedEGhwvtFVSbYBEJBfhRFKFDTEQPWh6p+f9RjrQlWaeNFYagAPhQnOqKehh6U7p+PwZh+JtR8wMXEZn/jmR5N+UTkjhbNJ9WRU4ypxIIrG2ci/3K6X9b396EZ+5LtyAG6iSE0nkOAo5s140ysWMXSN53P78FgD28RCdyUas6mccPhMdSb2mDo8liSEqRcvynLeqKFJPYmTL8oa+iIeGEFgMU6nOptmJtdUcLypZ14kkhbM5+zIXIKqVwtm45/8wGBb3OIw4L9+P6nU2JJW43zqYbciZIR7Aa31KJvvhrc5WKbG2t03ikMvimHi43/rcZtdqLIcpmI7A7lmPVh6GVq/FVp6d3T2awzdue8kziBS5esIOtoJuzeN5w50NU63oK7YNY94FD1ZNZinvN3mfiEpEYe/FQijv7Uy4nUXT4mUCekoNZxM5kXxmvPx2v6c6W9HEGYeX7u3qrHjBLOUvk6+7g6Z3AQD+uHADfvXYGmndJCIR8SDCpf7ppLk45gA7iahIxvzHhRvc5WZPSbePiFRDYm1BWi+5tluFuNfv19sRavmDp3di8fq94Jx7nA4dTiifEJiCwuN6pMp0/aNNEJEkQUS0qVnhbJbFceOzm0ptqVEYiJvdo3lkCia+/q4jAJQmqMebKCJ9533H4D/ffwxMi0cqqIrJ197OZEUnUrZgVg1lA+AITfYxtCxe1ocomFZd4ZlF0+4Py23o7Uy6br96eH2n7dTs7YjvGIq+4hUfPwFAuRNJFcb8nG2/fPT12NrXLHJFE/Nm2n2kpMZw3i1L8ZGrnol0G6bFccblT2L7cA4zuv3F+VZBIpKDYdoikjpwFAPLebPsuPxZjkW3oZxIFW5ojDGPslkaEAd/J5XQPIOuehHhFAldwy3/errvMprmH84muwnk2TV5oKEOOtRBp3jAq2JTFPGflWzEYmthj6lfTqRdUoLJVIKVVSk78ceP4crH1yAMoh3Xf/FUdCT1mmY4TF5eJtz9zOKeNquCaT3hObYTqfR3jzJbYypOpYTGYHHuns9BM0/CGiyLIHnnO0EPVzextiu8hglnE8fScvdNvmj5CidqDi9ZINw6kGmoWpWo6Bc2Sawc2lWoIJYNK/vKTygUD/ctAxl8/A+LAAD9zgxxR9IOP1SdSDpjgUm7a0Vez5WPr8WDr+7A36Skq+J4Foxy54wfgcna84Z7bQxnvffLvyztAwA8sWpX2ffkYyL/RnlfitLXak6jhf/5bt+2iEuvM6m757rq2gMkEcn5qZWqs/mJmCYvJbHPFU3oGsMph0zDflPSZcJ60bSQ8nEnijwoYbZHEFEwnCmAMeDXnzwJ3SlvqK98L+pM6aHzyMVNLYm1BbJru1WI5NgHhBSRPnbKQXhl6zBG84ZHFPnA8QcAAEace2vQwPwrbz8cF3/oOABNFJGcMLwu51kXdRLnIBas2Y1RT66h9hKRlvUNAQDeefRsAMDAeMF1xtQqiDaCeMZmInRq5Q0LjNmT49VyIoXJB6ZpDN2pBMbyJsYLhu8EaD2CtviOfO/o7UiWVeGuBVEBTUyaRY149v/He47C+99oX/ejSnvV/dotJWr/2jsPx4zuFI7Zv32qjNVD0bRgWBwfO+UgvOuY2Vi7ewyPr9yFV7bWnnOzEnvH89jhJCQnJ1KbYnF7FnhaVwpXfPwE/OaTJwIoXSxznAfsDV88zX4/hpxIgONEKpY7kSrN+qZ0LZLYV9k1og6GBAmtfPAIeIUf05Lz18giUuXtd7sPeP/qdY1QacBTa04k97c5y3endDckBQBSui7l17GXHc4W8dsn14Zav2hGR8JOvFswrdBtszgCH/5F0ysiqU4wPxHkl4+uxtV/Xx+4PVHVUODO9OVLA2O5069rDIZpufvQ71et2TWK/1lQvk0hnIxUmc0T10wt1R8MU3Yi2eFs6oC+UvjfjuFcQ8Lyh06Yg+ldSZxRwQUoI8/YVcoVpHbS/QRZWZAQgwJRITKl2yKSrrrWdFZ2T6o3sbafS9ATxuhTla9vIIOjfvAw/uyIPzJB18p43nDbrFZ6Esfa77vy75J3g3zeixm/hM7wzbOPxOUfexM2/fwcHDzD62BVv5tWRCRVrBOirHhmCKHU71xU254rmvjDgvXg3L7uskUTecMeHNgJ+73LG6aFZKI8B5PIg6JCGhIRF4OZIqZ2Ju3S7KlSrjrArvAJ2M67jmT7hLPlaghnE8iu7VbhikhTw4lI051BzHjewHjewOfeeih+88kT8aUzDwNQciIFTYikEhq+dOY8JHXmTlbEiZwTSeTdbFYJ9BFlsiLOHDX18MrWISQ0hhMPnobejgQGxgswLQ7O4w/NkRH9xkyE13LesK/HdEKvWp0trNjSndYxnjfce466j+q5F4n7mtxv7+1MlJ071ZjRnXIjZkQFtGQingTMop/Y25FAd0qHrrGy8D7V4SU7246Y3YO3HTGz4RQFraZ07DR0JvWySduo2DVcuk8GhQm3ChKRHAqG5d4QPnnawW4pa+FgMTnHlI4EDnMcSY3E7la6oTEwj4hULb+LxmyHxGgEDyc7J4e9D9RQJ3d7WvngEfA6fQqG5Sr/8mC32j47501z8OZDp+Pdx872vB9FIvq7XigfbLrtct0o1UPegHInUjqpe/ZJKqFJlb7Mmm+UYl2MAZ0pb1n5qt9VBqLymNRUwtnUB6Df7//9/PX4+cOrfbfFud3ZkAfT3SmvE0lNFqw7OZHEebHg9f6yGZeFa/p9t1eo6kTyLhcmqbksIArnUt4wYfmEswUJq4B9zjfizNA1hnmzukOfK/Jvq/QdVUSqFrIozgmR7Jo54auqS80vrLVeJ5K8Hr9ViN8ni+/r++2wvweWb8d9y7Z58qMFHQbD5K7gpuZEEr/P794mi6uenEhSW4UAntI1fOd9x+DTpx/i/J6A+6iUm0oIzaprDyh1vMQy4rf5JcVXj4cssHU6jkYx0E3oDKZlYedwDjc6yTGL0iSCvB+COi0UzkbExWCm4IoVbtGBgteJpDHmcfK1mrxhevIZhiGhs5ZXl9vhJFbeP6QTSTgKxnIGxgsmpnen8LFTDnLd1+L5XClEiDGG2T3ppjiRRnNFV+RXw+3jRjjUf/svJwFoPxFp3e4xHDqzCx1JHTN70tgzlncnFyr1d6KmUxGKoyBftBM7226/4PVmi0YoJxJgP+fHCgZyzkT34c540F1XHeeVcFJ6RKSOZE2ChGFaGMwU8LGTDwRQmmiN6xEt+uy9nUkwxjCtM+lJ7wCUO5H+H3vfHa9JUWZ9qvvNN8y9E5nIEAeGnLMjIKiwYEYxkAyfEVdQVzCBYlgVXdE1C2sWRVkFQQkCApIlDWmAyTndufFN3V3fH91PdXV1dXjTvRd2zu93Yd7UXd1dXV3PqfOcp6gc32RQYbYKmpcVs2aING8nQbZRynQZ76qJSdhJInmQSSTAJ1FEGoFD6W7RK9ZJ2DJcxVjNCtw4Ryzsx9/+/RXitapE0qWFyaA2tyPX2nIcscIdVf49yhNJfq9m+ySSfCPpjGNlzOwt4A8fOBb/duCcwPtxwWmaVbzlW0bwe8l0ToVMPlx+w1NaXxT5kC1F6ZJVVBlZkwWqlDW6OsG9FBTGmHiwpN2Geo7lFCzLUZVImpLgDfRrYT4tk0iUzubJxW3JZwXwjLU5D1y3X96/KrDdnog87ppQItW1/ZOuQd1Le0pTCYV+I3si2V5VRJU4iZtUWY7TkPJJhckYsoaROqCQ+0NcdTN1kp6kFqL7X1Y36Yy1De86yv2lWRJJLjUvtiDdTzSWlKW0FdoX58BHf/tYwB8tamy2HC5SItXiBKS00l1DuRsZCiFKoMlS2om3XyXPEOO9oxkf6X4iHzDqrwYDvvC6/QLfVdsuG3OSYoOUSKbBUHc4zrvmQVx+w9PYPFTxKimGlUhd+YyW3NuZzja+YIyZjLE5jLEF9DfRbWo31mwfw4tbRrBjrI6+kp8imjWZUCnQPcLgBl6TQYnEORfKh0bgKgInNpBaun4Is6cUUq9w00IRPVuodDeNHRTAlrLxwc6Mnjw2d5hEogVNCrzyGQMGG7/KUBuHKujKmXjdwXNRyLbHdqKdeHHLKPaY0Q3AVbIMjNVEzDGeSiTyEmynKm/raA1Tu3LIJ5AVYyk9kQA3gB+p+Eqk2Z56j57/zShR6HzL6uLeYmPpbANjdXAOTO/JB8iMsZqNL9zwNJ5a3970KkEieSrlKaUw6TWmpETKC2q9xYxneP5SJ5G8VMSsGVpAGBhtvAJwFGQSKS3hOV7YSSJ5qNlBEokmKhSIOp7iwhQrtY3v44gv3YZTv/WPwID2+/cfK4wjAXcfQU+k4Aq0Opmnwfeg+X2NN0iC45kd0/FFlX8nJYkKOfi94fH1uO4RdxW8LvmYOBwoNPFgiotN0wzaqxPMcglL1w3imntX4iO/eTT0WUBppZidZ00jUPUslzGQMd2KeVXLEalBaeFwP5guKKuwSVDTy/IyiWTzWCUS/T4t6PjluJlWKT/3p6cwOFYPKZEMUiJJ90BBMQnuiUifqQslkiUCDBk+GRj2U0o8Fu4TbJz797sMnWcaoWa3ZgrJvLElbWAeIJHi0tlGKsJTBEgmeqhPUH+n+2tqVzAP22SuN5pMAMURVHEqxKRjpr4vV7kxUiqHZMhplGpVICLJdJXigkokSP+WvVn8dLY0oJ8WMn4QbGmIS5oQ+kQT/Z7hnGMW4p7/OBG/es9RbjuV81iV+ghNfkmJ5BKWjiDMHe6mIRNJxqWEwqzJRBqIjJ1KpPEDY+wjADYBuBXAX7y/Gye0UR3ACV+7AydfeRfueWFrYLIsF5iQ77FGC090CnXbVeU2RSJNcNn3J9buwMENzB9L3jN+syCR3GcxzUVJiVTIxZ+LGT2FjiuRiCwiLyTGXF+b8VQizfKIhp5CNpTyM5HgnGPVtlGRXdGVd/1+aJ6l88fr1uDO6gAAIABJREFUFFqpZhyFdQNlzO0ver6iMdXZquk8kQD3OSqns5FacvHsXgBugZ1GIVeRI/QW3IIbaRd1aT4zvTsfIMS2j9Zw9b0rcM5PH2y4XXGgVDtS+E0pZjE4Vsebvv9PfOCXbiXzSozXVG8hi9wkINBbBSncClkzMM8GgO1j7SOR1kkVFDvlc9UsdpJIHmqWE6isQ0EFkSMUnNMcv9kJ9NqBcmzpRsaU6mwWxyOrtosHs6oIoCo95x+7EG/wpIzNeLNQoETbj0xnY0xLoKnno66pqMRjTJ/jEPcoGywn36hJkklqOR2C7vtygPbU+iFsGqqI93KmEQiS6WGQ92S0DSuR4BNBahAZh0dXD2BwrB4gbRbP6Q0cg3wcukpSjagL/LQ7KZiWru9QpQ7bcQJ9iTy15H6hyjOjrndVUiLpVk1tRYmU5ljoG7bkF+Vwl2zT8S2quTbgnse65bSUluAa2rPUAYUcOMU9iKt1J1AVIy2JpJp1q34ZRHjJRF3ctuOuhXzedJug+0ee+FMX1w3DUeOffF+rJBKRNzoCSm67SogS6J5vtDobTXC5R2KqSqSCuP+DilT62rz+Eo72Kq6p/U8ed6YU3ZVCUiK56WxcVCmiFE5qvnwKs15KgIoJjn3/r+GjABZxzvfjnB/g/R040Y3qJGZ058W/Szn3PtkyXMWqbS7xaXhK3cmQEvHsRrekdl5TNTEOWZMFFtomAluGq5jbp/du04Ge12T0StXWyH8lyROJMKOn8+lsVU2AXsiNH/G4cbAiDMvn9RexZiB5QfOq25/HN2/pfNWqkaqFus0x3bvPSlkTlZotSI3xTGcT84423svrdpQxt6+IUs6MJQ3H6lYDnkgZjFQtoex5w6Fz8e+v2gtf9SqUyQV20qKuUX7RolRUJWIV20bcOGhaV05737V7jByW0tkANy3ynhe24pFVA7h56UYA8ee1t5BF1px4P7hW8F+3LcN//OFJAK44Yq5SwX2lV72uHVix1a/aXMq/BJVIjLHj0rz3UoaqRKLJgEgnc9wJtlgBb0HKT34eOhgGCwRGW0YqeNP378OFnjomHGQY4nf7eIqmZszpfFWJ54kUlc5m6APCqFQeWSXhcN7wSh0QX50taUWpZjn49PVPxn5HVUnoqnrJx/fJ657A0V+5Xag1chkjQKLROSQZbaMkkqyCKSpBZBSGK3W84Xv/xO3Pbg704yN3myodgxNSTAFBEqcRcpS+K/dJ+VoxpvdE4jz4UFMvb1R6FvkJDFcs8fCSQf2SHsovbB7Bfp/7qyhFqgMdrpzqx0FV59yG3fupk3DHx18JQE8SlPImLMdpaVXFZMwl2JpJZ4vZr83DxuaEfXbpCZPS3vGppWpVvwyXTOaB+ztCvOhuL45E0txv8reJQJWPmTWoRGLM/33WZNg6Ugum4nnn4Q//WhsYD8LjvHQupY5LE+60SiRxf+dMONw3vY8a3+kcUNN03kzqccvnq9cjkYQnksGClQ8tRxSXcHfkbyfrqSpVtFKNcCcaxhoA7c1JmOS47Ew/XbPopa1d8kf/WX7+cQtRzBqTQon06wdWA/CrbKZFxjRSpV13ClSJq5EUCQoMKUia2eOSECKdjaqzpSCRto9WO5oWq1N5FLLGuPlobRqqigWYXaeWBAEah2/eugxX/f2FTjdNqKKmeKruYs69x+r2S49EumvZlpCX7JbhKub0FV0VbkwaoWoAHYfuvKsQ+vT1SwG46rJ/f9XeWDitBIMBm5sgkWqa8033Y9qxbduop0TqyYs5g4xWPHx1ILsKaucr9g762NoOx5bhauR57S1m3CreL2kS6Xk8smoAgLvYN6+/FPj81qc3t7yPVdtGsXZgDMu3+DFM10tUifSdlO+9ZKEqkWhQI7kamcv6BqzN72u9Z2R43J7hSkzqav7WYZdhHhWmksFLJit76N/VJh6QFOT5SqSodDYj0RNJhqw4sZ3mlEgbBsv47zte0A6ESSTSzUs3YOtIvFopjSGzmubCuZrO5n9OJFQ+45YfHpXKlqYZzGUVDA3CSUQUrQoCQaJDLgepprPRQ+uBS0/GhSfv5bW9ERLJ/X9UGpPjaKqzeQcmP/AryoMkKj2LfL/cUuTh/kl9mK5juW5jtGbjpic3JB6LLXkikRKJ7sW5fUUh+daRBKWsiZrNWyKRDIMCinTnfyygRIr+DefBe1keXv5y4Ql47orXBr5Pykb1WKKVSPL3mlQiJRwz9RXZT0JwHdJPLdsRZu8qOAd+es8KAO71tB0eMIKkfrlmexm3PeM//IkoofRJuQ3yUEwTt7QTbyKtKLgp122tsXZBTWcjJZK0G+YRkLbjBFLU5CqXvcUshsp1VOqkRAoGr9W6awxP5JycziZ7AcpoZSFlJxrGcgB3MsYuYYxdRH8T3ahOQlabFrIm1g6UcdszmwC4982nXruPa6ydcrW+k6haDnoLGbzWK3edFrkJXo2vWg44h6iAlwaUsr5iW5BEomfycKWOnGlEziEJM3rycLgfAHcCtFglL6zJxQw6Ccfh2DTkK5EWTC1hw2B50gTOlKre591n5C+mU8Z0Gr4CuvFz8/ymYZx79YO4VCKY6TndV8yi5FVUi8JYzdama+vQlTexYdBPLSKiNGMamNbdnMcX9Qd5TkvbTZt2SYq+6V15bcXj0ZrdViKJ2kWE8nfedkjg8zd+717tPUYFR7rzLolkOfxlMY8o5kzM6MkH3kujOkzCkq/fieP/8w4slxbCX1KeSIyxYxhjFwOYIU9cGGOXAZhcR9ICbM8PKKhECjLjNucwDD+drZVV2M3DVbzxkLn41XuODn2mBuQDSl7lrF63o1KwIbPO9F4zbSOSxPdEogoowe+Zhn77UQqKeiCdDQ1XLwHcCmFf/9tzWLO9HPqs0VXIXaeVQu9RyylQ0wW1ce9lzeCqPqk28lkDFcvGm77/T/FZmoekXPGMrm8SiSTnzGalfizn6arG2vTQ6spnxIS9kUVR2lZUGpPNXWJG/pyC4hsfXy/eU0lPCm5ff3DQYJ1WkxyHa4N1Us+oBEgaw1BXpeWRSI7rD6NTwKmeNYA7Aa9bTkuTQ9NgyJospACKQrlmoZA1vL4Xo0TSKMHkf6ukBfkgqMRUfynoieQaa6ef9MWNSTJBS1+Tv059vypVwBNV9aQv7ijXQ2TVlGIWF3ilpwn0sJf91EyJHPzni3KlN3d70zxPqGHJ7DLgiZRtzFibTrtM/NO1WiiNUUKJZAXT2dS+aXppop/901Kc8LU7MFSpB4jaKcUstgxXhfmvqkS6+PeP4e7nt4r+QKf106ftK7avYqcn0rhiNVw/pByAHunvZQM1mJD7eClnilVfwB0LqPDERCmR1u0o4/xrHsRI1cJguY75U0uBFNc0oPTuiYIIBhuYl1F6NCl8Z3rzHVpgqVqOVg2hgtIVO5nSplcijQ/xuHW0CsvhYgFmwbQuOBxYmzK47HThAoot+qQqiOWajZrlL46OF1ox1n524zAA4EZpsZDmDMWcia58JrCQK6NRJV53PhsQEAQrjmVirUqiIJRIgXS2xqrVDZXrYMxV+JBq5XvvODTwnd88GF2hulHQmEvtNLz5K+Hxta5o9tkNQ4HfXfH6/fHEZaciI6XIv9TNtQGXmD5w7hTsO9u3D2mmL0RBHgteUiQS3AlLN4AMghOXIQBv7mzTxg+6HGBfieR+RoE9TWxueWpjS8yualRLUB8cqnfH5Wfujy++bj8ct+d0AMEcfGEO65EF/33HC6mrUFDgThOBKINtqs4WTgGj4Ca4XUdS7Dicp5pcREGnAkli6uXg58RFM2IDH1FqO6XSSlYiUR/65GsWCWPogqdEkpGUm7x8ywh+9I/l4iGY1lhbnpjIhoiynNR2eCDoDhjJez9pRFpPfUAlkaicLfVD+boRobNeUk6p5+SFzW66Z59CXNCgbHOu7Qt+OlvwWulS33S/JSLUVbP4/jAydEFCKUfpbI2NB/JpMxmLVPnp4E58MonVfVRvpyjCj/oC/V/dpjqhNJkb9AUnfemIIsLRX74d7/35w4E+R4cvjy/yihaNZ3Qfy/fzWNUOkVWPf/5UfO6MxYH3KH1TbrtMDsqridS0aV1uwDMkTQxMJchtBKI6m1R9kUikv33sFeJ7NL6TOb8osKBsL2Mw2DbHDY+7E+m65QT8GaYUsxj2SNgd5XpISr5s00jgmOgsEuEWd7/tROfBOb+cc345gG8CuFJ6/bLAJX98ErtfelPk52paxFmHzwMA4YkkE1BrB8bwxNodnWmohG/esgx3PLcFf126EUNlvU9fErKZiTWXlYPttCDCactwFV05U4yn8jMiDZlGY0tHSSSNqma80tnIx5TmMbSAuSploRd1AbndoHS2fk9lW/LS2fxzNn7G2q0QCs95JFLNcvA/97pqY3n+3J3LoGbrF/kqdVeJV0pZNr1b8aORzeOT0uai0KwS6dLrn8THrn0MgHu8hYwJxhhOP2A2ilkTpy6eFfi+TMK3CkEiSSTaiYtmhr63ZO/ge6bBREU3QRy+DEikBd4Cwk0XHo8rXr8/XrPfLoEFx2Ygz4H7pUJCXSn76nghNqLnnN/lTVSOpkmL9/dNzvnz49TGjqOmkbyGlEjKiv6zG4fxZ0lNkQSVdOmPIJEGlOoNaipWbzGDdx2zENkYJZJlc/z58XX4+t+ewzdvWZaqfb4nUtBYW12BJiWRGvhT8KZb0arbDraP1rBmoNyUJxJBRwAlkWRyKlUxZ2qVNnRtfCWSzhMp2icpJ00E5cAynzVEOiQhafJy5a3B60UTs6SAbYvUT3IZA9e9/xjc+JHjA8Z2dTs42ZYnfSbtRzrHSSSp2mfEtkQFQ/J5kapOFBUTbRY8J0vXDeLHd7sTAXli21fK+iSSw7XVA4WZu9I305C9rkrLkf7NtYSLTolUymZQbzmdjSFrpDfWHqvZKGbNkKJEBefBNkeRSFTFj/qEanatu8aWE/T7ijvNutX2jUMV3Pr0JuUzLv3XRbluo8czb732oTV4ev2Qn3oop5FynkpJRySvfG/Kp2VQGoPpfiDSf0hSLxmBscVtX9o+4CsNfc8zSpmWFwbEiqRFnkh64tbwFA00id0wWMHD0qSxV6p4+MpFMyINiem2EvvxjrEnHw6QdyqRxg+Msf0ZY48CWArgKcbYI4yx/ZJ+91LBbx5cHXjdr1TfLErl4o9cOBVffaNrZFvQzEeO/887cOZ37+1UUwXo9nccjsFmSSRv/G63Z0lalL35U7EBn42MaYh5nOyVJysRDpqXXO1t5niQSCJAD9o+jEc6G6UT05x416kuibQ6hS8S0NnzAkCkc8ueSLbDRRXUl4oSST5Pl93wNIAgyUFBty6lbUzx9kmCWnBEJlG6C82RSLr0wVIKG4tfP7Aa1z+6DoA7f6C5wnfOPgSPf/7UUDqpavzcCsp1GxmDBdr83+84FD+74MjA9z5y0p6R2xALlpMkvbMRyPHYmw6dJ+4hxhjeefSumNmbb1mJJBOI33rrweLfrcTQnUDa1vwPY+zv6l9HWzaOqHolweUbQlUiudXZgr/bLJVz/PUDq/Ht26J5NTWISusNpCqRKHigoE4OOExJiUTyzdGUSiQyM84oCiQ1eKT0KJUhpwBct6JVsx0c85Xbm/ZE8vcRnmhFDbJbR6qoWnaAwChkTW3gQ+/QtmyHY832scBKvlaJZPsrCMSmy+eLjLVlkDLphK/9HWf98D5t22XQ9VZJLNvhuOr250VKTlm6zlnTwOELp2L/uVMC6WxqdTZ50ie8vqTdJMnsozyRRKUrUiJJX5CDWcA9RzKJJBtPyg/ovmIWtz2zCeWaq9jIxigj1JWNNAoh2ROpbjsBc/PAsWlWWIs5EzUrbKz992c3xe7TUMgdswFj7UrdNYPMmgaWbx2NJCdVMkzXfgB43SFu6mBeo0TKagg702BwnKBCLo7ojPvsw79+VPxbJYFsT+1E6WRX/OUZnHbV3WK8kSd1qtIuCkRIyRNW+dLJYy61e1q3RyIF0tn831BfTavO0aWrqqo99/OgrJ0rvydkDBYY22SyCwhOkk/aZ5Y7Nmn6jEhno9fefnQB8k4h0rjiRwAu4pzvyjnfFcDFAH7c6kYZY69hjD3HGHuBMfapllvZBvzpQ8fhnv84KfAe3bN9pSx++Z6jBLlZjEn37rRSTrYPGCzXQ8+2NBCk/QTdTER0JJlgq6DAXPYBYYzh9+8/BpedsRjfPOugxG3Qb5vxkUkL/QJxfMn3dmFMEHTuuZ3Rk0fGYNiY0ny50yTSuoEysibDVE8pRc8amlOOJ4mUjVBAp4GukFBFViJ5fVVH8IxpFDVx2KbEY3I805XLxHovRUGnRCKPsrSpupW6jULGL7JE/f2a84/Aq/Z11UBjTbQtCuW6HTpnWdPAkr1n4PkvvRZnH7kAV593eKwisVUlUtWyQ/HxeEFWGb35sHmhz3s8QrGVxYHto64w4OtvPhCvXDRT2HvEFZqaCKQdJT4O4BPe32cBPAbg4U41arxBQaacBkQdnEgAR1M5R560X3r9k/jWbdGqH3VCE1X9TIX6IKHggYINrRJJSjdL2+F8TyR3e/QrtZlRrD4Fv7oStzXLEeex0GAJXBl1RR0BRMs9D7/iNpx79YOBtI+cacSunhPBU7c5TvjaHTjqy7eLz3STPGqOnFKUCZBI4ckKnYc128t4cMX2yLYQZFWPjAdWbMM3b12GS/74BIDgeZAf/kXFEylYRU4mF+iY/M+THuiOolYgGFKb1epscmrZj885PLZEs/yQWumRS796YJUXbOuMtfWeSGkmJrJfFK0M66qN6d6jdDb1YXjB/zyMfyzbErnPwLVgrGFj7VLOhGkw/GPZFnzgl49E7iOYzqbf3mVn7Ifp3TkpnU1PNor2Ggw290vEA/GBUFqfNjon9HW6f9T0X0uozuzAb9MEjlSSuhogkfx/bxv1VX2kdJomlEhSOpt0MrMRXlJRoJ/6yi9Hq36jiSGtnL/lB/cFfu+3Jdh31HtKDQjc1fjw2En7p/NPP9ORSDvT2cYVXZzzO+gF5/xOAF2tbJAxZgL4bwCvBbAYwNmMscXxv+osFs3qwUHz+0KSfQoE5/eXlNSkaO+QTho2A8EKkYPluliNbgQZjfJzPNGoEoNA5tpq1c4jFk7Fecfthmnded3PAihkTczsyePFzdHVilsFqU3VdLZ2lzzXQU0VZIyhmEtPYHWaRFq+ZQS7TusSfZDmW7RQMq7G2i0okXREi+qJBOgX1FWD6CR8+KQ9cfaRC/Cjdx2Gi07ZO/Bc7W7WE0lDdKZRIhHI10m3QH/iopn4yblHYGZPvimVVBTiKtplTQNfeeMBOGmfWdrPCa1W5PvmLctw+BW3YdW26OrLnQLNA7/6xgNwzB7hAlk9hawr5mjBr4/mobSA+c2zDsYypRDOZECqUYJz/oj0dy/n/CIAR3W4beMG3U3MmMvmytXZ1Al+I3NoNZCNUgSoUJlW+h2RPYWAJ5Kf+hSlEokCBeAUDOU9cuq0A2YHvqcOyP9YtgX/Wj0gAgqd55F87K14IgVVNO52dCQSEWj3L98eUPAwxrTXjE4RDdg6c2O9J5JviEfBoyk9VDIm84ylgd296l6JEwhlN76qB7jm3hW48zm3chSllzzhGdjJ50Fe0VAfjrJyQ04JM4QSSSKRrCQlUkRqjaRqsh0nUolUzJpepRR9WpHuIdVbcI0Ns5qOTRPxZkgk23YC1d1sHp/OJktKiznTTWfTnK+oScVT6wcD6V+GgQaNtYOThjue05NVDg+ONVErQxnTwMyegkSkOYHPVBieN5qsgNORSKQg0HkiRbXX/X8wxXT2lKAU+5p7VwIIV39MU+ljn11cP2I5nU1u+/bRmtgOkV+Ufiyn2cj9g8ajtCupatpw3eba6mwZ0zXBVscNdXGAPJEIahqtSgTmM4Z2BVdVIhmxSqSdJNI4Yjlj7LOMsYXe32cArGhxm0cCeIFzvpxzXgPwWwCva7mlHQDNO2hCTYirXiorxTsBGhbLNRtVy2kunc27L9vtC7JjrJbqWTImKTYaAZWZntmTTBbFYb85vXhq/VDyF5uEVuURQaC3G7QPeTGs2MC+t3RIZXH5DU/h479/HMu3jop5KeATFxQg6yrgdgpq5kcjKNfVBW1HLLq46WzucbUjnW32lCK+8sYDcOp+u4iKxoTufCZ15ocMmjMEFn8TPJFkG49y3Ual7sTew92FjPBEbAfK9WgSKS2yLRCHgG+o/qfH0tvKtAtEyPVFLBzQ8+pDv/pX0/ug/kr2C7LCbDIhVYsYY1Olv+mMsVcDaKyWqX67k0JKrcubBrx0pDpVxQkHyzSJTiNhbFaJpHoi0c/o93mNEumDv3oEn//zUwAAFlN2W9c+2kYpl8GDl56ML75+/8D3aLCldLlzrn4Qb/zeP0WwJQ9kRBjJwbVOqZQWMiFERFFZM2jLDyL53wbT++NQQBZbnU0TBAtPJNM3RJava8ZgqFluahQNNo0+JInncRyOy294Gudd85D72juOtV5VNvmholvRIMgpLLKqRk6FJCRNbEWfCVWK8j7XKpF8UiufNbBxqILfPbw2UDbV/64/QJNZdy5jhPzJCCIdTSFz0jykZCWS5aWz6fyP1NLsgHuO65p0NvpMh9OvuifwmiqlpV2RrtlOqtxoRyHDojyRAJfQEOdAuteilEgO54FJji5oOfeYhaHtJbUX8PsWBYfzpwarKt63fBsANSUtXTrbPrv0hn4b8FbyPE7k97Omge+cfQiu/X/HiO/J55LIoLjjDEwAVCWS48C29f1a5+ERViKxWCWSOvkoZE2MaAhO0ee980jH9f+W7B767k4SaVxxAYAZAP4I4Hrv3+e3uM25AOSSPWu998YVaYhXIqN7QunQQSWSfE9vSpk21CzoXiGD4jQFHFTISsR2wXY4Dv7Crbj0+icTv1sRSozG5mX0fVWJ1Cj2mtWDFR1UEuiMtRshclpBWUci5eKrCcrz06/e/CzueHZz29t1zb0rcd0ja7F1pCoqxwETm86WE4sw+mfKrx9YjWWbhrWfqedzqGIFjbVFOptGsaRUGWsFbhW4xlOYqhoRQxw5DgDbpLhwYKyOqmXHLtD35DPa532zIE/OVtBqdTZShz/cRsPwtKBFuqhq49QH7orJREgCjVGTzQNJRdrWPQI3fe0RAPfBzcd/dys7nkxSap2xGeBePOrgjmaVmDpKGiZUHRx1q/tpQEGsIRQR4epsL27xH8pqsFGzHK0ZtaUhQWb2FkIPkm4pnU0OvOj3MokkqiBJg4SpCUjTwlL8TwA9Uy8/VOR/k3oiChVJdaZCFzDRyr9cxUItoU4PCGHmmzR50QSHQDgdSCW6guls/kbUyaF8LWQlkm4/SZN7+qrKSxjMJ6RUT6RuKU1BVtGt88gw+Tz3FvzvHjy/T3zuVmcL3z86FY37Ovmh7noi+YRx3XJCxwX4gYPcz0u5DOqOnkRKu8JrMIZsA+lsls1TEdGO4uWmI8bkNgg1lkTE6SaTVKVRluvqzjONqWkJB/oetYNWReUVUxkyWeLwZCXS9R88VjyU5d+q550UoHQ/mAbDGQfNCZBZZoAwplW16P0/dfmr8d4TdgPg9326hhYpkTTXp5A1EktSmwYLpOSFSKRQOpu+r/kpOu5rupd3n9GNuz95YuC7L4OiKi8ZcM4HOOcXcs4P5Zwfwjn/KOe81dmzbjAIdQrG2PsYYw8zxh7esqX5SXEUOPerrUUNT+TtV1DmaGopbDmF7Z4Xtra7qQHQXIzGiuaUSPHBczMgP7TfPbw28btUHKZZT6SZva0pkUqen2CnUmNpHMwr6WzjYaw9piEoilkzNkVJHbfP/5+HOtM4uOSn3Daab1EanW7xqFOIS23inOPS65/Eqd/6h/a3agywY6wmyFE5nU3nCTTWJImqQ3feLbDS6EKxb6cSViLpFsnLNRuv+uZd4vWOsVpIma6ip5BtazpbpQ1KpKR0ti3DVfzivpWRYwPNif6xbAseX9P5apwydOOKjDcfNg/5jIGefKZpXyR/H633zU4ibTrbbpzz3b3/78U5P5Vzfk/yL2MxaaTUV/zFdfQPS/79Eu22w0OpINQ3nlznphRNi6i4Rr+XkVaJpIKCDPq9PHDoVrHVtIezfngfFn/ub6HvWYonUhQoPWqsZgUMEYlQUVddgGBQHxfEJoGCHs79dL0n1g6GblI5TUN+YLvqifB2/epsPmGoQjeQWZJKQeyDBQNLIrF0PixpIPtcxbUnyhNJfbBUpcmTHFdSsPjo6h3YMlxFzXLw6YSVzDTV2Sw7WJ0tYwYnc2L/3m/k9smrzjIx5UQYa1M/Cxtrp1Mi/fJ+v0KQa8quV+C4bffPa9Z0K+y0Yo5qGgwZr+JZGlgRvlAqHB5MYYsbdjKGXomkUy8Zhi6dzf3Nf2kqSaQ9N/Q1y3YJyLf84J8AgD1mRpBIUn9Jo0TKmoZfYVL5LeBPbEgBGqW2A4LnMptCiZQ1Dbzg+X8s8lLq5DQ4y+Fakl3nraamSWYMBjkOTfJESpqYcITvbXUbaVIHd6I1MMb+y/v/DYyxP6t/LW5+LYD50ut5AEIrYpzzH3HOD+ecHz5jxowWdxlGLmPgrMPnx36H5jF5ZbVdTfuQfWQeWpnsOdgKSOVNRsnyokda+Oms7SM1GikN/8wGN5VsTl9jlZv8dLbWlEj0HG02pSUJNS2JZKJi2R2viKdTuRSyJsoxBNZ4lzuX5+tUvYuUYeOpRCIlds22sXGwErh3k+bM5bqNRbN6xOsd5XpABRZrrF1vL4kEpMtMkaGzU+nKZWAwXxUm44m1OwLnZKhsoWLFK4O685lUJed5Sl/JchuUSFQROOr6XvfIWnz2T0/he3e8oP28UncE8bZ8a+d81XRIInhKuQw+8epFGK5aQqna+D5eRkokxliBMXYRY+yPjLE/MMY+xhhyK7eHAAAgAElEQVRr7emRUkrd6VUwAFjuKXdUJVJOVSIp83u612gCEBcoNeqJdO37jta+TwEdxeVyB9OTSMHXj3mMrSqfriueSFGggfLmpRtx5S3PifefWOtuVyYG6AaTj71J7gyAH9DRae7KmXhy3WAo5U9WH8nkCmPxBBGtXuguY9TvDKZPawHc60EPM5pgNu2JpFyvOBIp8DDKZ3D5mfvh3ce7CoiAKkwid+i6f/z3j+PM796Dm5duCPjs6CZcDo8gkRQlUtRcpJA18eU3HOC2yxuU5QeKPCknIoRzj0DRkJ2iOpuVjkSSz+G9yqp11XL05InGEynrpTPqUhJ0/Ub3PZO5JFLacs+q11QUHMXLLa5ahimRSPI5i1JkqelstsMxt6+I1x/iD+PUF9U0vSgCQngROQ62jlSF0ikqWJH7cxpj7YzJpKIJQU+k7nwGN3z4eAC+ooE4Id15kwl6at/CafFex7t6nx/kKetkkthxfCXSB1+5B96/ZA8AnhGsEniogWJIiaSMM9lQOlvUo5+Iem+7Ad8nfTr3TnQUv/D+/w0AV2r+WsFDAPZijO3GGMsBeBuAVompppCk2PSl/cHvUZobkaqkCprbV0xd2ahZUP9/xEunaEaJlJNI5HZhhybwjELVcvCWw+Y17LVR8nxmWlUi+arQ4LX6xf2rcOq37tL9pCHoAvRC1gTnnSdsojyRdOoSgjrOdxoyeTJ7ShGMASu2uvHQeAevOdP1Fv3yTc/gLT+4T9xXMimjmz+XazYOWdAnYqZBhUSKKgYEQKR4decbv3dVxJFVcajbDgwW9q7sL+UwoCEg5MIfgKvISVIiTSlmU5EZX/vbc9jj0psSK+2u3j4WKnbSKOKuC+DPO6k/AsD1j67F7c+4VY+rlo1ZU/LeNjqfniojTapZfylc0bcR0FigLpxMNqRt3c8B7AfgOwC+C2Bf+JObZpFKSt3pVTAAeMXe7nbHlI4ol0HWG2sHA65GSlwnBYBR+fUUO5MEUh44dNuM8kAhLx1CXWNAqANNHv702Hr8/hFfLn3V3122WJ7k5TVyxVbKE1rKeZ7p5eOrk0X5QaOms+niHlEJKiZlREsGeGRGVAn1jEQi0QPmA7/6V0MTRtpexYonkeSJiXoNzz12IXaf4Qav8rWQA8SiZMC9YbASOqdxKX7qNRXV2RzyRNL3qXzWwF6zugH495B87eR7gE6rr/6K8URSzm/UZDHosRX8rGo52r5K10Me2GnFTieR1xHLuvYw5qu00gg8LM8/J+mrajpbnCdSkETyt6wlkbzvjgXS2cIpgDQeqOehHqHYqUmEvNxXZ/TktcSH3C9txyd9opAxDHHtgtXZ3PM03TPuJc8BP50tfrsHzJuCX7z7SFxy2j6x3/vUa/fBrR97BeZ6K/++gslL0/Qu1idfsw8+9Vp3Wzoj2EMW9Adeq35aah/TqWzjQPeDTJ6pgWbains70Tw451R28WDO+V3yH4CD436bYtsWgA8D+BuAZwD8jnP+VGstbg5J0wJS8s6eEiST6RlBq+ykRJrXX+x4yhKNH0RgNUMiZaT7v13YIRHM1z60Ouab7nygGbNWms+06onke1oFr9Vn/3cplm0aaTnNTeeJRH2mWYVAWpTrNjIGC1XLjUtnGw8lUpecXifN+3IZA7v0FqR0tvENXrMmw/odZawZcCvxPucZJ8tzjLXeZzKoUtgMz+R9cKwu5q/5jOEba2tI5ZGq2wd6mlARquhqkkSq2fp7sK+UDdzLgLuY+9HfPhp4r1JzjbXjyIb+rhw2D1cT1Ujfv/NFAPGVLR9bswObh6t49X6t2SLTOY86X6JaNokHHI6PXfs43v0ztzB8pe5gapd7zXUWLZ2EqDYec859Q/fmCK6XVTobgEWc83dzzu/w/t4HYO8W951KSj0euOzM/XDRKXtjyaIgSSUrkbTpbN7/afIel8qgfpakRIoimSgIpMFFrlai26b6Fk10VipmhhQ0qivWKpJknzKppTNOo/Yfv+f02O0A4eOhiRaRF9QWlfyRH9JjARIpQlHEw4Fz6DuaS1uzHE+G678nXzfTM9YGgisdsfJc1V/I256az632p9GIdDbxnuGv+C2YWsK5x+yKxXN6xeddqgG30kbdJJfeChtr+/5KDo/27slnzFBVK3m/8oOd+g0dd0ZLInkPHeU6RlWZk4Nu9SHuprOFf0PXQ656RwG6joS0NWOCbrWRMSbOW9r0uzSTPJX8jvuJaTDpXpCIXw3fb3ipofLD27I1JeqzwetLiLrXZFWnfB8Xsmbiw9ThPDEdMGsyrSeS7aUH9pVyMJjkieR18jjyjXDCXjMS21jImthLkt6Toq5uOeBcr3ii9AsA2H1GF04/cDb2nNkd+I5sig6E+5jOE0kHGh5pSzvT2SYNztW8d16rG+Wc38Q535tzvgfn/Eutbq9ZzPGqL771CH1a21sPn4+vvPEAnHfswsD79Iwg7zRSJc/rL3XcPFlVz7TiidTOdC6ZHEny62yWRNpzZjd2m94V8DhsBoWsPy/RoVUfF111tnle2taa7WFCohkMlus48LK/4b4XtwXe15kPu0qkGBKpQ2l9BM55wO6hpLRPjifGWwHBAdz4xAY8utrNaqDnv1zxbNU2DYlUt1HKmejzlB87xmqoWDbyGcOtaOVVONX1peGKBYO1N52tUQPrmuVo53L9pRwGRoOkz1DFEnOnfWe78/dy3UY1IZ2NrFYOuOwWPJwizTeusuXGQTd9lxaAm0W3oiJVQXMeul+e2Ris4lip26Ja7ngrkaoRylgZsvVLU/t4OaWzAXiUMSbyqxhjRwG4t8V9TxopdXc+gwtP3kvjG+GnEXAeDpYp7aSWQomkBuG6IFhGcPIeVrps8SZLu0grQbptqmoKP283eNPpykzqoEsjkiEHJwWRzuYfu2kAL3zptfj5BUfGbgcAHv/8qYHzYCskEuXlqw9lmTii8p9/ufD4SGPtNGkZut+N1SyYBlOCdNn/x3+/WyJEYs21I9LZ1MoSansqEelsfrs8oqPuYI8ZXbj8dfsHzm2XMhlUJ+A6YsMPsIPv02uHu+qxKMK0kDX8EscW+VL5+5UfinSOaZKlTWez/ftRnjRGkTIB5YYyeVu6bkhLHNAlnS5Ntnwlko5ECu83arUx28CqdNx5lcF5kACJUwLKSqSkKnEmc0k7+bxZDg/1BbqGdZWUjDgHtD3L5uJ8vsZb8UrKwSflWxwypiGlswXbTr4MU7tyIhilsSENidQMMgoBqSNcZSNYx9GTsiZrvDqbDrQFrjnuEIm0k0PqOBhjZzPGbgCwm+KHdAeAbUm/f6mgvyuHF798WogkImRMA2cfuSDkA9edy4AxV4k0UrWwYbCMnkIGU4rZjpNI6jOjORKp/UokOQVm14T02mqECiIJ5xyzEH+/eEnDv1MRpUQipPFxiUPNclOF5H4zv98tjrBmYAyPrh7Anc+1VgHtuY3DGKpY+IZk7wC4mQ2q+XAxF660KSOKTGsHVm0bxd+f3RxQXavto8DXYI2brbcKdRpO9688n1eJv5rlegkWs6awP9hRrqNS8889Y0xUTlMxXLHQnc+0lCFBoDn+hb99FHt/5ubUvxuq1NFbCI8d/V25UNo6meZfdMre+Nn5RwBwSaSxhHQ2OfXszVKqoAx5USiusiW1idK1mkVPnlSkESSSd/1JLUa2MzT9qXjkYSFrTJgSKY7gISWSrvhTqn3Uk/cxGZB2GeEoAOcwxkgbuwDAM4yxJwFwzvmBje6Yc24xxkhKbQK4eqKk1FHImoaYKNicI2eok2gKuHwFBOdcOyCpQVkSGSMHiDN7Cli3w00/o0n9Vk9yKpfo1AU66lsiaFEmWBTYJqXZJQWuMjMrVAjSZMtgLHVluu58Bn3FrMgBpokWBbp0k6ryYF11tkWzemAY+nS2NF7GOp+apzcMYV5/MaAekM+ffD16JJJGTU2LA51vdZBUSSQ5aNQRgXTdB8t1bapkV04lkeLT5wApwFb6BB23o6nOJiMnBfQ6JRLdR+ccs2sonU3e5gXH7Yar712BuuPef3XbQW8hi1rZCWxbhRWoZhUe6FdrVirpekwp+g9Q6s86w8y0SiT3mNzt2Ckq9VieuXgS/+lwjqysjouZLJGxNucc6wf9dFfd5TMNA44TJMksJ+wjVfAmcjJxVq7ZkeWnfSWSI+7dc47Z1d1Wwsqo7V37OGQNBsaYqzINKJF8j6lpXXlsU5RIaQi7ZkD3KvUJrRIpYwp1geXoK7i5RQNkEknxRNIskKSBWm1SRqcqKu1EAP8EsAHAdAQ9kIYBPDEhLeoQmrnHDIOhO5/BUMXC/p93C4bsPr3Lq2g4PulsAHDlWw5qquKuqsRtB8gsG9DPW+TPapYjDG4bRTsC7yQl0jX3rsRn/635os06NRApkVZuHcPHrn3c/fdXT296HzSWqibI28dqId+YpOpsnVQiLfn6naH3VBKJFOldufYQK43gR+86DG//yQPitSCRpAVUNSWNMjKmFLPImG41LPJEkq97dz4TqUTq0RA4zaDbi0c2xah4dBgYraG/S0MilbJ4Ym2QRKI+tmiXHjG32rCjgrGaHUr1laEuEm/WkESyd0/cMQx48VhfqbXzVsgaMA0mSCIVFIOQ4GGDNyclxVnVclDImOjKZZomauLw/KZhPLV+KODxSUiTata6EsldKG62kvt4IS2J9JpO7JxzfhOAmzqx7XYgYxpi0NKls/nG2jzwnk5kFFIiNUDWzO0vSiSS+x6lW8ySDGd1xJQa1NF+1dSbuiZ3XIekeZ6smqJtUfU6oD2eSBSX08CoEmIVTTqbqxjSq45SKZE033li7SDecdSCoOdMBKEkEzexSiQF1A/Uh6ccwDkODwTpOr8guW/0aUgk8roijCoDny79SJgOR6WzkSeS0p4pxSwGy3UwxjTpbMHjpMkdPbiIkKSB1WDA585YjLrt4C9PbvBIEHeyRg/caE+kaA8ZIOyRJh+bfG1pEqkrIav3RNJff1GpJwWraXvKmcTvccVYO+b+I6XeU+uHsHzLqJeTr3/AmwYE4USoW+ExkiZy8uT4Vw+swk1PbtRuVyiRpHQ2miwlpYrZDk8slU39Jp8xMOSpF7rzGU9F5ZFI3TlBXDeSztYM1PFYr0TyPZGirnvGMGKVdSESKUqJxKONtVXsNNbuPDjnqwCsAnDMRLdlsqK3kA0EQNN78ihmTW880KeKtAPyPdaMCgkIprO2C4+sGsApi2dhxdbRWFNXUVp8Ale6aUyXCTn5mfLTe1bg46cuarqc+HClHiIJClkT+87uxf3L2yPko7FZfVZuH60F0sMAzxMpJuClgHnB1JJYxPrz4+vx5Nod+PTpzZNpUVDT2UrenFqdD44Hjt1zOo7efSruX+6mW9F5kueiKtlKcdFsLx12uGrhmntXYsneMwIkUlfe1BtrV+tt8UMCwubcUYICFdvH6lpVz5RiVqTpEuh+7i1kxfERabzb9GjVoXqMuvUf2bA7XolUR1cu2V4gCYwx9BQykUokipPouq3f4baJ5mKuD5SJUt7sCIl02lV3o25znHHQnNCcS6SaxXki5fRZP2lRtWwUJrkKCUifznYF53yV/Ce/18kGTiSyBsOa7WP43J+WolK3QwQKPfjlADTKk0NN30j2RArncMu/+/47D8Xxe05HbzET+kyGOs9XV7799vHA51FgjMWXCTfl4NodZL59+/PS72M3H4IcqAglkpLOppJI8kpPuW4jZxpeu1msJ1Icolbd508tBauzBVbupUp1WQMXnryX194GlEjetsOeSNEESFw6GwBM0TywVG+DQWVCpOvXfnW24Pt0Pv7wr7WoWuEqYjd/9AT88t1HBdrqG2vrzw2RE37apfv6guN2E8dneWXSgaBqJcl/B/ADgiV7+75ocedRPp907nQTdl2/ifLEonv+S395JrFCW912EtWMgDtZCKQkZWKUSKabEkWT4TMOnOPtK9wW8k+yA/enE53OJm0jLs2kRv5ythOqbpOkRHK4vkKeDBqf8hkDv35gNU74z78DIE8kIpHyeGTVADYPVyIrELYLGVWJpBkg81I6m9xOGXIqIhAmkVRPpCQlEgepDKO/s1OJNH5gjB3NGHuIMTbCGKsxxmzG2FDyL1/+6ClkxCID4PZtSu3oZEqbvODR7Kp8QWPy3yo2DVWwcFoJvYVMKAiVQe2fUBIp66eC07VSz8Wjq8OpN2nhKk3CJMErF83AAyt8b5hW+gnNN4cUJdK2kaow/iUUPCVS1POd1DLfeMtBmN6dQ28hgwt/8yh+fPeKptsXB1XlIJRILXpdNQtZuVUW6WzRJNIGz59njleogh6fy7eOBNK7XAVY+B6jdLZ2oEsh3tLe0wOjYcUaAPQUsijX7cAx0/08pZhF1vN6ejoFiXTsHtNEtVcAWvXPNqnK9bdvfx7LNg3r2ztWQ3+LldkI3flMpIcULayNCBLJJQypP1TrNgpZA105fapiq6A56+bhMKGWJtWsJNLZmlciRS32TSakfXrsJ79gjGUAHNb+5kwuZEyG7aM1/Py+VXh243BoVVZUEpJJpMiAtXFPJDJ7o0o+gB9Mn7TPLPzyPUcFmG7dNtV0GlNZ+VaPRadiUREXOsiBrS7oa3TxWo5TKGjx09k8TyRlAlBVlEh0XhhjIQaec56qTVGr7oVMTHU2WZVlGqL/kE9TGtD1Vldj5PZ816uMRyjlwg9FmcjRKZHUwVBVBFG/fmHzMH70jxcxUrUEgaCuttA5uHnpRu91cNtz+oo4fi/XWF0Yi3rbp/3++cPHBX5DzadKDVnTwPIvn4ZPn76vOD7L8Uu8yxOIqFXegBGx952jdp8q3tPdT3St5WtOkxBVzq7uQ92XCtrf9Y+uw7UPrdGSUpbtgPP4NEEZXKnOFkcSuylqvgJolle+WSe/NxgT6YqibZoKlnQdZPVVLUYtVPOuv6xEIhLpmD3izfhtJ7m6DRnMUx8dGKuL8yne8wLSI790O9Z5VSw7pShWTdmjlEh0X+iqhAJu36kH0jODKgmVPEz2RHL/H0ee7eSQxhXfBXA2gOcBFAG8B2613P/z6M5nsHnYT79YuW1UzD06WaFNvsfi/Eji4Kc8tIfscryKmaVcBr2e4jcKOtPp8Qb5Zj6wfDv2+exfcedzm0PKBCIKmsFwhNLkjUqKynalbHojoD6mPnu2jdaEoTGBnmVRcwDygJrZk8dbDp/f8QqD6mID9UfV3mC8ICty1HQmwI+jbnh8PRZ+6i+CYJzT52Zk/PTcwwEAA6P1oD+rpsIp4BIU3W1SIqnnLE5xJiOaRAobdRNRSeKBYtYU98dcSWyggjGG849b6O9TozDfrlRku+Ivz2i3tWW4qm1vM6BUZBWccyzbNALAJ5FoLBur2bjkj09guGrBZG6c3AklEmGdUskccO/fXMaIVZoJJVKTbavU7UnvhwQkkEiMsUsYY8MADmSMDTHGhr3XmwD8aVxaOIFQWXo1VYMYYpkgkhUiFWnFQQ0mo8qe+58zfOutB2Nef1GUZweSS3SroPZQ8CnSJ5SHk0hnSzGhiCNddOlsgd8mFiUPQiZLqI30HuUgq8ciX4NyzRbHLAyf5VSwlM2JyjDKZ80YJZKkADENQRI0Km80DRb4zdX3rAiQld+9I0giqRMXIEiI6FZN1cFQjfPpnH7lpmfx5Zuexa1PbxR9O6o6m9h3TCAqPJG8yUzVM/4+cF5f4HuiOpvte8cYnr+Ne3wGLMlYWR58o/wm6pr0H1n6riOAfCUS8L5X7I43HTpPkJlpSaQo3wP53vvUH5/Exb97PPD5YLmOPT99M370j+Woa9IEdVDTn+Lub9cs2ydvZnqm/bqVFFIiyWOBZYfl276xtl4lc9kZi/H/XrE7PvBKd5WsLpRIHOWa+z1KZfjEqxfhhL3CRNKCqSVxrHRf7DenV2vSKwhlqeIckY/UTy8+1S88eonn3RQ37raykkmkO61s6cbwQsY3Y7Ujqh0ajAX6OZFON37keDzymVeFyMNCikp3QPjePueYXfG1Nx8Y+M5OjA845y8AMDnnNuf8GgAnTnSbJgOKOTOwin7WYfPFCm4nlUhykDinLzqAiwMtFKrp4023yTverrwp0sajQKRHbgJLSJMS6Z4XtgIA7lq2JeRdk1RxMw5Rnjd7zerBiVI1ZrKHaAZyH/vni+5x1CwHwxVLQyJ5/okRgSURaN2FDIpZM3FRpFnc/ckT8a6jd8XhC/sD71N/bEe1smYgkxMVRYmUMfxqxz+5ezkA4P7l21HKmSKdtJj1y8bLKZCFrKm1kRir2W0jzNT4cCzF2FOzHAxXLW06G80rZFJVpLN5xzss3StJ6WUzun1VnJp6uXGwgvf/8l+B96Zr4oihSh0PrtiOA+dNid1XWszqLWDjUJik+dUDq/HCZpdEGqvZ+MrNz+B57zUA/ObBNQCA5zYNoyvC76pdWDMQ9katWskETyFrgDG9zUUaVC3npU8icc6/wjnvAfB1znkv57zH+5vGOb9knNo4Ycgqg0JIieQFRvLk/eLfPYahSh2Vuo19PvtXXHnLMvc7yoMwjSfSq/fbBff8x0mYJkli4zwqdJ9RULXnp2/Gpdc/KUgTVWlCQXyr/gEy8aYNVBqMO+Q4RVUiUf62+kCWyYFy3RbHROdHDn7SBkJRKW/5jBFQKQSUSEqFPQpEG5WumwYLTDJvXroxNpVEJzWVFWJp/BtqISVSkMBbs70sTJXVADvKI0kHUkjInki6hyFtg66t2tczXjobnRdZBhrtiRROZ+uVVqV0JcxNSYl06Wn74sqzDhIrRrpVwzgl0oyeoNRdvfdWbh0NvKaJ7m8eXA3b4Z6qJr7/OjxIEMalLpiGAdvxq6LN8kgk3XGRf5J8fHU7nM5Gq4F0De5atgU/uOtF8fm8/hIuOW1fHDy/T2wDcM+b8ETyrqVpMPzs/CPxn286ILAPOiZHMtb+8hsOwGVnBgS0APTjLlV4IWL/kAX+xJr6QFQfvvmjJ+COj79S+1kaUHuoT2iNtbOG74lkh32naDsysUzby2UMtyKdct2jcvlpmKMtqY+UL7xuf7GKvzOdbVwx5lWxfYwx9jXG2McAxJfe+j+CUs7ENm8V/RtvOQgfPmnPcUlnq9RtnHnQHKz86ulNr8xTsJ5WtZAEmieUchn0l3KxCpuaNEZMFPJKOjvn4RLpST53cRipRCtNTvfStYFWlUj+tXv7jx/AX5duEIoitYgJERtR5toUDPcUMiEip13j7ZELp2L+1BK++Pr9Q3MOWhCbqD4hkyl0jmgBtbeYRc128PYf34/H17o+qyu2jmL2lIKY48jEUTGUzhY+5+WEqmatIM09TWbROlNsIj9lRfq20RoyBkN3E8SXPG/YIVV92zhYwSeu8xcsqfLwFM1i81duegY128Fr95/d8P51mNdfxFqN0kcuDgAAP7xrufYe/fdX7Z1IljcDeaHzY9c+jhe3jAQ+dwme+H7DGENXLhOqrJ0W1XryPiYD0o4UNzPGXqH+dbRlkwDqAKuKh2pCieR3uNue2Ywf3PmieBhcfa+by6xWXEpKZ5ODHVmOGydgilIiEQHwmwfXCKWG6olED+psiw8Pud1vP2pB6PNGH4M6TyR6ryvigSynF47VLHEdaRDVpcgltiPie/mMGUwplC6QqkSi7tRoGVeTMVSkB9LiOb2xPk5TNasacluiJryLZ/eKf6sTNzr39O66gbJUnS16X7rXMmRj7aplY/2OijYNkk4x3Wsq1+lWp/I/lxl8HVH46eufxBU3+nJdCrrlSZ/uHFMfkh/Icf4BWmNtb1/XnHdE4H114halfnF4emPtxtLZoJBI+Zjvuuls8rnVpVrRMdExn3v1g4HPaRyk39H36hpPJMA976SQEvvwjkk21o4aX3Xy47pHPupODX0/irzfd3ZviAxsBIZn+F+NSWcrZk0xjkcpkUxplRbwzyOdV1WBljhxFpdVvy9gpxJpnPEuuFVsPwxgFMB8AG+a0BZNEpRyGXHfTylmwRgThqSdTAdy08Zam+S3O52NikF05U3M6i1gpGpFenLQGDGRq90F4ZlHJBLHsOfX8r13HAog7CfaCIYqVmBhSMYrJFVrOzyRCEvXDfmp2Er/oOONIpGGKnXkTAP5jIm9ZvUEPmtX5bY4X9KJUiAR5CplRMJQpbWCV1H1ny/6hugjVSugApTnCoXAvw3tWFCp2yjmOtP/05BIa7a7BMq8/lLoM+q3sspm7UAZc/qK2oWkNPj1e10vUjnF6uiv3I67n98qXl//QddKQuczdO8L23DCXtNx3J7x1gJpMX9qCTvG6oJ0JeiyKVS846gFOGzXfkztyolquu3CjnKQsPrzY+sDr12CJ7nf9BYyscUN4jDmeT5NdqRt4Sekv88CuAHAZR1q06RBKJ0tpERyb0Q14F62aUSSYpLHR+NKJIIsx41Lq9AFTpbtBFKhiAxRH5qNeCLFgYLUtx0xXyvxTjIMVhEgkZTqbMVcBoyFq53VpcA96IkU3qbaHDXYovMVp0SK9EQKkUh6U/MklOs21ku+AHXL0ZIThKnd4QFYvq67RJQCvf5Dx+L0A90VBjUFjFQO1G/W7hgT5yasRApuN66v02c1m+N9P38ET28Y0rLvfjqbfp90fDTRkvepU8P/6oHVQkIP+EF8r3Sv6X5nakiFuHQmXaAdtQKs3nvqRIH6jdXAvaqSTXG/MQ0DVcvG5/70FIBg5cfwd910NjXdVL3UMkl4xY1Ph7ZD9xvddjVZiVRzixmobVYryshKJBpnG/H5qNlBJZIMOp5mJ21A0NNOh4xpxBprC1WFd99rlUgmCyjuiBSlax+qzpZorO1C97ghYi2KWN+J9sMrYlLmnA9xzi/nnF/kpbf9n4ccqFMQ7N8znU1na1XFIFIe2pTOJiuRZnrk9uaIct3VSaREomeiIymRKO2+FSWSrlt6slIAACAASURBVDobYWZvAX+/eAmAaFInDdTfbhutahdA5NdRBMOIZAR+4NxgylCji48yVm/zU3LiSCTqC81WG2wVAU8ky6/O1ZU3kc0YWKGoswFgzhQ9iaQSSjqisFK3E1O7GwEVegHS9am1XqrUPI2fEfVbOZ1tzfYxzJ/qf/erb3RV2R8+cc9U7Tt2j+lYPLsX5Yjx5k2HzsP8qSUsmtUTUvcMjNawevtY2wgkwD9uItMIqoKPsPesbvHvUxbPAuAuig9VrEjbimZAhYUuOsW1Nli1LdjvaraTatycUso1rZLaNlLFtO7mFyjHC6k0cZzzM+TXjLH5AL7WkRZNIqjBi7ryT33Wsh0w5hMSawfGQgOWGvSn8UQiyK7/selsmuDCdvyVnXzGEEGWmlIlql6lqPgUB2oD53rVQyvG2mp1NtNwU+bilEjlmo3p3o1IAVogRU5pUNZkkJ/vlsORM8KG3IR8NpjOJpOFcrBXzJqg7tRKJZaM4Xqf2DEDZpdmNUnuG9MjBqZ8xsQh8/vwlyc2hAZkSsek1Zwtw1VxTtR+10g6G2MMOdNA3XZw17ItACKqorFg2ptKmNL9RPedfH+lqb7nr2RL6Wya39GxyNc2jkTSGe2L8qAZAzd+5HgxkVCJD/W0UT8nY+qkMQRwjyFtOlvGYAHDxbiJpGusHVTyDVWskNJHViL95J4Voe2Q8pEpSiTL4eJBHfJZyulJJFtSRqkLACpkb7a6zeFEGJULJVILJNLtFy+JVTxmDeYrkTQkX0GqYBTVTtMwAivVqrJJbX+ysbb7r6ijJhJxJzoLxtiTiBHwcs4PHMfmTErIpHJRVJfyvIY66JVRrreuRGKMoZRtnzEsbacr56dDbRqqYKGmcpPviTSRJFJQmeNwLpQXpJhWrSDSwrIdVC0n9hr5aY/Nz8nU3w6M1n0/P5VEysWnWcrV5Pq7cjh+z+lisasVJdIXbnxK/JtFjupuddp3Hr0AHz91UdP7agWB6mw1fyG+lMsgZxp4ZFW4Ut/sPn+xqyCpilRPJDVO4NxNmVfnE63gM6fvi1MWz8LZP74/FYl02zObUcqZEels5Inkz8nWDpTxqn1nitdvO3IB3nZkOOMjDqWcPrXv+D2n48qzDhL7Vis7rvSIlL1mdod+2yzmewqstQNjWDzHz4SImi+9er9d8IcP7I4HV2wXlZRJtTQwVsPMmIXPRkDz4EMW9GHJ3jPwgpLOZtnhqtM6TClmcN+L2/DL+1fhnUfv2lAbtgxXsf+c9nhPdRLNPj3WAti/nQ2ZjFBLaKsEDlU+q9k88LAYGKuJhwhBDcoTlUhy4CcFRHEr4rqS35bjP5SLOVME/upDrG47MD2z4mYxoycvjotDn27TaNghb0L1RDIYQ8ZgUPkUmbCzHC7IQNqWHPxQ0EnfUYMrIoXi0tlk0uQAafVIvsaFnCHOh+o31AiKWRN1m4eMrwHXpPjbbztYm7IjE3pxKU2GIGvcHZxxkOsbYCsKtoGxujiP6mVuJJ3NbQ+LrKBGoEOiiW+UEqmqUSI1on7rzsens9H8y1TUZ+pkUWwjxhMpnzGx/9wpeI2XX66mkqrHSOee+k8aJZLDg22NI4lDZKDBsNfMbnzi1eEJpWnAUyIF349SodVtR5tWIEgOxS/MchzULEfbV9WggMZHN50xeD+nQc1ysGLrqLaf0jtxCtAkFLJmbMpjxjR8TyTNfmSTYMvh2oUEkwWfMULZJB3TB165B657/zFum1IrkfTHbWoqXe5ER/AWAGfE/P2fR0mjROrVrOK3E+Sj1o70n2Iu0zYSaVSa61FAJVeukyHS2SawOhspkcjo1+F++g6pUqIqHieh4h1f3DUqZuNJnVT7UX47Vrcj09mKmnS2wbE6bnnKLVTy+Nod2HWaT/j94t1H4ouvd0OtVhYf5Yq9F0mFI1TM6y/hitcfgD6NJcJ4QFaN0b07WrVQypliLjCrN49bPua7qaRLZzNDGQBbRtyF0HZ6IhkGEwq6KLUPYbBcx23PbMJ5xy7ULnp1F8LG2jvG9JXcGkFRqmYmxzWzJJuA3mI2lIa1eru72Dl/ajj1rlmQEunKW5bh2Y2+DxL19e97Ka2EUi6DnkIWJ+87S8xNyAN2YLR9vkjkGdVXzGFGTx7bR4LpbXWbJy5U0u9HqhY+879LG/K9sx2ObaO1lqwSxgupnh6Mse8wxq7y/r4L4B4Ajyf97qWOpPSSVdvG8J3bn0fddgKD19aRWijHU2V1kwJreV9pV4q0xtqOI+TBhYwpSJGQUsrmLaeyff6MxSLYj4rbG128lgd41ROJSC/bSSLsPE8knbG2t016eJ20z8zAbykojWLG85JS4uR9ZgaCLlkpUspl/HS2FiYDxZxbsUM9ZgBYPGcKXnfwXM2vfOIoqd/R55bt4KB5U/AOz9fKN752/79jrBaZzhZSPSTIhbMZI3DNdAogxhgY8yeUUUQVKTDkzxsxpJTvAV1ftSJWb6dpUggBn4j63cNr8P07XUNpeoCrE8ywB1uQCHvHTx4AIJmLGyzQxhufCOZtA+65lE9VHEms6xu3XrQEH9JIpcmEW71Wal9gjCGXMVCzuVaiLPzKlN9ZtpuapiORioqpJAUiV97yHD553ROB7UZBXo19bM0A1u0oB6qXEGgi1UnfkHLNFp4EuoWAgpICoVOgmYYRSPsQ6WzSef2P1+yDwxdOdfcTcX6IcKXLGtVbGNuZzjZO+DXnfBWAK7yUtsDfRDduMqAkEbQlrzoTjTXN+lEkge7FdgSgXXmzbelsQomUN/10tgQSaSKVSIbhKpFpvLIdR5BIpIRt1hOJzqn6vJCRVom0ebgiKq+pUIPD0aoVKgqh7k/+zdt/cj/e94tH8MyGYazaNhaYgzLG0Oedh1bS2YYqdRwwdwpWfvV0HOE9AyYj5HnU1pEqOOduBbV8Riyy7dJbwN6SX5Scziaf7+nStgpZw5s3u8U3/uO6J3Dkl24P/aYd0BGFOjy1zjUHP2r3adrPVSWS5aXdt9reYtYU/U9OtZK9d3s0Xj5kgD1f49/ULIgQe27TMN7yg/vE+1XLhmmwEGElZ+UQKLNi83Al9Fmz2OGdl75SFtO6ctg2WgssRrtz0zRKJH/Ou2zTcOr9D4zVYDv85UMiAXgawDIAzwG4H8AnOefv7FirJgnU1AI1xlq+dRRX3roMg+V64Ma2HY7lSu6umheZRgpHSOvQriv5fevTm/A//1wJwB1IyeBbJTJqtj5gawQZg4nzQCvvv3rPUYHv8Aa1SHLwZtkcf126Af/tlbQ3SYmkBLLqylVWMe/l0qFTHHSMN5CvGRjDWYfPk7bll9bWti9riDQ1NUCXr3Exa0rG2s2TSF35DOq23hMpLtDde1Y3LjtjMW67aEns9qnJda9ce0aQSkElUt3morxoUnW2QsJqbdY0RIqWvC8VplTGXFedzW1f0AsGQEOKiaTVBVH9TTnXUQ9W2+EYHKvjk9c9gf/867MA/JKf6gppiLSWXsoEgUjpU/rbh3/9aGj/LomUbqxpJGVLTS8k6PaVM91UK11+t296H3zfNZLWp26plUkoCNog+Yapv7vtoiW45nzfyFweh2il76wj5of2Vbc55vYVsa9kOt9uyF5Guu5HqqFRQSKFv5MxVE8k97vNZifT+YnqOqbBdlZnGx/kGGPnAjiWMfZG9W+iGzcZID8LZnrFAEiJpC7etQsUIJbaUB682MZ0Nlow7Mpl0FfKImcakcHVZPBEAoKVIh9eNYCRioWsyZDPGO6zo1klUkRKWWDf3rEnBfwfu/YxvP3HD2CLhpAbVQjAkYolgvSodDZ5f0+tdxUYpPSYqQSO1MZW5o3bR1tXsIwHegtZPHjpyfjkaxaharmE4mjNVSLlvPkRxRb0jJc9PuUYRlbWyIqzf60awLUPrwl91i6kJSaJVFgcMbfIZ0zkMoaYZ5OyrtX2Ujob51xUtaT3/X9nAkTni1tG8PW/PYfp3fm2pv/Ji+6y4oqMq1WrCJ1icKGn3Fsp+X61CvJEmlLKYmpXDlXLCYzRUXNTFX1ShbvnNqYnkagS3Uvhno19ejDGMoyxrwH4IoALALwHwH8BeB1jbGKc18YRjXi7qDfWNkX+tmOsHrgh0kjhCGkVQrpOXbc5bnxiAwB3cCMyROeJ1IgZrQ6mYeDfDpyDT7x6kUiB2WNGMH+2FSWS7Th4/y//hT95TvmGUCIpJJITNPj11Q7ua7WiFAAcudtUnHfsQnz6tMWBB5GoSqZUhCPkTEOQRyqxIfcX02ChClTNoJg1Ydk8VO0PiJ8MMsZw3nG7YTeNN4IMOhbLcdMbqZ/K6Wy0n+1eRYSk9DXVCDnUbjOoRIoi7AzGhGl6iLAzaaIVViKpapk4A76ke43IHLVEumqMuJ+X3207PLSiM1a3kTONRLNjuT/JBAH1Sd0Y8r+Prgu8dpz0ptCNTE5o16rpqY50yJos8pyrBC+BPJF0xPaUUhZXnX0Izjt2IQD9eVBTA/ec2Y0TF80MfQ/wU7+i/OYWTi+15InUCHQqIxoDaSFCq0Qy9dXZdMqmONCt8uZDXUKtP2ISszOdbdzwfgBHA+hDOJXt3yawXZMGW73n0MdP3VvcK4WsgazJOqZEGqvpFwKaQVc+k6hEGq1aWLM9OUh6esMQilkTu3hlzy3HwQ/vWo6Ng2Eiibz4Zk+JN/7vNORF0uVbRvHwqgF05zPuIpbJmlYiiZSymOeaYbhklVqcRQWl293x3ObQZ0NlK6B6GalavrF2RDobfS5fUyr3HuX51wqJtG2klqri1WTAzN6CKOqxbaSGslcFkc4DkUg/Pe8IHLqgDwsi0qtmaxRKOhKi3RWwSHyQ1G/JdyeOKOgtZAS54qsfW2tvMWdi20gNu11yE77nqeMB4OR9Z4l/d+WCxPb7f/EIgM5U7yNzcPm4arZLIqk2ADplzqzePIpZEyu2hE3Xm8WOcg0Gcxcs6frIMX3ddlLF8PL8adNQeqXUZFCJpkVSC78OYCqA3Tjnh3LODwGwO9wJzTc63biJhhrLxq3oqze2XCKQc47Bcj0gbWskKInypVCRtM1C1gz5ChHqFm+LEsk0GD504p7i5m+VNZdToULm5MITSSUJgh5Vooy4IEj87xM5lDEZLjtzPxwwb4qWRKLnQbfi65LP+p5I6vlXSb2M8O3xB+dGq9WVKJ0txvS5FfgKEy7Or/vaT2cjE0Biy9XuqQbjSSsXGSUAjlI4GAaEd1IUYadTIqnbi1v1NQ2m9QAiRFX/Uku0kgLPcnhof+Wa3swxlM4mk0iaCaTuev/7tY8FXqvpbHFoZNVD3Eu2g6N3nyr6ALX5DYf4aZU5L11xRBPQRaVZWrYTm2J75kFzxIRC95VGCgTQxDLqPKUxMG8XtEokbyw79+oHI7+jjjW6dLZGcOHJe+K5K14TqFYogzF92ulOtBec83s45x+Aq/4+X/m7YKLbNxlA45ZszMoYQ28hi6EmK+MkYayN6WylXLIS6ZyrH8QJX7sDtsNx/aNrIwPUR1cP4EBpDkOPvtuf3RT67vIto+gtZAIEyERAXTx5buOwmGdlDBZbiTYOvlos/hpFVe6SQeOgujgMuOlGu8/oxjfechCmdeUwWrP8lPWE6my/eXC1+IyIPvU3RLI1WtWXwDl/ySiRCNO9Z/vzm0ewctsounIZ0adpMX7J3jPwxw8eFxloy2bVojiFZh7VyIJ+GlA7kxR0g+U6egqZ2Hl7d94nkaiP5lscc4rZjEgZ/eO/3EXHX7/3KBy2a7/4Do1Jasp6K1UMo/C2Ixfg46fujUrdEZ5urhLJFCl2Ryzsx+0XL8HrNXYdjDEsnN4VqqDWCJ5ePxQgiAfLdfQWszAMJlIsZdVW3U6Xzib3wW2j4bEjCjTmtWoxMx5Iunv+DcB7OedCh8U5HwLwAQCndbJhkwFq6lWsEkm5sXdIVY5qtiM6JaGRdLa0SAoYSrkYEsl2kM201ibd+enKm4FJQqOkiUzOhVJnDDdoVScZlu0E8uBpUKfAX6d6kQP2XCCFLpjOpjLj+YwhfhsiUyKqlskrSo3Oj4o5063OpvlhO9JLiByoWW7FQTp3lsPBOUelbgu59XbPfC5syBzcZtJEWyUCI0kkb2VVt0+6n9SqVED4HMcZ3GUNA286dF7k55ZQIgWPSSUXewtZL+XHCawyOw4XRpGhfSuTGbk/6ZQ8WZMlJoc2ks4mS2+/9qb4ok+yEbZpMJzirWLRdfnWWw/Gyq+e7rXTTWcbrYbPu6oSBPz+YDnxqz26Snn+dtOPZcLUOmJM7sRYHQW9EslI/I56jWmy1yj/5aexsdg06p3pbOMLzvlPGWPHMsbezhg7h/4mul2TAe8+fjf87IIjcdI+swLvu+awnUlnq6QkKNJA9iiJAlWluu6RNfjYtY/jZ/eF7bA453hh80gg9fag+X0A9HPD5VtHsNuM7tSLlJ0CjW90LgfLdVHgIquolBsBPXeT5h+FrJGYekQpazqyabhiobeQwZsPm4e3HjEfIxVL8mOKSmdz9/fXpRuxcJq7ALWeSCTlN6R6rjV5HoY9jyZK9XwpYKpn7P3enz+MSt3BkkUzQiRSFH58zuF459ELAobbshJJfW5V2pRKSqA4I0mJNFiuB+ZcOvQUssITiea2LXsiSRXsaC7fkw+2g3zmKt4+Z3vncm5fZ1SLu3sZK1QBrmrZyGcNFLImfvu+o/GTc47AHjFj1S69eWxqwRPptKvuxvnXPCReD5UtIfqY2uXFOxIJ5BZsSp5cyeeLFLNpQH2nUSX5RCCphZxron7OuY3GC2295BClRHro068KeWSo5n1yh6tZDobK9UD58E6kRySlreQzhqSsUUgkh7fcYXXBVsY0AkaBjXYaOVhX5bwGc5VPKltedzi6JQM2utnFw1hD4siTrFcumiH+veTrd2JwrC72oT7AXBLJ20ZEWpf6ubx/q8HytXlP1aFbnZvTBlk6nQdKZxNG2w53S6FziModtNqW5ImUNNFWJ4pxJFItwlhbpLN5k7NTFs/CGQfNwQFzp4T6R1zqgGEwbZl1Ap13VYmkBvqGd+5sJ0haVS0HYxGloRtXIkXfr5xzj2xMn84mr1TuM7sn5pvyapvjVkk09UQq4Hki2e4qkzppymjS2cj3q5agjlQru8loZHwV/kFRlcg6TCK982i/RK/uWNRJo3acVd6jZ1fcmJ4zjUA1yUZgGmynEmkcwRj7BVz19/EAjvD+Dp/QRk0SZExDlHuW0VvMiio77Qb5lKiLB82gK58J+epEYZXn+7FhRzn02UMrBzBas7HrNF8V+9v3Hg3AT52RMVyx0J8QxI4HiKyW05J6vHlWKyRSVEqZiqKm/LsKWhSuKCry1377bjy9YUgolbryGVgOFwq4sKoo6MG0fayG/bwxeKOXzhZVfTQp5S4KmzxyapcJTltsBLLJ87uO3hWvO3iuOA9xlU4Bd+53xesPCDy3ZUPzimJQ3i5TewLNaZL6rZqdokNPISN8zojoTKqsmgTZx41iqpJiWE22HbTwV/Tmtz9452Et7TsK5Gt03SNrRbvoXjl692mYkjBOzejJa/3KGgWllMrXhtJAZSVR3U4XL89ukkQim4i4WGSyIOksPK1b7WKMvRPAs51p0uRBuHy1e0Fn9OQDMjXA932hFXB58lK1HAxXrUD5yk6vbh+xsB9zphQCg7HlcBFQqwFAI2kvUYgKtuTJQaOBhxxAqat1psG0cmfLdqWQNEGic50zPVmwFJD//L6VAILB77F7TMd3zj5EvN48XBHtPmXf4GpnLpPsiUTKJl8tI5FYDc6PsqaBusVDxMgfPnBM4kCbBtTmuu0qWLJSfjc9fGlwLUeQSGo/SEppVFUNUfJ1g0npbBFKpIpkePqdsw/B/KlFce02DroVVpJSB+JSoahtqicSTYSLWRM/PseN7UxGSiR/f+W6jbGqpTVkVYkp+Zzo/BCynp+DDv912/PY69M3Y6xmpb6v+6WyvkkPSOoX1brjkbn6KmuA2//LNRsjNSskqddVZytkDaFESqMo0u2zkdV1mpzJ52mWtGrbbEpYWpwsKSh0Y6ha3VBHCuqKKrjfjd7vM198Df70oeMC76UdnhnbSSKNMw4HcBzn/IOc8494fxdOdKMmM6aWshjoEIlEJEFvG0ikYi5ZiUTY6PlqqIEwAJz1Q7e6kVzkoZhzleA6Mq1mte6D2Q7Qs1SuzEWqeNcTqcl0Ns9Yux3pbLQoLKeUVeoOntngmmLTPJv+v2WkCtNgoecXYwxFb3+O49pc7OrNj9fvqIj2BNvXmicSFZzYpbeQ8M3JAzluOXI3r5qcdyq7NRW6kkDntGrZIdXZmREVjZsFzUXTpLOlIZHUdLZ2VGeT2wCE7xESRdC4NFK1cNiu/QET83Zi4XT3Hrjm3pXgnKNqOQ35Ac3oyWPrSK0pdbTsm3fMV/4OIHhtaM4aUCKlTGebJXk4NUJykbigVYuZ8UBSCz8E4EOMsTsZY1cyxr7BGLsLwIVwU9pe1gins8n/ZtrvknxNXvmpWm5Jdpk46tTq9usOnoPLz9wPv3//sfjnJSfj7k+eKD5zy2brlUi8gbSXKESxpn2l5nOxT9nXVzGV63ZgADSZa6ytBjOWzZExmSj9KJRImbAS6Yd3LXe3pZpBS4OqTHKcc+xCPHjpybj94iX4zOn7BlI+wtXZgml0fjqbP2GJMpGOQsbUK5HSVvBLgiFIJMdT5ZA0l4uHGJWc9ZVIyjYa9kQyUHe4OOdnHjQnsm00uEYRVzTR8pUxfvW+M797D97+4wcSJ4xxaZ0kM1XJG5ro7TGzC6csdkkBIjjHpP1V6jbGojyRlP1WpZWsy294KrRf02D4xbuD1Q8Jv33I9VoYq9mp72vZBDDpAUn3FKWz0dimG9aypoE1A2PgHGLCrO5Hvv/yGRN1O7o6m4q0SisZJFF2j4FSv/zt/PWjrxD/jiJo2gXVgF+FqnJLo0QS24u59qbBmjp3tN2d6WzjiqUAdpnoRryUMK07r/WwaQcosOuJ8AxrBKqJbRyows+6gaASSQ5wKIWN0F/Kacm0WoOBWqdAJHmXtLCydJ1LzmS9uUEzSGOsDbhqd51XDqFq2cJDRib7ZN9TOo+0EPPU+iH0l3LaxYxizsRYzcJwxQLnbj/tyWcEQai2lxachptMzaTtqgvfkxnyfUXFYIjAS1Ii6eAbmjuBa/jOoxe03SuKMRYqFqPDjrEa+orx++7O++ls5TaRSEsWhVWbpWzwnAolkqfSGqlYiWmEraCUy+AdR7mK7MFyHTXLaSim6S/lYDscV93+fMP7fnHzSOD1jrEahiT7mZJHxKvpbGm8tDKmgZVfPR0XnrwXVmwdTa2MJeJ8PK0UmkXsWeCcr+OcHwXgCwBWAlgN4Auc8yM55+vifvtyQCidTZ7sKw8HMnk9Zg+3VLzMbtYs18PGMBj+/OHjcOHJe3UsD/3bbzsE53pVi4DggGs7PNITyXHijcPTIEq9IKewNLp4/c6jd8XDn3kVFs/uRaVuB1YoDFIiKYx/3bvBaWWLAlW/ykV4wqYeuzy5qtscV/zlGQBu4DWzt4A9ZnTjPSfsDgBCFZSkRNKlszUaiGVNt5S3+rt2TQapi9dtt8IdDWKWw8VDXFUiJVVnSyKRsoZbgaUrn8HrD56D9y/ZPaJt/rVW9yGUMYpSyWRM9LnN3kqAfP53n9EVOndxKhzhiaSSSN4DT+6LpummWpYluTSRSGqVPyCoRDpyt6l4fM0OvLjFfcDd/fxWAMDlZ+7nt9Nk2HNmN5Ze/mp85KQ9A9sKkJsp72v53kp6QGYkib3B5NRNvRJp5VY3DWO36cFqjURGyT8jJVJUdTYVzSzWXH3e4bjguN0AyEokvxH9XTnhVdHpB3lwcSH8uXr/6NP39CehU4sVlKq5E+OG6XCV4X9jjP2Z/ia6UZMZ07pz2DZSa9iHMQ18EqkdSqSM1sRWByoLvkMxDH/ee/9nFxwZqmDUV8pq09kaXe3vFEiJ1J3P4OaPniD+DXgLMc1WZ0vpiVTMGrG+OAOj/rmTFWCD0jUgEvCQBS6B98TaQeE3E96fiXLNEcRefymLvq6smNOpKuVZvQVkDCaq6TUKMux+KXkiyf2SziNlFjRD+tBCTLlmB1IXO6X0SFNVcNtoDf1d6ZRIo1UL7/qpW1ij1WJFe8zoxuOfOxX77OJbFkR5d1Gq33DVakvqbhyO3WM6AFc5V7XsSJW9Dou8Y6F0uEawYqvrw0Tk+zMbhjFUqYsUVcYYpnXlQtXZsg3MrZbsPQMOB+55YWuq7xMB+XJQIgEAOOd/55x/h3N+Fef89k43arJAnXwEJvvK6vRp+8/GNecfgYtPdSs7yVVBqpYNh7uT/wPn9eGiU/buYKuDkDvh5uHK/2/vvcMkucp7/++p6jw57s7mvNJqg7RaacUqZ6GVBEICDCIKLItggsECIQyyMSADvjgAxjJcwBjs+yNZXIIskWzxIwgJlHNYpV3tzqaJPR3P/aPqVJ+qruqq6u4KPfN+nmefnenu6T596lTVOd/zfd+35kSyCWdrVddyWrDIcfd+p3OMaY6iXEqLW5e/j6owKDZhFWX9BB/SnUiJBk4kgXVHXl7QPyEp1XYLOCM5t+VsEuNFiC5Wtwxg4whz6SGxw1EnIrXpYmPkRLJUZytXqzUnkn48Z0vaDaY+J5L5Pb2Es2kiVQX9Drt34nNEcknr1xWLaNFG2RnTqDrb1qV9ded5IxeOcEJZd0nERFjefVL1pO/y582Vqpgp2oezyefPnU8fBgDcrDvlBIuk3UQhdnWnE8ZN1GiPdAP2KiLJYVNuwoks2inSOLE7dkL4BIDVw2YnkpHXyOJEKlerumXYg4jUxIVrrC+Lq09bBcC5Opu4bgSdE8nsRKr/vj2ZJL529cm2rzces+kDhfkL6wP8hLP5L5JAtMSNAF4O4BMA/lb6Rzgw1/kqdAAAIABJREFU1JVCsVI1XCTtZGquhITCWl7QATXXs12IGmBO0CtyZciulJ88tB+fue1RAPai1kAuZR/OVqn6WqgFhWhDVzqBY8d68dU3n2RUN20lJ9JM0Xt1tjv3HMavnrRf4MkOBNnFLPIkvWL7UrznPG1Ov2wgZ1S7cxJttETeFUMI7M8lTY4U6zFRFYYl/Vk8d6Q+D5YXXpycw1BXqm1u9bARDun3nL8B/3TVdlyy1d6p3gjDiVSumI5hUCKqNm6d74/5YgVHZ0sYc8lT1ZtJYLpYxk8erlVXtDqTm6EvlzSuFQmF1fWDMB+Iuev0XNnIUxYUIlTuxYk5HJ0t+SpacNq6YSzpy5gqdHrlqfEZqArDh3cfC0A7x62hhoPdKRyWqrOJaBevbFvWh75sEv/96Lin14t1+nzIibSgsc6R5YWfddLek0ni7I2jxsCX162FkrboD3ox4saeQ7WdjDonEm+DE8lhwMsXymYXHiJvgLzGSuhJkO95bgL/9ptnjMeNcLYuJyeSjYhkabp8Ub3p1odrr7M5Y8QOorX/xDcVVSIMEanUQERy6R5xc7KGsyXb5USSnEdyOFupwg3HRp81sbal86wLVzchIKkqKFeqWjK9BjfIg9MFPK9PpKx9nbQIdHLlLqvIKCcxzabUuj5vtPA2EmvXhbOppudFG6qcm3a+5soVHHHYgbL73BVDZtFFtvyLcE2gPm+O3I8K0yambvH3snjmdsyEaCkSa1uTyJvft/ZeSyzVPcR3lo+nKACgWYbdr0nWfmtUXc/0HSzXA+uYEgJX0E4kk4jkMPbOWD9s+3qBXT8Feb9RFeY7FJdoHs75f9v9i7pdcWZID1k9GEBI29RcGT2ZRFsc5dYktlbsqnJNzZWw92ges8Uy3vqvd+F3e7TqbXYLr4EueydSXHIiiXuncDqctXEUq/QQpqTKGi7GG3FkpohUQnEXkfR752v/5be2z5tFpNqxECLS1aeuNrm/REiboxNJ3xAVwl5fNmVszGWSim2I8fLBLJ477N+JVChX8L3fv4BFHZQPyYqYPyztz+KlW8aauq+JMfbOb/4B41KC46DGf1IvJuLEXj2B85L+xselJ5ME5zAd+1bD2QQi75Hd+SFEN3FNmi4EG84G1FLB3P3METx+YBonrBjw/LeMaREibqkq7Hjq4DRWDOaM73dktohShZvmy/3ZlMl56FY52EpCVXDCin48pOdQc0MI5/OhOtuCxnrrkk9e68JCqLrWxRwAI/zIi0jzhau240MXH+O/sQ341rUvMVkXAdRZp3kbnEhOi61ty/tx6rqhlt47k1SRL1VNi6ykqkBhDAenC/jwfz5gxA6XqpqDoUuq8AHU3CN24WzWxZu88H3ucG0HyO4YCiHIenPbr8eii4tjrSx67fPtEpw3QkusreXYMj/engWj3A9yOFul2iixtvP7ednpTKi6E8lHHLT14lpzeVVMzyusvnqfvIubTqi+3HG+wtkUhn0TczgsLWJmCmUcmS2ZBCA73qSHpDYKs1w+WBNkrM5IuR9VheH+Gy/E7244r+FnMtO51Xg8JSyOwJrzq/7v5L5yEqdMIlJSQaXCUSx7cyLJf3vy6kH87au2uf4NUJtAipDBOmEyEieS/WfJx8bWiWTzWDObAl7FaMqJFA6MsSnG2KTNvynGmLcZ6QJluZ5/7anxaZdXunNwuoAv3fGUsQk2NVdqSz4koD6JrZWCJRHwsoEsDkwVsOumn+F1XzILH3bOqH4nJ1JMwtkalW5PqIrvCraCQzNFDHc5O5sFbuH2h/W+G+xKmRapE3pOJGvFUbEWGO2xFwiySRU/e+SAIW72ZRPGnMrJ2bZ8INdUONuX7nga+VLF8+J1viJvqv2z5O4OSkRKqcwoAmPHvqMiT1VjJ5IQVl+QqjG2K8RJVFyzc8WLtVO+VEZFd9MHHc62qDeNlUM5fO7nTwCohYZ6JZNU6q6VXnhqfAZrhruMeer+SU1klEWk3mzCJCIVy/7C2QDt+mZ3ja9WOW594EVzcSF9HdGudV2QRH8HiTHW9bx8gbfuFogTTFFY3YWp5kRy/8yLt4zhmjPWNtdgB05aNWiUUBRYd5E5WnciNSo5LiyozW5ei4oWcr8nVcUkXP3+2aMAYCTkFRdC8ZmNnEjWiYaT+GHnFBDnvrX/1ui7aSLRsl04m9VR5ObcTiZETiTz420LZ7MsaGvlSrlU+UxFUmWGGNNILX/0r1/q+pkJhRmuppTHi2Zd6KD+d2KnUM6JZF3ryuEN2ZRqCHc3XrrJ9XPFhd56IxeTFHnCqyoMv3h0HF/65dPGY3v1yUAjEellxy/BRy/dBMbqy8/Kx9m0iLF8R3n8MqbZlf0sGNx2WeSbm6JI1dls/qxWgc35/eTn0gkVpaqWPN7vTXQyX7/j7oRol+FucxhTQYtI8vnj5bNsnUg+km078bpTVuAzV2719FpFYU1fywnvcM57OOe9Nv96OOf+vfsLiOOW9EJhwL3PT7T8Xtd9+z789Q8fxoN7tcX4RL6E3mx7FlXCiSTCw61Y5yvHLek1zj0x5xHYCSIDek4kqwu8WImHiLRED2OZsQk7TCjNO5EOTRcw2O2eP8ctPOiI7kQa68uYEnBP5rX29locvmKOsMghnE0kR7/x+1qxjN5M0hCinJJGLx/M4eB00Xc5elE97lU7vLlz48Qxi3uw0uLEbhYnca5dDn4rmvjpPG4P6aFR1vxlVoQgKTayP3755rZVSBN9krOpdie7I8V8OWgnEmMMl0qhij1pfyJ9OqE6hgQ7Ua1yPH1wBmtGugyTyIEpTeCTRaS+bBIT+dq5p81N/Y2dbNK+gML/vW8vrv23u/HVX+2R3l8UCIr++uxG/FsYIecco1UGG9LDorKpWnc5OZGA+vLfxUoFFR5tOJs13KE+nI17LgXu+BkN3kA802xZaO0ELJtEnIRqri4kdmpKFc1qKGyaIgeSWFhPF8qYsNi7rcfGaXJlZzUW38n6HrvWDeN3N5yHc481i0hyTiarS8atf1L6zalSrZomP+262MjfjzFmlLv/9H89aiT2yyRUZBJq224uCUUxFHqvk1rrBTzhlBNJqQmm4jF5sppJ1MLZtizrMx6/eMti/C8bR0vt4m4+1k5OJCtCsHASkfbctBt//0cngDGGnM1NJ5VQcPkJS7FNaitQP27MOZFsP6ohXquzifevCS71x0+8ttFNV35OJNYuV6qB2nmt7akPkdSeD9pS7MWJ5PR6u8fEOeS38toNF2/CqMewB7tcYwQRJ7rSCawb7cZ9zx91f7ELIgmycLrum5hrW8n0rFs4m0VE2jTWZ/s6wN5VICoXTUoOXFFkJaVGnydn7ahWbMGu+lgq0XxOpMMzRVMVTifc3M9injPcnUZBciI5VX8Tot+IgxNJHAfxvj2ZWk4kp7nUsgHNsfK8z7xITxyYxsmrB/Hxy7f4+rs4cOt7zsB///nZbXkvpxCw4MLZWMNwNuGYcQtNExuFv3ziIFIJBVftXNm2NgoHZK+No1Jck/LFijROgxWRAODKE2tip9/cT804kfKlCgrlKoa705KIZOdESpqKZWkpU/y1T+T1lXls/5ThMvudngcVqOW+8+t2igISkRpw2vphPP3Ji42ktXZOpJVDOezeMma6EYnBaCSfLVVR9RjO5oQoc9ksVoHHLidSq/H9jRZA4q2bdiLpOZHkz0gqZieSmGwJB4PIHyMmIULcu+F7D2DbX91m2plrlBPJDdGXdl9f3mkQY6ZRYm0v4WyVKscvHhs33YDaZXuUv4PK7EuAZ5IK0vpnK6z1RH8JlRkXV683dasAIMaF1Ykkh7OJx+TJqtx2WQD5wlUn4hU2uXXE51qFBfE+8sTB7lCK2PaRHvcd0lw6UbfzmE4o+Oyrj8ct7zzN9Lj12mLNzeQXN+HElOBeyolk5+AT51IqoeDUdcP4E5vqe7Iol06oKFU4ShX/uz2NJm5WrOdMXU6kkJxIvkUk2+pstceEeO633X60MoVRTiQi/mxd1o/7n59oOQm8uDbki9r1Zd/EXF1+t2bJuYWzWXbXxxrkUXEKZwNgCmkTc6U4OJEu3jKGt5+1Fu8+b33dc3bVd71ycLpo5MVshNt1slCqgDFtISmHsxXK2nzUeo8SfeulGlpSZcgklbqQOCsiJcLeo/5EpKm5MpYP5DqiylOQyN//mMU9uHSb5ngJMrH2XLGC2x/ab7vZIs5pt3QPsnBjVxCoFbp1B5KdOCSuSTPFMl6vh8x2+3QGNYOcn8lv7qdM0r8TSZzP2ZRqHIsDehoS2Wnal02iWK4VF9JSpvibX2VT5nC2Q9MFXPDZ/8GnbtWKIhyWrs+imAI5keYBTCornpV2eYR4cdFxi/H5q7ab/kYsKIWKXChXW3Yi/fjdp+PBv7yw6b+3Dsb6hM7BOpFaJZNUMVeqmvowoTLT70KcEQ4GIRoVhIhk2XWTF5yNqrO5UavO5pJHRn/+Rf0iJf+t8bvL7r5Y2B6dLZnybyXb5JZQXXKvANqxEBfc7rR9ctGbX38ifvH+szx9ZkJhRvJKr/Zi681f9IuRE0kSAIQwJyYSJidSgzxndnz9LTvx3vM2mCoOArXdTPn4ye8nbjgiN8GKQXdROJeydyLZcZqUeBkwC5XNiMPuOZHM4Wziu9q1r5aTTIGqMFz/0mMdXwPUrp+FcsX3jdrPrrW1X6yHP2EIhuGJSF4+y+4cMYlI+pj2W7XOz+tVhVF1NiL2bFnah0MzRWN3uVnE6TWRL2GmUMZE3r2ykldylnLaVsS1/H3nb8BX3nSSaYf8b64wO0zs7tni9ZNSOEacRKSkquC6i46xdee2Up1tIl9Cn4s4A7hvbOZLFWQSKrJJxVwko1RFxqb/xPEachCw1kgbwj2ZJBhjxjFy2kQUzpA5n06LmWIZXTbhSguZ/7jmFPTqwklQbtqkquCnjxzAH//rXfjUrY/UPV+wREc4EWRFNFH1zm6toyoM6YQWIfDUwRkACDwnEgBkWhCR0gnFd2JtcT5nEpKIZOdE0tfyE/kSKlUOzv071LNJFcVK1RCIrK4kWeSn6mzzDCE2mJxI+oTbTuEXrxvtSYMx4JlDs54TazuRSaqO8dJesC5OrNdOLZyttQHbSETZsWoQAHDx1rGm3juT1KodyE20ikhiYiQS8oqLghHOZg0zlBbajRIYu2E4XVz6T3yGfOOyTpDsJhE/fd+ZtXbZLLYB/6Erjm00hbPZvyadVIzPdrJfX3DcYqPCihuywOl1x8wqLogLel11Nj0B8Du+8XvDlitXZ5N3PryIvOtGu/Hu89bX59ASOZGkXVP5BiBuSI/tn8Zwd9o1Fl5rWwIzhYppse4kbiZVBW87a63kfqzdoJoZGm7Ck9wOhdX6zq594jxsJMzKIqgQ5PLFiu+baKnc/KTQqeJfu84tJ+Rrs5fPsnMbyO8hFhx++87PJoc4r4jOhDH2SsbYg4yxKmNsR9TtCQrh4HhxYs7llY0R14aJfMkIKXKrrOSVmojk5ETS7mlbl/fj7GNGceo6bcNg01gvXn3SCvzdq49v+P6yKG+8Z8Vf+HhUpJOqbQ5LNypVjulC2VPyczf391xJSx2wuC+L8amCsVCdK1VsF7p/fflmbFzU4ygyfudtu7B2RJsbCTFDuMWcrqnGXNanoDZbqNiGOC5k+nMpI4/V1Jz3HIp+kOen3793b93zNRHJWzgb4L3qrFeEyFlyGHNd6YRprhx0TiTAPLdxS3hvJdPEtUKcy5mUioSeY3dcF5HkvhdOQa1ym31KCzfEdV6IR1Zn2eGZ2lishbPF+/oMAHR18YAYNHZhO3aLXnFjWdSbQTal4uePHkC1Gm1OJOvJVRdGVXUWDbzSSABYO9KNPTftbvq9hUDDUGtkUlFMwk2hrC24D84UMdSdMiZIxq6bg+1Yfn+BLxFJ70q342v3vFw+FrCfRKwd6TZ+Njs22r/D5KXcuOZE0j67FWFTIC+AvTrArK8T7yHEk6RUnY1z4If37zNeK8LZrjxxGV52/FL8+bfvq2uHX8QkTw7VksPjejNJoxqLmEC6ocVQl007pY1EhoTCjB2MQoOx3Q7kG6hcnc1ujIsJVaNzyhTOpl9n86WKbxt+s7vWQH3bRZvi5kSyuw/JY00sGrzulL3ihKX47h9e8OVYUxSGJqNMiHjwAIBXAPjnqBsSJKK0+f7J9ohI+ybyuP0hbZGx0VLxtlnEPdRZRDKHenenE/jZ+840nAFui61aVdratdHYWIt5uEQ6oZg2RLwiNox6Pbgn3ByVc6UKskkVa0e6UOXapvDGxT26uFTf92dvHMXZG0cd32+gK4Vty/vx5PiMsVAVi1QnEUncB/2ENBXLVRQrVSNJ8kLn/RdswLFjWi0C4SyZtMnD1Q7c5i3GPNVFiJBDzW68zL3wix9EvrCyw5wpm1QxLfVPGDmRTOsbnwJ3Ri++5Afh7BPiFUftOiyLZssGtATvzx6aNX72H85W2xztySTrBOEjs0W9SjqTwtni70QiEckDtXJ7tUEtbjzJhE3OGP2mnUooWNqfxUN7JyNPrO0mVnDwlnMieSnn3ixi8cxhdnrIi+piuYqjsyUUy1Us6s0Yx0ssLK0LcFM4m+Wr+wpn0/vSrf/sjv+4xWbvtrkvj8Eg+lt2Yzg50zIJ1bWaiB/kOZxX0cA5nE13IqnCiaTFL8uICeZfXnac6X1aOT8ZY3UiqSwIyDdgrzssuZSKqbmyEfK4tD9rsthaEYIZ59x0Mw3CSSMfJyblzrITQcRrG4lI5nGt9U+V+y9n63enVsY63MVnh5kTyYsb1E08FhMirxOQT125FX/18s2eXitQmfvii4gvnPOHgdbzIMYdUSGr1XA2cY//x589YTwmb+60QtYlnM3OSb1G+mynylMCMU+QnUhxCmdrRCapNOVEEg4Tu6TBVtyuYnNlTSxaM6z1+VPj05qIVK7Uudu9IvJ1irwr4r7ulGfOuiHqBZF/JReCg6QTeOc5tZxbxy3RxKR2VX+z4ioiVapIJxTX66/slO9qs6NMiCROOce60ioOSevGsPNq+c0HlEkomCtVDSHGC0Y4m34ey+ti+dq4Wq9u/vTBGZykR9U0E84G1EQq67ksih/0ZZOGOyzoDcx2EO87SEwQi1BZeRQXe9vwjWRt0aQqWgLSatXbAiEoRLzle8/bgGvOWFN3s6ry5sJeZIK8yIi+ky94SbU+sbbINzTWlzGOjXyyHiPtHsrx5daFtp/JtbDMLx9onCPBbjEq3CkCa7U2wealvTh744hpDAaxADAtaB0GRFJlWKlfVNthcZVFHq/qvlN1NjHhlJ0x1jwCYnfFushudxWuzUtrVXTSSdW4KXl1BvVlkzg6WzTs9q/duaLh68Wxq1S56TsHcdmRr3sqq5V7txszxvdu0L/ycU9JPze6iZ6yZggAcN6xo/jmW3cCcJ4QeaEunC2knEgJv04kGwu8HF8v+ttrqxOq4vs8pnC2hQNj7BrG2F2MsbvGx8ejbo4vhrrTUFjrTqRJS9gLY+2b7+SS3sLZnDaNcm5OJBHOJt0ThNgedxEpnfDvLgBqbmMv7gm3cLZ8sYJ0UsVq3UEscsQU9FxJzSA230QZ86xLHruUZUPUCyIUiZxI9ZyxYQQ/+NPT8NqTG8+pmqXRPLZcqeKbv33W00a1PMdv92aguOc7JXXPpRLGJndKVbByMBjBrV2IYj9+ROc5hwqLVvpySQx1pfDJHz+CEz52OwD/TqRG4WxiDXlEF+3KFS3/byds8sT7DhITBvV4ZXkHWMyf7W7C4nVpVQu3qlS57kQKvq1OiMzvF25ehExCcUis3dqADXLHXry1NXGxfGEtSCLSot4MVui7DOceu8h4za3vOcMIOZJ3/lr57q/csQxfu/pkU3lKO+pC5lQF//XAizgw5ZxoW/CDPz0dX3nzyabxFsT1RTU5kexfwxgzkkO2Ej4kMAmDHie11sW2GHvCJiyOp91FWCTWtsYbt9s6+tFLN2H5oHZzSCcUw57r9TxZ2p/F3ok5qfqfN6dbhXOTIyeMcLZKg50Tsdhq1Ar5OMnCaqNFzualfdhz027sWjds2NRbGY/W/lUNITLYC7cX4VYmk6pvz5y0ABWLzSAlHkUhESnuMMZ+whh7wObfy/y8D+f8Zs75Ds75jpGRkaCaGwiqwrB+tAe/fvJQ0+9RqXLsPZo3iTVfe/PJ7WgeAE3ETSWUpkUksWO/zGETq1E4W1AlzttF804kISK5O5HkqlN27spCuYJMUhPaF/Wm8eT4NIBarqRmEMKOcKEt7c/izaeuws1vsE9P1owTScxvyYlkz+alfYEt0k1ObctzX/v1M5iaK2OqEEwonVc2L+3FjZduwk1XbLV9PpdSDRHpb67cEnhuyFapOS79u/W8pAax5jFN+0wnkrXkvhNz9NedsgI37NaKzUzktc2KcpV3hAsJIBHJE1943XZ88hVbjFhIoOYYsXMviAGZSihQFK3EeKXKA1nMeeWInrRrpDttXAxk14vmRPLfvrDGueFEspQutzqRJvWTcCCXxFhfFvd85Hxcaykp3p/VREF5h8ttN6oRjDGcuWHE9YYk9++qoRyGulO4c89hvPKLv5ba0fizzCGVzbW3EfJXsBM7vvxGbZKzfeUAABhJPlvBZCH1OKm19nXSGs5mCAD1f7tXT7JqvSm2+6KdSao4R8+NkFIV47rgVaxa0p9FsVw1buRuzRPjq1o1x7n7Oa/fdc46bF3W5/o6czhb7by0+yxxTOWnkipz3P0RiWsB9112gbhBl1sQNqyX8kSDMdRO5HuI244YYD/hkRegwnkQZLSZ7D4j4gnn/DzO+Wabf7dE3bYwueC4RbjrmSNNOVoA4JEXJzE5V8Z5+mZUSlVwxob2imlaJU6XcDYH14vYxf7QxfVVLwH7xNqdEs6WTqgoV7lj3hYnxDzQixPp3eeuN1wZJRsn65zkOFoz3I2nxnUnUrnimhjZCeFEEvdLRWH46KXHYcMi+zxbhojkx4lU0I43OZHCR94MtY6oI5bUIlHBGMObTl2NQYcqgrlUwghn64Tk7HLOIa/MlUW+Y/dzxBoa62WuJiP6MG8JZ7v8hGVGknORaqNUqYYePtgsndHKiBntyeA1FtujWPjaHWfhOEglFCjyAitCZfF1p6wEAAzkUoaYJbteqpw35WxxugC1G9F35aocpsPMibUrVcOyLW66/blUneAgFof5Yu29nMLI2smcNIn759fvMC56zxyarb3G5QIY9IXFLj/LV950kvGYcHWduHIAT33iYrzr3PVoFdk90uykVrRbXJjFuPAjoAThpBMlS1OJmojk1dmyRF8cPHc476l9YmhUODcJc37O6z+7YCO+/87TXF8nu7hUxiRR3TmcTW7H/TdeiD985Hzb9/7zCzcaP3tNHi92oS4/Yamn19thHStC7AvaiSS/vReLtGs4WwiTD0Vxdk0SRJwYyNVvGvlBiAa71mrhszwAj19XKuGeWNvh3jjSk8aem3bj4i32lW/tnEgi3DmI4hztpBl3AQAc9SEiZVMq3nPeev1z6o/BXKlqzNXG+jI4OF0wHm/WiVSbC3h7vbim++kHI5yNnEihIwsM1o2tKHPj+qE7rUo/x38Mibxiws3jhbmiOSfS9S89xvG1In+ZwO+1U4wJazhbOqEYjkmRy61c4R2RVBugxNpNIybQdu4Tw4mkKihVqsYiOUon0gdfegyuu3AjFIUZSYcrVQ5xHlR5czl2+nOpurw+QWCEs1WcL8iFUhUFD7H+4m/knb8wFkRL+rNQGPDF152IjYt7DJurXEFkcq6Ebcv68M+vt7c1+43D9YudiOQkFLZLFJUFj2ZFMmtOJNE2PyJSu3MiAXKSY6X2s8d+G+yqlRUFvCRuryUHlMdzEJMWuaCAyPsG2I+JRhUs7di4uAdjfRnsm5jzfKNmjOHej17Q0q5rnYik+Mst1CzyuPNyDba7Bmxf0W/83OzuuB8oJ1Jnwxi7HMA/AhgB8EPG2D2c8wsjblYgiGuINTeeV8Tu8Ao9J0gQU4VsSnXcQS+6hLO5If5OFtHyHnOBRE3t2FV8iSE/f+QABrtSpuiBRshildULNFeqGIvMvlwSE7Ml6fHm+k8IkV7vzYwxpFTFVzibaGcYVbUIM7LoYhWv/c7hv3DV9rakjfCLfL55dYRHiYgwEfl/vWC9Dl5zxhp88seP2L7WOjfze+20FlCQ89KJ9xLVAsvVaiDrkSCgq0uTiImEnTAkHurNJpEvVYycL1HHlIrPN5xI8iKAc8+had99+y58+Y6n8cP796G/QbWodiIWeKUGqn6xUnW1fgM1h4G8e28XBnPLO07Fyz7//zffaAvd6QSe+mStgpedSDORL2H3ljEs7svYvocpnK1tLashL6TFRwWtiJdMIlJznyXaWNQT0gl8OZEC+J5ih6EgTUS9ThzrhDGXPxPNr1S1RP7G4wFcd6zCR6OcSF1p/4s4cX31M0lvVLnOC9Zruei3VkJdPX2uz+NjJzRdcNxiDOSSODJbMgT0IBwTAlVhVJ2tg+Gcfw/A96JuRxhk9RxieY9OpLufOYxlAzks6tXuwaIQgxAkghj12aTq2L6ChzlNIwyBpCQ7kcw78HGlWSfSA3snsGvtkGdns+hbO7daXgpn68+mMFUoo1SpYq7cvIhUbRD+7URSZb5EJBG2v6SvccEXov3IIlLBMu/xuw50chgGjfwdwnSzfeOtO5tyjYoE4b6cSCVzTqRGm3jWNmVtclM2ImcJt5Pz0gmhV9xryhUeuGGgXZCI1CS1cLb6Ay3srssHszg4XTAUx7jYGOUEvAI/OZG2rxjAweML+OH9+1peuHlFXHitu98mEalc8bRrV3MiSTmRbESkoI+X6O4+3W5fqlQxW6w07NMowtmC/kw530GzoTiyeKHaCGF+36NdiBLTR2aLRiI+r5+TMPI8mZOFOyFaR9wgAAAgAElEQVRXZ5PP7WYryDQiqZr7uFRyvh4u13fw90/4r5AU5k45c8iJFLTjpl3jbqQnjSOzpVpi7QCbrTBG4WxER5BpIBDYccU/aTkKf/XBc7CkP2skwBUbO0Es6rINciJZQ/T9klC1KsGyEJO3LJ7iimjfc4dnjfBuL0zPldHrY26aSztXyJsrVY17t1ioTuZLLYWzifmsn/tbKqGgWPG+uN57NI9sUnWsvkUEhyy6FCtVVKvcOOZuKSviQlROpGbzrIp101EfItKzh2fRlVJN5+G7zlmHDYvrc5NZ7x9+RX2ncLZUQjH6WhQEKJSrsc9XJ+iMVsaQaoPwjQOTmoi0qDcDhbFYhLPJ1BLwmnMi+VnLiAG+0eZkCwK76myAJZytXK3lD2igHiRsRCS7hWKr1ercECXgRTibSAbZ1+CmH3g4m01J0aCrBJTbEM7GGDPGgnzY/Oz6BCEajukLj8MzRSkPgrfPEX1RtIToOWEkzLfkREoHsNvMGDN2T+TQJrvvJkrD+qlGIlw0Ye6UO1VnayVZt6fPbdO4E+MlCEedFe2YB/4xBNEyGUtp5UbI7ro/+frdADRBojudQCqh4NfXn4PPvNK+mlEraE4k+xOqWKkgobCW7k/phGLMjcanCrju2/dpnxvzMBUhiL/65t/gnueOev676ULZVx6XbssiTsA5x2S+ZCxQhSBzaKaIQ9MFjHSbKzZ55Yrty/CmXavwpz5ySqYSCkpl7/eifRN5jPVnOqJM+Hyj2xJCKAu4TrnP4oYsInV1QGJtw4k0611E+vWTh7BzzZBpDvZnF2zEJVuX1L22LpzN57XTqTpbKqEgqae7EDmRpgvljglDJRGpSQwRyeb6LHbelw/koCrMqLgVdTibICHlRBL4zYl05oYRfOGq7Xjv+Rva3j47jOpslpWL2YmkhbMlFNawr0XumLy082cXsmINSf3lB8723e5GfPzlWwDUxouwYVqrAMiYRJYAnACm6mwhOZFMOZFaUN9rFdmaC2cLQixbrFvJD88UjQmxZyeSJVm4ezibHvJpOUeCypEjEta6iUgiXHPVkLf8FDJhOpGsIr/o/7JNxZ44kgixmoeqhFOMgCBaxY8TSa5+NWlM6EuGyDDWlw3keppNqo4OhUKp9V1pTUTSvtudTx82Hu8UJxIAPH1w2tPflCtVFMpVXwtfI5zEstExW6ygWKliQF+gCnfTw/smUeXwnHPJSiap4sbLjvPl5NecSN6V+z0HZ7G8yfYRrSEnpQbM154Z/TxfM9wVapv8In+HXDre1wlAE4JVhRk5RN2oVjn2HJrBsWPejBCfuXIb3nraauN3v3PTtF5oqy6cTb+292QSmC6UUa1yHJopdkQyc4DC2ZpGLCzs3EUfe/lmvPqk5Vg+mDMtquIS4igW1pUqx1ypgmP+4lYAwPIB73ZhxliosbqiG+sqHcjV2XQRyS0BpVGdTb+wbxrrxVl6KXan9wbav6DNplSM9qSN3U+RVK3RxMI6mVw93IWRnuZ2w+wwCzDa/0GLSAOS86oVp1VCYSjCEs7mQ0QKYsduVD82u9bWLLpeq33VOZFc2ieE0/f8xz2mx4NwIgG1capKu+R2DkDGGH70rtMx2ut9nDaTE6lVrN1bS1QeD8vNbe89w3Ar2pG0CHhBRptpmyMkIhHxR+wAexGR5OTW4to9XSgbed2CIpdSMVuyd2oWK+5zGjfSCdUIi5M3GTIxD5mQv3dK9XYMjNL2Po5Zd1q7l01bnEhiQSpcDsNd2ph4t36PXTYYXr4hP4m1ZwplPLRvEn+yYU3ArSLssAqYplDSYhljfRn813vPCLtZvpCdSGFUfG0V4Y6fLpTx2P4p7J+cw+nrRxxfP5EvocqBoS5v89IVQzl8+JJN+NIvnwbgf27KGDPlvjOcSHrfjvVl8NTBGbz/2/fi3ueO4jy9EnbciUREYox9GsClAIoAngTwZs65d69qDGjkLupOJ3DKGq0crMnZERMnkpwTSS4vH3T4VivIwpfpcYsTyUssqfibfFE7ib/y5pNsLwjWYxtEtnyFMTx/JI9fPn7QeKxREjuToMMYfv7+s9raHpOIJMLZAlY/P33lNpzwsdsBtHazEuKgfNyiHtJJVcEd152NkZ40PvgdLYTAa3+KYy0mIG6CmPj+dz1zxPR4qwsQJ4SIpDDgvedvgMIYLt++1Pa1m5b0NvUZYYpIddXZ1HDC2byyYVHjHbMwS8IyyolEdAgiJNZLYn851KTXKLtcRncDd3A7yKRUYz5ipVCqtux+yiQVzOnhbPJ3DNO92Aw9Ur/POOSMsjKtv85XOJvuRJqxOJGO6qEx/brrdt1oNxRWm/+vG+n2/BmtkkqonhOMv/9b9wLQNkiJ8LGGOuUtTqT+XCrwzdlWkdchnRIS2ZXSRKQLPvs/AICnPnGxY1TKoRlNIB7qtq8+7UYzpoJsKoHZYgWFcqWW604fByeuHMQ3fvuM4RRNJTqjz6MaxbcD2Mw53wrgMQDXR9SOphG7sG4LO7scM1EjV2fbO5E3Ho9zRUEjnM2yoJN31UQ4m5uIVHMiaRMGJ+GirlpTAIs0xoA7Hj+I1335t0bOgkZ5YILOiSQvpI3E2gEPjIGulHFBbmVSK/7W5P7zcM69esfypj/TC8sHc8gk1VrOGp+JtcWOhdt93Ol9gxJiDBFJYejLJvGRSze1LdRDnOXh5kQy/y4nKu8ENo1pOdaGPe6stYLKGIWzER2Bn3A2WWD56SMHcMfj45gplNETcGhBNqk6tq9QrrQcztadSRj5fg7PFFp6rzCRQ02s+YqcEEKQn4pS3bpzxJq371dPapt7ogpxNqVirS4c7d46htFe+yq6QZBSmedwNuGguvC4xUE2iXBAJKLevqIfAHBgslZUZKZQRlfMc5EBtXQFnURXWjUJwU81CIE9rItIcnVsPzSzOZtLqcgXy9j44Vvx9z993JR65dixHpNI7KeacZREIhtwzm/jnIsj/RsAy6JoRyuIRa/bzd0czhYPEclIwFsFXjhSE5HirDY76RgPvjAJAFjan0WhrMWvez0m/37ncwCcj6F1UR5EzhxZtBEXjUYL8VTAOZHsBJgwHA5/pufWasVeL9prJ4RZ+btXH2/8fNMVW/D0Jy9u+nO9IkQur+NIiHeew9kcng/KidRrOJHaPz7E0A56t04eB07ne1ycSG5cf/Ex+Pc/PgXblvcH/llyrj+CiDNZH4m185a8RJ+69VHfSZqbIadXZ+M29/R2hLP1Z1M4qgsLB6e95QyJAwlVwaeu0BKZi6Szboi8Rn6OmQh9s4azfeJHjwDQNroEy/S0D83k+GuFVEJBsewtKXOpwnHquqHY57yar5y4chD/55pT8Lev0uYXzx6uRXwcnS11RMW8RT7SD8SFrrTm9BHn/uP7G4lImpjerIjUjCkkl1Kx92hNUJTXntZ2WO9FcSUO3pOrAfzY6UnG2DWMsbsYY3eNj4+H2KzGfOzlm/Huc9fjNJdyhEoMnUhG6WrO8fVfP2M83gnhbAKxMyiSUu9aO1RzIrksPK2LeKeFan04WzBOJIFIrN1owhi0/VwWOsWPYYhIf3zGGuy5aXfD7/eHvzgfP3rX6bj7w+fZPi9ywshv4XTOicp4gCaehiGgJoz2+XMiCYeamyHM6X2DSqy9XM8HIapRtpO3nq4lMGyUZL4dvPyEWviddQyIypPHhFSBcqDFiWVSVfCStUOhnK+MdY5Di1jY1JxIXsLZzCJCbzahVWcLuFJOJqmiymuu0z88e8Q4v9qRWLsvlzRKX784Mefy6njxqpOWozudwGQ+OCdSQq+ONF2wF6pWDdWSIAtRsifge5OVVEJByWORB83tQilvo2TnmiEsG8hCYVYRqYi+bPxdPsNNVh6MEhHOJsT4uQai6+EZ7Vz3KyJ986078Y6z1zbVvkxSxUP7Jo3fZbdXv8X51ajtcSKwqwxj7CcA7LyUN3DOb9FfcwOAMoBvOL0P5/xmADcDwI4dO2Izax3sSnmqTBZnJ1KlWsUT4zWlNiYaly2yiHTF9mX41JXa7tTHXn4c3nbWGnz39y+gWKmiUK64Lpqti22nEDGn8JZ2In8vYUFulAg58HA26aPVkMLZvDLQlTLtCFoR4YYmIczhtUEIgm4Y1eM8XgeEGHDf8xMA4udEWj+qiSuPH5hq+3tfe+ZaXHtmczfqdnH6+hHc/t4zsG40+LwXP/mzM9pmHxciup2roV2ojBJrE51BJiVyInkIZ7O8JpdKYCoEJ5JwtueLFTz24jQu/8KvAAB33nAuCh6KhbjRn00apa9fOJp3eXX86MkkPDuRRNib32PWm00YOZAEw90pXHDcYpOIJwouhF2CO6UqnoW0MNxzhDtJVcFYXxbPSxEfR2ZLLW8YhUHcczbZ0ZVWcWBqDiVJgHdipgnHIgDsWjeMXS7mESdyKdVUAVLOx2QVs9YMh5dvrRUCu8pwzu3tAjqMsTcCuATAuTzI2W7E+M3PEgZiEVssc9NucjxaZ4+8QE6qtWpQuVQC60Z7jF2aOQ+7dnKC7FRCcXShWBf7QbhV5LcUMbqNRDC57UGcNHI/G+FhMRm3boibnnycyg45BMJMQiwQzfKaW0uIdw/u1XYu3EUk+8eDsrSfoMf7n76+uRtqJ7DeJZl1u1g32r7PEWM7yJsqVWcjOoWUqoAxf9XZvvi6E3Htv92NPzx7FNOFcuCCQU4KuTuar4WbXf3V3yGXTLTsROrXnUicc7xwNI/lg1l84KJjWnrPMOmRcjq5IRzdfT4X6qM9GYxPm121c6Wq4WQTCMdz2ItsLZzNW56U2WKlI8qyLwQW92WwX8+JNFeqIF+qNNwMjRvtrP4cNF3pBGYKFWPe3ygRvch/lwvRsZez5MIaksaBLCxetm0JPvby40JrVytEVZ3tIgAfAHAm53zW7fWdTBzD2cS9L28pKdtsONtVO1dg27Jg83CYi5LVt1NMsu58+jCOX9G4LbKYl24wEQjjeNk6kRpMGLMpFZdsHcMP7tsXSHvkvolzjiw7hPgmfwenRJRR7LKIY+3ViaQozFQJxu38dMrd08jZ1grD3Wk8+JcX1t0Ym+WO6872lLeEaEwQVSStMMbgMccrQUSKKK3sJ7H2prFe7Fw9iN/qlXICdyKlak4kOezuAT3n45kbnEtVe6E/m0KlyjE+VcDhmSLectpGXLJ1SUvvGSa9mSQmPTqRJoWIlPUnIi3qTeOFo+ZQv7lSpa64Q1QFF1IJ1XNi7elC2Vc4HxEci3rTeOTFKeSLFTxxQIv88Ds2o+K+Gy+ITQSNF7rTCcwUy8acudAgJGy2VEY6oYRq7rBu6A5JIYNy6obXnLwiVHGrFaLyq30OQA+A2xlj9zDGvhhROwJHHp9xORnFYtRaUrZZ0eDjl2/Bq04KtsKV3Da7c14ICF6SUMoulEZCURjHS/6IIzPuIhIAvHHXqsDaY3IiWb5+3C24QkiUbwpOdtYoXIHiI/0MKzlHlJvuVXKYYAYVzgZoOz/tEhuXD+Zcy9gT7gQd8gpozoDebGdMcggik1Q9CdR3Pn0I2aSK4Z4UPrx7k/F40AtysbiYLVYMJw0A9OoOqFav4WLR+htdFAsjRLed+HUiqQrzXQFrtDdjqqJVrlRRrvI6Z/iqYS0/UtjzoZSqoFCqYK9LOGKpouUG7e6QReh8Z1FvBgcmC7jm63fh0s/9EkDnVD7rzSQ7SozMpRKGiAw0zoM3W6i0bQPUK42cSPJadGXISftbIarqbOs458s558fr/66Noh1hYA5ni7AhEkJEsSaRjIlRyha3iluy3dstsbb8941CMsJ2It359GEozD15thhTQUSTJB0Etm9d+xLc+p4z2v+BbURMtOXD5uhEiiDPkzjWfjYwkz6cYU7WXbfzgZhfJIycSMF9xocuPhY/e99ZwX0AQbQRzYnk7uK44/GDOH/TIuRSCWxZ1meE7IZRnQ3QnC9CRPr45Zuxc80QAPcqwG4Ip9OvnzwEoBaK3Cn0ZJK4/4UJ/OrJg66vnciX0JdN+t7cWNSTwaGZohEyNqf/b3Ui/ckZa/D5127HhcfZpXwNjlSCYe/EHHbd9DPsOTjj+LpmEosTwbGoN4PpQhl3PF4bu10UahgI3WnVNL9u6EQqVkJ3+1jXdnJOJAD416tPxu6tY1jcmwmzWS1Bq4uA8VJuPGxEO75557O2j8cRU8UtOyeS9AK3UCU5qXK1wYpe/pwvv3GHeyObQP4qM8WKJ4EhSIeUPPGSBdCTVg1iUcwvbGk7J5KDsOI1L1E7YYaI5H11L9903M5Pp3wJnRaWSLSGONo80KxIBNE5pJOKqxOpWuU4MFUwqk4CwEbdGSlCzYPCSKwtiUh/dNIKo5x8yyKS/v5Pjk8jl1Ix2hPve7kVUR3vtf/yWwDAd+5+Hp//+RO2rxUikl+Ge7QF3VH9WBf08WINQUmoCnZvHQv9vipvBu2fdK6wN22ISCRUxAG7fGqdEqrUaViF00aJtWeL5dCdSNb0z0Nd5nxTZ2wYwedfuz02qW+8QCJSwMQxsbbImfGLR8dNj8d5rSnfsO1u3nLeF7ekyfJxaCTayK8799hFXprpm2aEu7COU6dV96g5kaScSA7CShTV2cRH+nGIJH2Es1m/62dfvQ33fOR87x9GzAvifB0niCjIJlVDFHDi0EwRlSo3bZa885x12La8Hy/dPBZo++Rwtsl8CT2ZBFSFYdmAFtZgrRrmF+FEmsyXWhakosB6b3vft+7Fp//rUdsKlBP5khEG6IdBPcTosC4iOTmRokI+btYqgjJirHRKyNR8J2tT2MTuMaJ1uiziXKFcxVypgl88esBUZOex/VP48QMvNky8HQRVy8dZnUidSDyujvMYWVGMi7roJLLE2bHgGs6meg9nk79/pVE4W8g5kbwimhy000BO9NYJ2OZEcrCzRplYu5H7zYocXuh2fh63pNf0eyahop8mkgsOIf6GHW5BEHHFS04k4e6QXTrLBnK45R2nYnFfsM4dOZzt8EzREAB2b9FCG87a2FpibSFSHZ0tdWR485RDUu1nD9fX5ZmaK6O3CSeSqJh1eFoXkRycSFEhi0gif6bMdKGM3zx1yKgwJyftJaLDVkQK2QGzULA6ke57YQK33PMC3vSV3+Eff1ZzLn5BdzHaXT+CxLreHJ4H52hnWQ06EDn0KC6JtZ0Sr8ZE47JFNYlI9c/LN1hXJ5LH4xCGcyzOIYSdljjXrjrb8kFtJ5cxswMoirEuPtNPTiRTEniXsbJzzRC+9IYdeOu/3qW9Ps4nNBEYPZkkfnfDebFPhE8QYZFJKq45kQ5M6SJSb/gTe7k624GpOSzS27C4L4PffOjclt9fiFSTcyUMdlB5cYFTJbRHX5zCyqEu02OzxXJTOUVEvxhOJF1EsibWjoqUWmvHERtn2ge+fR9+eP8+/PmFGwEAI/NggTofsBMhSUQKBmsI573PHUVKn0M/JwlGUeULs24gd+K12ErnbUl0GPKmT9zC2azEWdCQu86umXJ5c7fE1PJp3OhGG3Z1Nr9/wxBs+3o6zYmk1oez/ckZa/GNt+7EiSsGTK+NxHWnf6YfB5mcANzL5WPpQC2fRxQhe0Q8GOlJu14HCWKhoCXWbuxEemy/Vn577XD4lctySW1RM1us4MBkoe05i7JSuFwnhrPdeNlxAGo5qkSI2b6J+txAM4UKck3kAxLuL+HyEaJjOobhbEdtcnQ9Oa6N30denAIwP0Jl5gN2IlIuJu62+YadOCTOBz+5SINCtEHMzUlEIlxhLmFYUeDk1InzmtOtH+Xy5m52bfm1ixrsOoZxuOIyJuzotHA2MdmTx7GqMJy6bhgzRffyzkHTjBPJlFPNw1iREwWSE4kgCAJIewhne3DvJJb2Z9EXgYMvk9LuXflSBQemCm13Q8nOh04MZ1s2kMNl25ZgrlwB59z4Dnsn6svdzxTLTeVz7NeP++EZzeVjJNaOixNJEpEO24SziRC+h/dNIpNUQk8aTNhj5zoiJ1IwWHMiATXBRr7+j09pIZ9fedNJ4TRMR+TW/c93nIpfX39ObEJlW6Gz4lU6EFM4W0wWdU75YOKcE0nuO7t2ysKQmwNDTm62cXGP4+vC6A9rU//49NWe/zbwnEgdFs4mJpZ259lssRx2c+oQgqFdMlAn5CHoZTzKk5O4hM8SBEFEiZZYu4qJ2RLK1aptvphnD89izUiXzV8HT0pVoDDg0HQR04Vy+51IsojUgU4kQHMZPHNoFquv/5Exx9t3tN6JNFtornR3UlXQlVKN6ngirC0uYow8rcnbbIqJinRPHJjGhkXdsZ7PLyTsErOnO/QcjDt24vFMQTtX8lI484GpAk5bN4yzjxkNrW0AcOm2JTj32NF5VZ1v/nyTmGKuzhZhQySsIktW36WL8z1HbrKdRrRz9ZDxc9LlAr1pSS/etGsVAOC6iza2o3lNY73R7966xPVvlusVW15z8opA2iTotAoSNSdS/QARN5IoqTmRfIhIUsiiFw1avjlROBtBEIS2kMuXKjj+Y7eBc2DPTbvrXlMoVZDtiSaPDGMMuVQCL05qzpp25zOT7+Wd6EQCgC5JzBHpC2576EWc87e/QDap4jOv3Ia1I90oVqrobrK8fW82aSTx/r/37sVITxrHjDlvNIaJXElq1iIizRbL+G+p2vLJqwdDaxfRGLt5NAl8wWAXxlrUDQZ5aSP5+SN5nBuygCSYTwISQOFsgaOYRKR4dLfViSR2WuIcWuUWzrakP4u3n7UWAJB0WTyrCsONlx2HGy87LvIT2vpVvCz8B7pS2HPTbly1c2Ugbfrca0/A7q1jHXejE4kn7Zr9wZceE/kOrOhPP+Fs8nfx4mSUJywUzkYQBKFN3GeLZTTS74vlaqT3iL5sEi/ozppcmxO/JlXFmFtEfR9sFrt8J3OlKp4an8GDeyfxv3/5tOE4bnZe15NJYGpOe48XJwvYNNYbm8Tack6vWUto5id+9LCxWAaoMmec6LTN2E5GOJE2L+3FF1+33fScEF7nShUcnC5gmZQ/lGie+SWJxRA5pCQuzgBrTqRsSgVm4p0TSV5AO7VTdHW7xbpVQ7m2vp+MVRCLg5B3ydYluMSDIypuCCeSXSWXK09chitPXIZVH/xh2M0y2LqsDwCwTf/fC25hnI1eH5fwWYIgiCjpyyZdq7MVytVIBYPh7hSeOTQDwOy6aRfZpIqpQtkxnUHcEeFagqX9WbxwNI+edAI71wzi7meOGLkPm8mJBGjFRCZ1J9JcsYJsE1XegkIev3lLeP7+yYLx859fuBGnrRsOrV1EY9IkIoVGJqni6285GVuW9qEvm4TCapu2IgT0mq/fDQBYNkgiUjsgESlgOqE6m5ZAOR8LAcMJc3W2xu1s59f40btOx5L+4CYS1iHhlPSccEfY9EsV5+3mr775JDxxYDqsJpk4ff0Ifn39ORjr837zSngQT52I8/lMEAQRFqLyViMKETuRRnrSuPf5CQDBlKDuSicwVSh3rBNp1bB5M+81Jy/HZ257DIxpuS1/9sgBzBR0J1Kz4WyZBA5Oa7mQ8qVKrBIgy7kUrUniZbfLO85eF1qbCHfkY/M3V2zB0wdnG7yaaJXT148YP+dSCUzr14TZYgWzxTL+5zEt7HPL0v5I2jffIBEpYOSFXDImAoG1HWKHJ87hS4pLOJtMO7/FpiW9bXy3eqx9HhehsRMRTqRy1XnH+ayNozhrYzSx0AB8CUiAOSTNrygUF+cjQRBElPR7yDFULFciTXg7LCX7tqsy1CrdmQQw2bnhbKuHu02/71o3DNz2GLYt70dXOoEqB/Yc1JxcrTiRntLfI1+q2CZFjoq3n7UOs8UK9k3kjTYKKGQqvsjrrVefFGweU8JMNqVKIlIZT+vnzReu2o51o92N/pTwSHyukPMUNYY5kRKSPeqO68423C9xXnOaRaQIG9JmrF+FFv7NI0rxlsrBVq0Lk1aqO5IgSRAEUS8i2YU8FyvVSEWkESmpd7NOmkYIYSXdoeFscg6TpMqwfcUAvvO2l+ATl29BThdRvvqrPRjsSuGkVc0llpZzIs2VKrEqwd2XS+JjL9+MgVyqrjpbnMQuwgxjDK/duSL0cvKEubJivlQx8oo1KzIT9dCVJ2CUOOZEktqxfDBnLDZjbESCrL/Np4TBVncJLfybR1jPC+XoK7G1C3NOJH9/S+FsBEHYwRj7NGPsEcbYfYyx7zHG5rW33xrOZg0H4pzrOZGimxJraQU0gljkiPfsVCdSUlXwnbftAlAL9ztx5SCWD+aMROS/evIQdq0dajoccCCXwkS+hFKlirlSJZYOn1xKravONp/mxPORT1y+JfRy8gSM8NbFvRmUKhyTee33OInDnU5n3k06CCWGiW6tiRWFqBTnRafcNrdmxvhr1GE1p1nzVRHeESJSsdw4gWonobYSzhaT8Nm48/13noqvv+XkqJtBEGFyO4DNnPOtAB4DcH3E7QkUq4g0a0lMXK5ycB6twCK7SXIB5OIRIlKnJtYGgBWDWl6kE5abNU+5v9aONB+msm60G5Uqx2P7p1Cq8FguNjMptU4EFUm3KaE2QdR493kbcMaGEbz+JVol6xcnteqX5NxrH+TpCpg4VmezillicdrpOZEale+NK+REah9i11AuddvpNONEEjuVcRaF48TWZfPahEEQdXDOb5N+/Q2AK6NqSxgs7svgy2/cgb1H8/iLWx6sCwcq6BsPUVZnk6s4NVuivhHdmc52IgFayN/Xrj4Z21eYr9lyDqkrT1zW9PsfO6blwLz7mSMA4plrKJdMoFiuolLlxvxgrlTBcHcKX3kzhUwRhOD1p6zE609ZiR/etw8AsO9oHkA8z+tOpXPvJh2CbCxJxHQHSDWcSBE3pAFy29zaGWcxzI24CI2diLgxFFxKOXcS8nhokC/chAiLIEGSIAgPXA3gx05PMsauYYzdxRi7a3x8PMRmtans9u4AABNwSURBVJdzj12EIT15tdXJIdyrUQoscihdENfuTg9nE5y5YQQ9GXOOK+FCVpiWoqFZ1o50YWl/Fv9yx1MANNdP3OjS82Xt/MRPjYpt+WIFg12pjnaZEURQDOg58f7hZ08AoHC2dkJXnIBpJTFuWAjHQpydC56cSGE1po3UOZEoBKlpjJxI89SJVPVotevRd5znU1gfQRD+YIz9hDH2gM2/l0mvuQFAGcA3nN6Hc34z53wH53zHyMiI08s6AnGPsOaUEXn0osyJFPTCRiSMzs3DBZRwIrXqJEuoCs7ftAjPHdYcC5kYCm6iit/B6QKOzJYAAHPleCUBJ4g4MdBlDmdOUzhb26CeDBh5ERhbl4nerLg2D4ivANcq1q8V2zHSARjhbPNIPJFFRq8i0ilrhgBEuyAiCCJaOOfncc432/y7BQAYY28EcAmAqzjvxGBw/wixYbYQPydS0CLA9pVaCNjLjl8a6OdEgRAH27E47M3WXE7ZGDqRFvdljJ//8OwRcM6RL5KIRBBOWHPiUThb+6CcSAETx8TaVjohJxIzhbPFt51+oZxI7WM+TqLk5Ng2Valt+cilm/CK7UuxargroFYRBNHJMMYuAvABAGdyzmejbk9Y9OkCwUS+ZHo8DjmRgna9vPbkFbj8hKWB5FuKGrFh0o6Nk95MrX8yEY4HJxb31kSkt3ztLnzkkk2YK1eNsU0QhJmBLvO5MR/XClFBW9UBI4sEcY1XFuvUOGsz5nC2CBvSZqy6AFVna5447hq2ijzuKx5VpKSq4IQVA0E1iSCIzudzAHoA3M4Yu4cx9sWoGxQG/XpujKP5ounxheBEYozNSwEJqB3XN7xkVcvv1SvlW7IuPuOA7EQCgL/6wUO497mj6JqH8x+CaAfphIrvvG2X8Xtc1+KdyPy8o8SIpBp/8aMTciKZSp07dORZG0bwT794ErvWDoXVrJaxhijFdYx0AvPRoiqHNw53pxq8kiAIwhuc83VRtyEK7JxI5UoVf3PrIwDmd06k+UxPJonH/vqlpvl2s/Rma8uiRb2ZBq+MhkxSxXUXbcSnbn3U9PjGxT0RtYgg4o+1oiPRHkiOCxjZHh3XcDFmiEgRN6QBctc59ePONUPYc9PujnJhWM0lcR0jncB8DAVUdWfa289ai5VDFJ5GEATRLJmkinRCwcRsTUT68H8+gDsePwigVuI9CjKU7LUlUgmlLfMn2Yk02hM/EQkA3n5WvQZ8ydaxCFpCEJ0Bra2Cge5aAdMJyW3F5CXOTqR5G862MPKZhsqZGzq7gpDMKWsGAQDnb1oUcUsIgiA6n/5cEkclEemXT2gC0jfeuhMjPemomkVOpJjQI4lIUYY3+mH31jGsGyUnEkEQ4ULhbAET51KCY3pstQgD8lr9KQpUk4g0f1Qkr3luCG/cf+MF82oyfuWJy3D6+pG6PAgEQRCEf/qzKVM427rRbvTnkjh13XCErYpnEueFyJJ+7V67Y2XnONpp7BCEOz9935k4OFWIuhnzChKRAibKah+NePivLoLI4SwSEueL8S2NLgtH/fOoCkWchbtORN5FnA8wxkhAIgiCaBPdmQSmCjURabZYiUXC6ThvOC4khrrTeOivLkQq5sl3zz1mFD995AAACoUkCC+sHenG2pHuqJsxr6ArT8DENZwtm1INgUs4N+bKlSib1BAmdeMZ8yhciYxIBEEQBBEO6YRiVGMDgHyxglwMKlulEwq2LevD5157QtRNWfDkUgkkYi4i3fyGHTh9veaem0/ua4IgOofot1/mOXHfzQBq4Wz5YnxFJDmcrSs9f4ZtlVQkgiAIggiFdELBdKFs/D5bLGN5KhthizQYY7jlnadF3QyiQ1AVhuFuLYcXOZEIgogCuvIEjFM5+jhhOJFK8RWR5lEaJBMUzkYQBEEQ4ZBJqiiUzE6kbHL+bEwRCwfhoItr2gyCIOY3dOckkE1pWmKcRaRMQsW5x4zidaesjLopbYWMSARBEAQRDumEYgrdz5fiEc5GEH4R4lFc02YQBDG/IRGJqIWzxVhEUhSGL7/ppKib0Xa47kQ6f9MibFhECd8IgiAIIijSCbMTaTYmOZEIwi8pXTwq024kQRARQCISYYSz5Uvxrc42X6noItIV25fios1jEbeGIAiCIOYv6aSCgu5EqlQ5CuWqUaGWIDoJISIVyjR3JwgifMgDSWC0Ryshvmwg+uSSC42qfu9XFToVCYIgCCJI0gnFWHQL93WWqlsRHYgIYyuSiEQQRASQE4nApiW9+NrVJ2Pn6sGom7LgEIm1Ex2QgJ0gCIIgOpl0QjVEpNmiVqWNwtmITkRUfyYRiSCIKCD7AwEAOHPDiBHWRoSHKM6mkohEEARBEIGSTiioVDnKlSryRd2JlKL9VKLzuGjzYgDAFScujbglBEEsROjOSRARUiEnEkEQBEGEQjpZyyMzq4tI5EQiOpHlgznsuWl31M0gCGKBQiJSCHz5jTtQoeoJhA0inI2cSARBEAQRLMJxPVeq1HIikYhEEARBEL4gESkEzj12UdRNIGKKCGdLqCQiEQRBEESQpKWKViKcLUeh/ARBEAThi0hzIjHG3s8Y44yx4SjbQRBRUXMiUXoygiAIggiSdEITjMzhbLSfShAEQRB+iGzlyhhbDuB8AM9G1QaCiBoR5kg5kQiCIAgiWDJ6TqSZQtmozpZN0SYOQRAEQfghyjvnZwFcB4CSBRELFgpnIwiCIIhwWD3cDQB44sA0VWcjCIIgiCaJRERijF0G4AXO+b0eXnsNY+wuxthd4+PjIbSOIMKDnEgEQRAEEQ5rRrqQSih4cO9ELZyNciIRBEEQhC8C235hjP0EwGKbp24A8CEAF3h5H875zQBuBoAdO3aQa4mYV1BOJIIgCIIIh6SqYM1wF54cn0F/LgWAqrMRBEEQhF8CE5E45+fZPc4Y2wJgNYB7GWMAsAzA7xljJ3POXwyqPQQRR4SIRE4kgiAIggieFYM5PH1wBvsn5wDUKrYRBEEQBOGN0APBOef3AxgVvzPG9gDYwTk/GHZbCCJq9Gg2qCQiEQRBEETgrBjM4baH9hu/6xuaBEEQBEF4hLZfCCJCyIlEEARBEOGxfDBn/PwPrzkhwpYQBEEQRGcSeUkKzvmqqNtAEFFRrYqcSCQiEQRBEETQjPakjZ/XjnRF2BKCIAiC6EzIiUQQESLC2RKUWJsgCIIgAmeouyYirRwiEYkgCIIg/EIrV4KIEKM6m0pOJIIgCCJ4GGMfY4zdxxi7hzF2G2NsSdRtCpPh7pTxc3c6ckM+QRAEQXQcJCIRRIQYIhIl9iQIgiDC4dOc862c8+MB/ADAR6JuUJjITiSCIAiCIPxDIhJBREg2qQIASEMiCIIgwoBzPin92gWAR9WWKOjNkPuIIAiCIFqB7qQEESHfunYXfvLwfmR0MYkgCIIggoYx9nEAbwAwAeDsiJsTKowx3HjpJmxb3h91UwiCIAiiIyERiSAiZN1oN9aNdkfdDIIgCGIewRj7CYDFNk/dwDm/hXN+A4AbGGPXA3gngI86vM81AK4BgBUrVgTV3NB506mro24CQRAEQXQsJCIRBEEQBEHMIzjn53l86TcB/BAOIhLn/GYANwPAjh07FlTYG0EQBEEQ9lBOJIIgCIIgiAUCY2y99OtlAB6Jqi0EQRAEQXQe5EQiCIIgCIJYONzEGNsIoArgGQDXRtwegiAIgiA6CBKRCIIgCIIgFgic8yuibgNBEARBEJ0LhbMRBEEQBEEQBEEQBEEQrpCIRBAEQRAEQRAEQRAEQbhCIhJBEARBEARBEARBEAThColIBEEQBEEQBEEQBEEQhCuMcx51GzzDGBuHVkkkCIYBHAzovYl6qL/Dh/o8XKi/w4X6O3yC6vOVnPORAN6XaAGag80rqL/Dhfo7fKjPw4X6O1yC7G9Pc7COEpGChDF2F+d8R9TtWChQf4cP9Xm4UH+HC/V3+FCfE+2CxlK4UH+HC/V3+FCfhwv1d7jEob8pnI0gCIIgCIIgCIIgCIJwhUQkgiAIgiAIgiAIgiAIwhUSkWrcHHUDFhjU3+FDfR4u1N/hQv0dPtTnRLugsRQu1N/hQv0dPtTn4UL9HS6R9zflRCIIgiAIgiAIgiAIgiBcIScSQRAEQRAEQRAEQRAE4QqJSARBEARBEARBEARBEIQrJCIBYIxdxBh7lDH2BGPsg1G3Zz7AGFvOGPs5Y+xhxtiDjLF3648PMsZuZ4w9rv8/oD/OGGP/oB+D+xhj26P9Bp0JY0xljP2BMfYD/ffVjLHf6v39fxhjKf3xtP77E/rzq6JsdyfCGOtnjH2bMfaIPs5fQuM7WBhj79WvJw8wxv6dMZahMd4+GGP/mzF2gDH2gPSY7zHNGHuj/vrHGWNvjOK7EJ0Bzb/aD82/ooHmX+FCc7BwoflX8HTaHGzBi0iMMRXA5wG8FMAmAK9hjG2KtlXzgjKA93HOjwVwCoB36P36QQA/5ZyvB/BT/XdA6//1+r9rAPxT+E2eF7wbwMPS738D4LN6fx8B8Bb98bcAOMI5Xwfgs/rrCH/8PYBbOefHANgGrd9pfAcEY2wpgHcB2ME53wxABfBHoDHeTr4K4CLLY77GNGNsEMBHAewEcDKAj4pJD0HI0PwrMGj+FQ00/woXmoOFBM2/QuOr6KA52IIXkaB18BOc86c450UA/wHgZRG3qePhnO/jnP9e/3kK2sV9KbS+/Zr+sq8BeLn+88sA/CvX+A2AfsbYWMjN7mgYY8sA7AbwJf13BuAcAN/WX2Ltb3Ecvg3gXP31hAcYY70AzgDwZQDgnBc550dB4ztoEgCyjLEEgByAfaAx3jY45/8D4LDlYb9j+kIAt3POD3POjwC4HfWTIoIAaP4VCDT/Ch+af4ULzcEigeZfAdNpczASkbQb63PS78/rjxFtQrcxngDgtwAWcc73AdpEB8Co/jI6Dq3zdwCuA1DVfx8CcJRzXtZ/l/vU6G/9+Qn99YQ31gAYB/AV3b7+JcZYF2h8Bwbn/AUAnwHwLLTJywSAu0FjPGj8jmka64RXaKwEDM2/QoPmX+FCc7AQoflXpMR2DkYiEmCnjPLQWzFPYYx1A/gOgPdwzicbvdTmMToOHmGMXQLgAOf8bvlhm5dyD88R7iQAbAfwT5zzEwDMoGYxtYP6u0V0O+7LAKwGsARAFzQ7rxUa4+Hg1L/U74RXaKwECM2/woHmX5FAc7AQoflXLIl8DkYikqbQLZd+XwZgb0RtmVcwxpLQJjDf4Jx/V394v7CQ6v8f0B+n49AapwK4jDG2B1pIwDnQdsb6despYO5To7/15/tQb6EknHkewPOc89/qv38b2oSGxndwnAfgac75OOe8BOC7AHaBxnjQ+B3TNNYJr9BYCQiaf4UKzb/Ch+Zg4ULzr+iI7RyMRCTgdwDW6xnmU9AShX0/4jZ1PHrs65cBPMw5/1/SU98HIDLFvxHALdLjb9CzzZ8CYELY9wh3OOfXc86Xcc5XQRvDP+OcXwXg5wCu1F9m7W9xHK7UX0+7BB7hnL8I4DnG2Eb9oXMBPAQa30HyLIBTGGM5/foi+pzGeLD4HdP/BeACxtiAvnt5gf4YQVih+VcA0PwrXGj+FT40Bwsdmn9FR3znYJzzBf8PwMUAHgPwJIAbom7PfPgH4DRo9rn7ANyj/7sYWkzsTwE8rv8/qL+eQavS8iSA+6FVAIj8e3TiPwBnAfiB/vMaAHcCeALAtwCk9ccz+u9P6M+vibrdnfYPwPEA7tLH+H8CGKDxHXif/yWARwA8AODrANI0xtvav/8OLd9BCdpu1luaGdMArtb7/QkAb476e9G/+P6j+VcgfUrzr+j6nuZf4fU1zcHC7W+afwXfxx01B2P6hxEEQRAEQRAEQRAEQRCEIxTORhAEQRAEQRAEQRAEQbhCIhJBEARBEARBEARBEAThColIBEEQBEEQBEEQBEEQhCskIhEEQRAEQRAEQRAEQRCukIhEEARBEARBEARBEARBuJKIugEEQSwcGGOiVCUALAZQATCu/z7LOd8VScMIgiAIgiDmMTQHIwiiXTDOedRtIAhiAcIYuxHANOf8M1G3hSAIgiAIYqFAczCCIFqBwtkIgogFjLFp/f+zGGP/zRj7/xhjjzHGbmKMXcUYu5Mxdj9jbK3+uhHG2HcYY7/T/50a7TcgCIIgCILoPGgORhCEH0hEIggijmwD8G4AWwC8HsAGzvnJAL4E4E/11/w9gM9yzk8CcIX+HEEQBEEQBNE8NAcjCKIhlBOJIIg48jvO+T4AYIw9CeA2/fH7AZyt/3wegE2MMfE3vYyxHs75VKgtJQiCIAiCmD/QHIwgiIaQiEQQRBwpSD9Xpd+rqF23FAAv4Zznw2wYQRAEQRDEPIbmYARBNITC2QiC6FRuA/BO8Qtj7PgI20IQBEEQBLFQoDkYQSxgSEQiCKJTeReAHYyx+xhjDwG4NuoGEQRBEARBLABoDkYQCxjGOY+6DQRBEARBEARBEARBEETMIScSQRAEQRAEQRAEQRAE4QqJSARBEARBEARBEARBEIQrJCIRBEEQBEEQBEEQBEEQrpCIRBAEQRAEQRAEQRAEQbhCIhJBEARBEARBEARBEAThColIBEEQBEEQBEEQBEEQhCskIhEEQRAEQRAEQRAEQRCu/D9RERJHaHXQ6AAAAABJRU5ErkJggg==\n",
      "text/plain": [
       "<Figure size 1440x288 with 2 Axes>"
      ]
     },
     "metadata": {
      "needs_background": "light"
     },
     "output_type": "display_data"
    }
   ],
   "source": [
    "#Same approach as in 2.3. New distribution, though. I should have made a function in hindsight \n",
    "#Function is defined in the next cell. \n",
    "\n",
    "T = 1000\n",
    "np.random.seed(6969)\n",
    "x = np.random.normal(loc = 0, scale = par['sigma_x'], size = T)\n",
    "c = np.random.normal(loc = 0, scale = par['sigma_c'], size = T)\n",
    "yminus = [0]\n",
    "piminus = [0]\n",
    "sminus = [0]\n",
    "vminus = [0]\n",
    "x[1] = 0.1\n",
    "\n",
    "\n",
    "\n",
    "for t in range(1, T):\n",
    "    vminus.append(vt(vminus[t-1], x[t]))\n",
    "    sminus.append(st(sminus[t-1], c[t]))\n",
    "    yminus.append(yt21(par['h'], par['alpha'], vminus[t], par['b'], sminus[t], par['phi'], sminus[t-1], piminus[t-1], yminus[t-1], par['gamma']))\n",
    "    piminus.append(pi21(par['h'], par['alpha'], vminus[t], par['b'], sminus[t], par['phi'], sminus[t-1], piminus[t-1], yminus[t-1], par['gamma']))\n",
    "    \n",
    "fig, (ax1, ax2) = plt.subplots(1, 2)\n",
    "ax1.plot(yminus, label = \"Output gap\")\n",
    "ax1.set_title(\"Output over time\")\n",
    "ax2.plot(piminus, label = \"Inflation gap\")\n",
    "ax2.set_title(\"Inflation over time\")\n",
    "ax1.set_xlabel(\"Time\")\n",
    "ax2.set_xlabel(\"Time\")\n",
    "ax1.set_ylabel(\"Output\")\n",
    "ax2.set_ylabel(\"Inflation\")\n",
    "fig.set_figwidth(20)\n",
    "plt.show() \n",
    "    \n"
   ]
  },
  {
   "cell_type": "code",
   "execution_count": 27,
   "metadata": {},
   "outputs": [
    {
     "name": "stdout",
     "output_type": "stream",
     "text": [
      "The variance is (y, pi) = (1.8145391852221522, 1.0238862692255288)\n"
     ]
    }
   ],
   "source": [
    "print(f'The variance is (y, pi) = {np.var(yminus), np.var(piminus)}')"
   ]
  },
  {
   "cell_type": "code",
   "execution_count": 28,
   "metadata": {},
   "outputs": [
    {
     "name": "stdout",
     "output_type": "stream",
     "text": [
      "The correlation coefficient between y and pi is: [[ 1.         -0.13784279]\n",
      " [-0.13784279  1.        ]]\n"
     ]
    }
   ],
   "source": [
    "print(f'The correlation coefficient between y and pi is: {np.corrcoef(yminus, piminus)}')"
   ]
  },
  {
   "cell_type": "code",
   "execution_count": 29,
   "metadata": {},
   "outputs": [
    {
     "name": "stdout",
     "output_type": "stream",
     "text": [
      "The autocorrelation between yt and y_(t-1) is: [[1.         0.76075706]\n",
      " [0.76075706 1.        ]]\n"
     ]
    }
   ],
   "source": [
    "print(f'The autocorrelation between yt and y_(t-1) is: {np.corrcoef(np.array([yminus[:-1], yminus[1:]]))}')"
   ]
  },
  {
   "cell_type": "code",
   "execution_count": 30,
   "metadata": {},
   "outputs": [
    {
     "name": "stdout",
     "output_type": "stream",
     "text": [
      "The autocorrelation between pi_t and pi_(t-1) is: [[1.         0.97795762]\n",
      " [0.97795762 1.        ]]\n"
     ]
    }
   ],
   "source": [
    "print(f'The autocorrelation between pi_t and pi_(t-1) is: {np.corrcoef(np.array([piminus[:-1], piminus[1:]]))}')"
   ]
  },
  {
   "cell_type": "markdown",
   "metadata": {},
   "source": [
    "**Question 5:** Plot how the correlation between $y_t$ and $\\pi_t$ changes with $\\phi$. Use a numerical optimizer or root finder to choose $\\phi\\in(0,1)$ such that the simulated correlation between $y_t$ and $\\pi_t$ comes close to 0.31. "
   ]
  },
  {
   "cell_type": "code",
   "execution_count": 31,
   "metadata": {},
   "outputs": [],
   "source": [
    "def rootfinder_phi(phi):\n",
    "    T = 1000\n",
    "    np.random.seed(6969)\n",
    "    x = np.random.normal(loc = 0, scale = par['sigma_x'], size = T)\n",
    "    c = np.random.normal(loc = 0, scale = par['sigma_c'], size = T)\n",
    "    yminus = [0]\n",
    "    piminus = [0]\n",
    "    sminus = [0]\n",
    "    vminus = [0]\n",
    "    x[1] = 0.1\n",
    "    #Adding the correlation\n",
    "    corr_y_pi = [0]\n",
    "    for t in range(1, T):\n",
    "        vminus.append(vt(vminus[t-1], x[t]))\n",
    "        sminus.append(st(sminus[t-1], c[t]))\n",
    "        yminus.append(yt21(par['h'], par['alpha'], vminus[t], par['b'], sminus[t], phi, sminus[t-1], piminus[t-1], yminus[t-1], par['gamma']))\n",
    "        piminus.append(pi21(par['h'], par['alpha'], vminus[t], par['b'], sminus[t], phi, sminus[t-1], piminus[t-1], yminus[t-1], par['gamma']))\n",
    "        corr_y_pi = np.corrcoef(yminus, piminus)[1, 0]\n",
    "    return yminus, piminus, corr_y_pi\n",
    "\n"
   ]
  },
  {
   "cell_type": "code",
   "execution_count": 45,
   "metadata": {},
   "outputs": [
    {
     "name": "stdout",
     "output_type": "stream",
     "text": [
      "The value of phi, such that the correlation coefficient is closest to 0.31 is: 0.9562298823595026\n"
     ]
    }
   ],
   "source": [
    "opti_fun = lambda phi: np.corrcoef(rootfinder_phi(phi)[0], rootfinder_phi(phi)[1])[1, 0]-0.31\n",
    "\n",
    "opti_fun_root = optimize.brentq(opti_fun, a = 0, b = 1, full_output = False)\n",
    "print(f'The value of phi, such that the correlation coefficient is closest to 0.31 is: {opti_fun_root}')"
   ]
  },
  {
   "cell_type": "markdown",
   "metadata": {},
   "source": [
    "**Quesiton 6:** Use a numerical optimizer to choose $\\sigma_x>0$, $\\sigma_c>0$ and $\\phi\\in(0,1)$ to make the simulated statistics as close as possible to US business cycle data where:\n",
    "\n",
    "1. $var(y_t) = 1.64$\n",
    "2. $var(\\pi_t) = 0.21$\n",
    "3. $corr(y_t,\\pi_t) = 0.31$\n",
    "4. $corr(y_t,y_{t-1}) = 0.84$\n",
    "5. $corr(\\pi_t,\\pi_{t-1}) = 0.48$"
   ]
  },
  {
   "cell_type": "code",
   "execution_count": 33,
   "metadata": {},
   "outputs": [],
   "source": [
    "#Getting an error and cannot think of a way to pass it. My approach would have been extending the method above to fit in multiple criteria.\n",
    "\n",
    "#def USbusiness(phi, c, x):\n",
    "#    T = 1000\n",
    "#    np.random.seed(6969)\n",
    "#    x = np.random.normal(loc = 0, scale = par['sigma_x'], size = T)\n",
    "#    c = np.random.normal(loc = 0, scale = par['sigma_c'], size = T)\n",
    "#    yminus = [0]\n",
    "#    piminus = [0]\n",
    "#    sminus = [0]\n",
    "#    vminus = [0]\n",
    "#    x[1] = 0.1\n",
    "#    corr_y_pi = [0]\n",
    "#    corr_y_y = [0]\n",
    "#    corr_pi_pi = [0]\n",
    "#    var_y = [0]\n",
    "#    var_pi = [0]\n",
    "    \n",
    "#    for t in range(1, T):\n",
    "#        vminus.append(vt(vminus[t-1], x[t]))\n",
    "#        sminus.append(st(sminus[t-1], c[t]))\n",
    "#        yminus.append(yt21(par['h'], par['alpha'], vminus[t], par['b'], sminus[t], phi, sminus[t-1], piminus[t-1], yminus[t-1], par['gamma']))\n",
    "#        piminus.append(pi21(par['h'], par['alpha'], vminus[t], par['b'], sminus[t], phi, sminus[t-1], piminus[t-1], yminus[t-1], par['gamma']))\n",
    "#        corr_y_pi = np.corrcoef(yminus, piminus)[1, 0]\n",
    "#        corr_y_y = np.corrcoef(yminus[1:], yminus[:-1])[1, 0]\n",
    "#        corr_pi_pi = np.corrcoef(piminus[1:], piminus[:-1])[1, 0]\n",
    "#        var_y = np.var(yminus)\n",
    "#        var_pi = np.var(piminus)\n",
    "#        return var_pi, var_y, yminus, piminus, corr_y_y, corr_pi_pi, corr_y_pi\n",
    "    \n",
    "#var_pi, var_y, yminus, piminus, corr_y_y, corr_pi_pi, corr_y_pi   = USbusiness(pi, c, x)\n",
    "    "
   ]
  },
  {
   "cell_type": "markdown",
   "metadata": {},
   "source": [
    "# 3. Exchange economy"
   ]
  },
  {
   "cell_type": "markdown",
   "metadata": {},
   "source": [
    "Consider an **exchange economy** with\n",
    "\n",
    "1. 3 goods, $(x_1,x_2,x_3)$\n",
    "2. $N$ consumers indexed by \\\\( j \\in \\{1,2,\\dots,N\\} \\\\)\n",
    "3. Preferences are Cobb-Douglas with log-normally distributed coefficients\n",
    "\n",
    "    $$ \\begin{eqnarray*}\n",
    "    u^{j}(x_{1},x_{2},x_{3}) &=& \n",
    "    \\left(x_{1}^{\\beta_{1}^{j}}x_{2}^{\\beta_{2}^{j}}x_{3}^{\\beta_{3}^{j}}\\right)^{\\gamma}\\\\\n",
    "     &  & \\,\\,\\,\\beta_{i}^{j}=\\frac{\\alpha_{i}^{j}}{\\alpha_{1}^{j}+\\alpha_{2}^{j}+\\alpha_{3}^{j}} \\\\\n",
    "     &  & \\,\\,\\,\\boldsymbol{\\alpha}^{j}=(\\alpha_{1}^{j},\\alpha_{2}^{j},\\alpha_{3}^{j}) \\\\ \n",
    "     &  & \\,\\,\\,\\log(\\boldsymbol{\\alpha}^j) \\sim \\mathcal{N}(\\mu,\\Sigma) \\\\\n",
    "    \\end{eqnarray*} $$\n",
    "\n",
    "4. Endowments are exponentially distributed,\n",
    "\n",
    "$$\n",
    "\\begin{eqnarray*}\n",
    "\\boldsymbol{e}^{j} &=& (e_{1}^{j},e_{2}^{j},e_{3}^{j}) \\\\\n",
    " &  & e_i^j \\sim f, f(z;\\zeta) =  1/\\zeta \\exp(-z/\\zeta)\n",
    "\\end{eqnarray*}\n",
    "$$"
   ]
  },
  {
   "cell_type": "markdown",
   "metadata": {},
   "source": [
    "Let $p_3 = 1$ be the **numeraire**. The implied **demand functions** are:\n",
    "\n",
    "$$\n",
    "\\begin{eqnarray*}\n",
    "x_{i}^{\\star j}(p_{1},p_{2},\\boldsymbol{e}^{j})&=&\\beta^{j}_i\\frac{I^j}{p_{i}} \\\\\n",
    "\\end{eqnarray*}\n",
    "$$\n",
    "\n",
    "where consumer $j$'s income is\n",
    "\n",
    "$$I^j = p_1 e_1^j + p_2 e_2^j +p_3 e_3^j$$"
   ]
  },
  {
   "cell_type": "markdown",
   "metadata": {},
   "source": [
    "The **parameters** and **random preferences and endowments** are given by:"
   ]
  },
  {
   "cell_type": "code",
   "execution_count": 34,
   "metadata": {},
   "outputs": [
    {
     "data": {
      "text/plain": [
       "array([[0.53104511, 0.30693723, 0.16201766],\n",
       "       [0.50866997, 0.4162364 , 0.07509363],\n",
       "       [0.83317207, 0.07722226, 0.08960567],\n",
       "       ...,\n",
       "       [0.63725404, 0.22027742, 0.14246854],\n",
       "       [0.78205036, 0.11988119, 0.09806844],\n",
       "       [0.65552751, 0.24728801, 0.09718448]])"
      ]
     },
     "execution_count": 34,
     "metadata": {},
     "output_type": "execute_result"
    }
   ],
   "source": [
    "# a. parameters\n",
    "N = 50000\n",
    "mu = np.array([3,2,1])\n",
    "Sigma = np.array([[0.25, 0, 0], [0, 0.25, 0], [0, 0, 0.25]])\n",
    "gamma = 0.8\n",
    "zeta = 1\n",
    "\n",
    "# b. random draws\n",
    "seed = 1986\n",
    "np.random.seed(seed)\n",
    "\n",
    "# preferences\n",
    "alphas = np.exp(np.random.multivariate_normal(mu, Sigma, size=N))\n",
    "betas = alphas/np.reshape(np.sum(alphas,axis=1),(N,1))\n",
    "\n",
    "# endowments\n",
    "e1 = np.random.exponential(zeta,size=N)\n",
    "e2 = np.random.exponential(zeta,size=N)\n",
    "e3 = np.random.exponential(zeta,size=N)\n",
    "\n",
    "#Let's check how beta looks\n",
    "betas"
   ]
  },
  {
   "cell_type": "markdown",
   "metadata": {},
   "source": [
    "**Question 1:** Plot the histograms of the budget shares for each good across agents."
   ]
  },
  {
   "cell_type": "code",
   "execution_count": 35,
   "metadata": {},
   "outputs": [
    {
     "data": {
      "image/png": "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\n",
      "text/plain": [
       "<Figure size 1440x288 with 3 Axes>"
      ]
     },
     "metadata": {
      "needs_background": "light"
     },
     "output_type": "display_data"
    }
   ],
   "source": [
    "fig, ax = plt.subplots(1, 3)\n",
    "ax[0].hist(betas[:,0], bins = 100, density = 'True')\n",
    "ax[0].set_title(\"Good 1\")\n",
    "ax[1].hist(betas[:,1], bins = 100, density = 'True')\n",
    "ax[1].set_title(\"Good 2\")\n",
    "ax[2].hist(betas[:,2], bins = 100, density = 'True')\n",
    "ax[2].set_title(\"Good 3\")\n",
    "fig.set_figwidth(20)\n",
    "plt.show()"
   ]
  },
  {
   "cell_type": "markdown",
   "metadata": {},
   "source": [
    "Consider the **excess demand functions:**\n",
    "\n",
    "$$ z_i(p_1,p_2) = \\sum_{j=1}^N x_{i}^{\\star j}(p_{1},p_{2},\\boldsymbol{e}^{j}) - e_i^j$$\n",
    "**Question 2:** Plot the excess demand functions."
   ]
  },
  {
   "cell_type": "code",
   "execution_count": 36,
   "metadata": {},
   "outputs": [],
   "source": [
    "#Demand for each good\n",
    "\n",
    "def x1(p1, p2, e1, e2, e3, betas):\n",
    "    I = p1*e1 + p2*e2 + e3\n",
    "    return betas[:,0]*I/p1\n",
    "\n",
    "def x2(p1, p2, e1, e2, e3, betas):\n",
    "    I = p1*e1 + p2*e2 + e3\n",
    "    return betas[:,1]*I/p2\n",
    "\n",
    "def x3(p1, p2, e1, e2, e3, betas):\n",
    "    I = p1*e1 + p2*e2 + e3\n",
    "    return betas[:,2]*I\n",
    "\n",
    "#excess demand\n",
    "\n",
    "def excess_demand(x, p1, p2, e1, e2, e3, betas):\n",
    "    demand = np.sum(x(p1, p2, e1, e2, e3, betas))\n",
    "    \n",
    "    if x == \"x1\":\n",
    "        supply = np.sum(e1)\n",
    "    elif x == \"x2\":\n",
    "        supply = np.sum(e2)\n",
    "    else:\n",
    "        supply = np.sum(e3)\n",
    "    exc_dem = demand - supply     \n",
    "    return exc_dem  \n",
    "\n"
    "#price_1 = np.linspace(0.1, 10, 100)\n",
    "#price_2 = np.linspace(0.1, 10, 100)\n",
    "#price_3 = np.linspace(0.1, 10, 100)\n",
    "\n",
    "#x1_fun = lambda x: excess_demand(x1, x, p2, e1, e2, e3, betas)\n",
    "#x1_fun_plot = x1_fun(price_1)\n",
    "#x2_fun = lambda x: excess_demand(x2, p1, x, e1, e2, e3, betas)\n",
    "#x2_fun_plot = x2_fun(price_2)\n",
    "\n",
    "\n",
    "#plt.plot(price_1, x1_fun_plot, \"r-\", label = \"Product 1\")\n",
    "#plt.plot(price_2, x2_fun_plot, \"b-\", label = \"Product 2\" )\n",
    "#plt.show()\n",
    "\n",
    "#Since the plot requires three axes it got quite messy and with errors all over the place. I ended up deleting it and not being able to recreate anything meaningful."
   ]
  },
  {
   "cell_type": "markdown",
   "metadata": {},
   "source": [
    "**Question 3:** Find the Walras-equilibrium prices, $(p_1,p_2)$, where both excess demands are (approximately) zero, e.g. by using the following tâtonnement process:\n",
    "\n",
    "1. Guess on $p_1 > 0$, $p_2 > 0$ and choose tolerance $\\epsilon > 0$ and adjustment aggressivity parameter, $\\kappa > 0$.\n",
    "2. Calculate $z_1(p_1,p_2)$ and $z_2(p_1,p_2)$.\n",
    "3. If $|z_1| < \\epsilon$ and $|z_2| < \\epsilon$ then stop.\n",
    "4. Else set $p_1 = p_1 + \\kappa \\frac{z_1}{N}$ and $p_2 = p_2 + \\kappa \\frac{z_2}{N}$ and return to step 2."
   ]
  },
  {
   "cell_type": "code",
   "execution_count": 37,
   "metadata": {},
   "outputs": [
    {
     "name": "stdout",
     "output_type": "stream",
     "text": [
      "The prices are (p1, p2) = (6.0596117842277755, 2.433061390839292), and the excess demand is (z1, z2) = (9.458744898438454e-11, 3.637978807091713e-11). We keep in mind that p3 = 1\n"
     ]
    }
   ],
   "source": [
    "#Defining the criteria written above\n",
    "\n",
    "p1_ini = 1\n",
    "p2_ini = 1\n",
    "#I had to set a cap on iterations or the loop will spin forever in q5\n",
    "def equilibrium(iteration, p1, p2, e1, e2, e3, betas, kappa, epsilon):\n",
    "    t=0\n",
    "    while True:\n",
    "        z1 = excess_demand(x1, p1, p2, e1, e2, e3, betas)\n",
    "        z2 = excess_demand(x2, p1, p2, e1, e2, e3, betas)\n",
    "        if np.abs(z1) < epsilon and np.abs(z2) < epsilon or t > iteration: #Needed to avoid waiting for minutes.\n",
    "            print(f'The prices are (p1, p2) = {p1, p2}, and the excess demand is (z1, z2) = {z1, z2}. We keep in mind that p3 = 1')\n",
    "            break\n",
    "        p1 = p1 + kappa*z1/N\n",
    "        p2 = p2 + kappa*z2/N\n",
    "        t += 1\n",
    "    return p1, p2\n",
    "p1, p2 = equilibrium(10000, p1_ini, p2_ini, e1, e2, e3, betas, 2, 1e-10)\n"
   ]
  },
  {
   "cell_type": "markdown",
   "metadata": {},
   "source": [
    "**Question 4:** Plot the distribution of utility in the Walras-equilibrium and calculate its mean and variance."
   ]
  },
  {
   "cell_type": "code",
   "execution_count": 38,
   "metadata": {},
   "outputs": [
    {
     "name": "stdout",
     "output_type": "stream",
     "text": [
      "The mean of the utility is: 2.3769975524551423\n"
     ]
    }
   ],
   "source": [
    "def utility(x1, x2, x3, betas, gamma):\n",
    "    return (x1**betas[:,0] + x2**betas[:,1] + x3**betas[:,2])**gamma\n",
    "\n",
    "#using demand functions from above\n",
    "utility_wal = utility(x1(p1, p2, e1, e2, e3, betas), x2(p1, p2, e1, e2, e3, betas), x3(p1, p2, e1, e2, e3, betas), betas, gamma)\n",
    "print(f'The mean of the utility is: {utility_wal.mean()}')"
   ]
  },
  {
   "cell_type": "code",
   "execution_count": 39,
   "metadata": {},
   "outputs": [
    {
     "name": "stdout",
     "output_type": "stream",
     "text": [
      "The variance of the utility is: 0.20702487229161537\n"
     ]
    }
   ],
   "source": [
    "print(f'The variance of the utility is: {utility_wal.var()}')"
   ]
  },
  {
   "cell_type": "code",
   "execution_count": 40,
   "metadata": {},
   "outputs": [
    {
     "data": {
      "image/png": "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\n",
      "text/plain": [
       "<Figure size 432x288 with 1 Axes>"
      ]
     },
     "metadata": {
      "needs_background": "light"
     },
     "output_type": "display_data"
    }
   ],
   "source": [
    "fig = plt.figure()\n",
    "ax = fig.add_subplot(1,1,1)\n",
    "ax.hist(utility_wal, bins = 100, density = True)\n",
    "ax.set_title(\"Distribution of utility of the walras equilibrium\")\n",
    "plt.show()"
   ]
  },
  {
   "cell_type": "markdown",
   "metadata": {},
   "source": [
    "**Question 5:** Find the Walras-equilibrium prices if instead all endowments were distributed equally. Discuss the implied changes in the distribution of utility. Does the value of $\\gamma$ play a role for your conclusions?"
   ]
  },
  {
   "cell_type": "code",
   "execution_count": 41,
   "metadata": {},
   "outputs": [
    {
     "name": "stdout",
     "output_type": "stream",
     "text": [
      "The prices are (p1, p2) = (6.441793456362303, 2.5905935972737115), and the excess demand is (z1, z2) = (9.458744898438454e-11, 4.3655745685100555e-11). We keep in mind that p3 = 1\n"
     ]
    }
   ],
   "source": [
    "#Defining new shares of endowments\n",
    "new_e = (e1+e2+e3)/3\n",
    "p1_5, p2_5 = equilibrium(10000, p1_ini, p2_ini, new_e, new_e, new_e, betas, 2, 1e-10)\n",
    "\n",
    "\n",
    "utility_wal_5  = utility(x1(p1_5, p2_5, new_e, new_e, new_e, betas), x2(p1_5, p2_5, new_e, new_e, new_e, betas), x3(p1_5, p2_5, new_e, new_e, new_e, betas), betas, gamma)\n",
    "utility_wal_5_dif_gam  = utility(x1(p1_5, p2_5, new_e, new_e, new_e, betas), x2(p1_5, p2_5, new_e, new_e, new_e, betas), x3(p1_5, p2_5, new_e, new_e, new_e, betas), betas, 0.5)\n"
   ]
  },
  {
   "cell_type": "code",
   "execution_count": 42,
   "metadata": {},
   "outputs": [
    {
     "data": {
      "image/png": "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\n",
      "text/plain": [
       "<Figure size 432x288 with 1 Axes>"
      ]
     },
     "metadata": {
      "needs_background": "light"
     },
     "output_type": "display_data"
    }
   ],
   "source": [
    "fig = plt.figure()\n",
    "ax = fig.add_subplot(1, 1, 1)\n",
    "ax.hist(utility_wal_5, bins = 100, density = True)\n",
    "ax.set_title(\"Distribution of utility of the walras equilibrium with $gamma = 0.8$\")\n",
    "plt.show()"
   ]
  },
  {
   "cell_type": "code",
   "execution_count": 43,
   "metadata": {},
   "outputs": [
    {
     "data": {
      "image/png": "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\n",
      "text/plain": [
       "<Figure size 432x288 with 1 Axes>"
      ]
     },
     "metadata": {
      "needs_background": "light"
     },
     "output_type": "display_data"
    }
   ],
   "source": [
    "fig = plt.figure()\n",
    "ax = fig.add_subplot(1, 1, 1)\n",
    "ax.hist(utility_wal_5_dif_gam, bins = 100, density = True)\n",
    "ax.set_title(\"Distribution of utility of the walras equilibrium with $gamma = 0.5$\")\n",
    "plt.show()"
   ]
  },
  {
   "cell_type": "code",
   "execution_count": null,
   "metadata": {},
   "outputs": [],
   "source": []
  }
 ],
 "metadata": {
  "kernelspec": {
   "display_name": "Python 3",
   "language": "python",
   "name": "python3"
  },
  "language_info": {
   "codemirror_mode": {
    "name": "ipython",
    "version": 3
   },
   "file_extension": ".py",
   "mimetype": "text/x-python",
   "name": "python",
   "nbconvert_exporter": "python",
   "pygments_lexer": "ipython3",
   "version": "3.7.1"
  },
  "toc-autonumbering": false
 },
 "nbformat": 4,
 "nbformat_minor": 2
}
