{
 "cells": [
  {
   "cell_type": "code",
   "execution_count": 851,
   "metadata": {},
   "outputs": [],
   "source": [
    "from __future__ import division\n",
    "import numpy as np\n",
    "import sympy as sm\n",
    "import matplotlib.pyplot as plt\n",
    "import matplotlib as mpl\n",
    "from matplotlib import cm\n",
    "from scipy import optimize, stats\n",
    "import mpmath as mp"
   ]
  },
  {
   "cell_type": "code",
   "execution_count": 852,
   "metadata": {},
   "outputs": [],
   "source": [
    "sm.init_printing(use_unicode=True)\n",
    "A = sm.symbols(\"A\")\n",
    "n = sm.symbols(\"n\")\n",
    "g = sm.symbols(\"g\")\n",
    "s= sm.symbols(\"s\")\n",
    "k= sm.symbols(\"k\")\n",
    "alpha = sm.symbols(\"alpha\")\n",
    "delta = sm.symbols(\"delta\")\n",
    "ktilde = sm.symbols(\"ktilde\")\n",
    "ktildeg = sm.symbols(\"ktilde_g\")\n",
    "ytilde = sm.symbols(\"ytilde\")\n",
    "ktildestar = sm.symbols(\"ktilde^*\")\n",
    "ktildestarg = sm.symbols(\"ktilde^*\"\"_g\")\n",
    "ytildestar = sm.symbols(\"ytilde^*\")\n",
    "ystar = sm.symbols(\"y^*\")\n",
    "kstar = sm.symbols(\"k^*\")\n",
    "kstaralpha = sm.symbols(\"(kstar)\")"
   ]
  },
  {
   "cell_type": "markdown",
   "metadata": {},
   "source": [
    "We have the production function $$Y = K^{\\alpha} (AL)^{(1-\\alpha)}$$"
   ]
  },
  {
   "cell_type": "markdown",
   "metadata": {},
   "source": [
    "We have the capital accumulation function: $${\\dot{k}} = sAk^{\\alpha} - (\\delta+n){k}$$ "
   ]
  },
  {
   "cell_type": "markdown",
   "metadata": {},
   "source": [
    "We will solve for the steady state:"
   ]
  },
  {
   "cell_type": "code",
   "execution_count": 853,
   "metadata": {},
   "outputs": [
    {
     "data": {
      "image/png": "[encoded data removed]",
      "text/latex": [
       "$$A k^{\\alpha} s - k \\left(\\delta + n\\right) = 0$$"
      ],
      "text/plain": [
       "   α                  \n",
       "A⋅k ⋅s - k⋅(δ + n) = 0"
      ]
     },
     "execution_count": 853,
     "metadata": {},
     "output_type": "execute_result"
    }
   ],
   "source": [
    "k1eq = sm.Eq(s*A*k**alpha- (delta+n)*k)\n",
    "k1eq"
   ]
  },
  {
   "cell_type": "code",
   "execution_count": 854,
   "metadata": {},
   "outputs": [
    {
     "data": {
      "image/png": "[encoded data removed]",
      "text/latex": [
       "$$\\left [ \\left(\\frac{A s}{\\delta + n}\\right)^{- \\frac{1}{\\alpha - 1}}\\right ]$$"
      ],
      "text/plain": [
       "⎡        -1  ⎤\n",
       "⎢       ─────⎥\n",
       "⎢       α - 1⎥\n",
       "⎢⎛ A⋅s ⎞     ⎥\n",
       "⎢⎜─────⎟     ⎥\n",
       "⎣⎝δ + n⎠     ⎦"
      ]
     },
     "execution_count": 854,
     "metadata": {},
     "output_type": "execute_result"
    }
   ],
   "source": [
    "k1solve =sm.solve(k1eq, k)\n",
    "k1solve"
   ]
  },
  {
   "cell_type": "markdown",
   "metadata": {},
   "source": [
    "Steady state output per worker is then $y = (k^*)^\\alpha$ which equals $$(\\frac{As}{\\delta+n})^{\\frac{\\alpha}{1-\\alpha}}$$"
   ]
  },
  {
   "cell_type": "markdown",
   "metadata": {},
   "source": [
    "Simulation\n"
   ]
  },
  {
   "cell_type": "code",
   "execution_count": 855,
   "metadata": {},
   "outputs": [],
   "source": [
    "A=1\n",
    "g1 = 0.02 \n",
    "n1 = 0.01\n",
    "delta1 = 0.05 \n",
    "alpha1 = 0.33 #Usually determined to be around this amount cf. lectures.\n",
    "s1=0.28"
   ]
  },
  {
   "cell_type": "code",
   "execution_count": 856,
   "metadata": {},
   "outputs": [
    {
     "data": {
      "image/png": "[encoded data removed]",
      "text/latex": [
       "$$9.965924289053788$$"
      ],
      "text/plain": [
       "9.965924289053788"
      ]
     },
     "execution_count": 856,
     "metadata": {},
     "output_type": "execute_result"
    }
   ],
   "source": [
    "k1steady = ((A*s1)/(delta1+n1))**(1/(1-alpha1))\n",
    "k1steady"
   ]
  },
  {
   "cell_type": "markdown",
   "metadata": {},
   "source": [
    "Expanding into the solow model with technological advances we now have our capital accumulation relationship $$\\tilde{\\dot{k}} = s\\tilde{k}^{\\alpha} - (\\delta+n+g)\\tilde{k}$$ "
   ]
  },
  {
   "cell_type": "code",
   "execution_count": 857,
   "metadata": {},
   "outputs": [
    {
     "data": {
      "image/png": "[encoded data removed]",
      "text/latex": [
       "$$- \\tilde{k} \\left(\\delta + g + n\\right) + \\tilde{k}^{\\alpha} s = 0$$"
      ],
      "text/plain": [
       "                    α      \n",
       "-k̃⋅(δ + g + n) + k̃ ⋅s = 0"
      ]
     },
     "execution_count": 857,
     "metadata": {},
     "output_type": "execute_result"
    }
   ],
   "source": [
    "keq = sm.Eq(ktilde**alpha*s-(n+delta+g)*ktilde)\n",
    "keq"
   ]
  },
  {
   "cell_type": "code",
   "execution_count": 858,
   "metadata": {},
   "outputs": [
    {
     "data": {
      "image/png": "[encoded data removed]",
      "text/latex": [
       "$$\\left [ \\left(\\frac{\\delta + g + n}{s}\\right)^{\\frac{1}{\\alpha - 1}}\\right ]$$"
      ],
      "text/plain": [
       "⎡             1  ⎤\n",
       "⎢           ─────⎥\n",
       "⎢           α - 1⎥\n",
       "⎢⎛δ + g + n⎞     ⎥\n",
       "⎢⎜─────────⎟     ⎥\n",
       "⎣⎝    s    ⎠     ⎦"
      ]
     },
     "execution_count": 858,
     "metadata": {},
     "output_type": "execute_result"
    }
   ],
   "source": [
    "ksolve = sm.solve(keq, ktilde)\n",
    "ksolve"
   ]
  },
  {
   "cell_type": "code",
   "execution_count": 859,
   "metadata": {},
   "outputs": [
    {
     "data": {
      "image/png": "[encoded data removed]",
      "text/latex": [
       "$$\\tilde{k}^{*} = \\left(\\frac{\\delta + g + n}{s}\\right)^{\\frac{1}{\\alpha - 1}}$$"
      ],
      "text/plain": [
       "                     1  \n",
       "                   ─────\n",
       "                   α - 1\n",
       "        ⎛δ + g + n⎞     \n",
       "k̃__* = ⎜─────────⎟     \n",
       "        ⎝    s    ⎠     "
      ]
     },
     "execution_count": 859,
     "metadata": {},
     "output_type": "execute_result"
    }
   ],
   "source": [
    "ktildesolved = sm.Eq(ktildestar, ((delta+g+n)/s)**(1/(alpha-1)))\n",
    "ktildesolved #(s*A/delta)**(1.0/(1.0-alpha))"
   ]
  },
  {
   "cell_type": "markdown",
   "metadata": {},
   "source": [
    "Furthermore we have $\\tilde{y} = \\tilde{k}^\\alpha$. which leads us to:"
   ]
  },
  {
   "cell_type": "code",
   "execution_count": 860,
   "metadata": {},
   "outputs": [
    {
     "data": {
      "image/png": "[encoded data removed]",
      "text/latex": [
       "$$\\tilde{y}^{*} = \\left(\\frac{\\delta + g + n}{s}\\right)^{\\frac{\\alpha}{\\alpha - 1}}$$"
      ],
      "text/plain": [
       "                     α  \n",
       "                   ─────\n",
       "                   α - 1\n",
       "        ⎛δ + g + n⎞     \n",
       "ỹ__* = ⎜─────────⎟     \n",
       "        ⎝    s    ⎠     "
      ]
     },
     "execution_count": 860,
     "metadata": {},
     "output_type": "execute_result"
    }
   ],
   "source": [
    "ytildesolved = sm.Eq(ytildestar, ((delta+g+n)/s)**(alpha/(alpha-1)))\n",
    "ytildesolved"
   ]
  },
  {
   "cell_type": "markdown",
   "metadata": {},
   "source": [
    "Which is our steady state output per worker. We see that it depends positively on the investment rate and negatively on the population growth and capital depreciation rate. "
   ]
  },
  {
   "cell_type": "markdown",
   "metadata": {},
   "source": [
    "In the steady state we have that (from our production function) $$k(t) = A(t)\\tilde{k}^*$$\n",
    "<br>\n",
    "Which leads us to\n",
    "$$lnk(t) = lnA(t) ln\\tilde{k}^*$$\n",
    "<br> Remembering that $\\tilde{\\dot{k}^*}$ is equal to 0 in steady state we find that $$\\frac{\\dot{k}}{k} = \\frac{\\dot{A}}{A}$$ <br> Which suggests that capital per capita growth grow at the rate of technological growth. "
   ]
  },
  {
   "cell_type": "markdown",
   "metadata": {},
   "source": [
    "So far we have concluded that savings contribute to a higher k and therefore a higher y. Let's find the optimal kapital stock using the golden rule from savings.  "
   ]
  },
  {
   "cell_type": "code",
   "execution_count": 861,
   "metadata": {},
   "outputs": [
    {
     "data": {
      "image/png": "[encoded data removed]",
      "text/latex": [
       "$$\\alpha \\tilde{k}_{g}^{\\alpha - 1} - \\delta - g - n = 0$$"
      ],
      "text/plain": [
       "      α - 1                \n",
       "α⋅k̃_g      - δ - g - n = 0"
      ]
     },
     "execution_count": 861,
     "metadata": {},
     "output_type": "execute_result"
    }
   ],
   "source": [
    "seq=sm.Eq(alpha*ktildeg**(alpha-1)-n-delta-g)\n",
    "seq"
   ]
  },
  {
   "cell_type": "code",
   "execution_count": 862,
   "metadata": {},
   "outputs": [
    {
     "data": {
      "image/png": "[encoded data removed]",
      "text/latex": [
       "$$\\left [ \\left(\\frac{\\delta + g + n}{\\alpha}\\right)^{\\frac{1}{\\alpha - 1}}\\right ]$$"
      ],
      "text/plain": [
       "⎡             1  ⎤\n",
       "⎢           ─────⎥\n",
       "⎢           α - 1⎥\n",
       "⎢⎛δ + g + n⎞     ⎥\n",
       "⎢⎜─────────⎟     ⎥\n",
       "⎣⎝    α    ⎠     ⎦"
      ]
     },
     "execution_count": 862,
     "metadata": {},
     "output_type": "execute_result"
    }
   ],
   "source": [
    "ssolve = sm.solve(seq, ktildeg)\n",
    "ssolve"
   ]
  },
  {
   "cell_type": "code",
   "execution_count": 863,
   "metadata": {},
   "outputs": [
    {
     "data": {
      "image/png": "[encoded data removed]",
      "text/latex": [
       "$$\\tilde{k}^{*}_{g} = \\left(\\frac{\\delta + g + n}{\\alpha}\\right)^{\\frac{1}{\\alpha - 1}}$$"
      ],
      "text/plain": [
       "                       1  \n",
       "                     ─────\n",
       "                     α - 1\n",
       "          ⎛δ + g + n⎞     \n",
       "k̃_g__* = ⎜─────────⎟     \n",
       "          ⎝    α    ⎠     "
      ]
     },
     "execution_count": 863,
     "metadata": {},
     "output_type": "execute_result"
    }
   ],
   "source": [
    "ktildegsolved = sm.Eq(ktildestarg, ((delta+g+n)/alpha)**(1/(alpha-1)))\n",
    "ktildegsolved"
   ]
  },
  {
   "cell_type": "markdown",
   "metadata": {},
   "source": [
    "Which resembles the golden rule of capital. Then, if $\\tilde{k}^* > \\tilde{k}_g$, the economy is dynamically inefficient. If $\\tilde{k}^* <= \\tilde{k}_g$, the economy is dynamically efficient. Given usual estimates of $\\alpha = 0.33$ and s = [0.15;0.3] then $\\tilde{k}^{*}$ (in our case s=0.28) is usually larger"
   ]
  },
  {
   "cell_type": "markdown",
   "metadata": {},
   "source": [
    "We now simulate a model with parameters from World Bank. The paremeters are taken from Denmark in the period of2012-2017 for the data that is available. Parameters such as alpha and delta are taken from rules of thumb. "
   ]
  },
  {
   "cell_type": "code",
   "execution_count": 864,
   "metadata": {},
   "outputs": [],
   "source": [
    "g = 0.02\n",
    "L0 = 100 \n",
    "n = 0.01\n",
    "delta = 0.05 \n",
    "alpha = 0.33 #Usually determined to be around this amount cf. lectures.\n",
    "s=0.28 #Somewhat of an average of the index on WB for Denmark.\n"
   ]
  },
  {
   "cell_type": "markdown",
   "metadata": {},
   "source": [
    "We may now provide estimates of the steady state values. "
   ]
  },
  {
   "cell_type": "code",
   "execution_count": 865,
   "metadata": {},
   "outputs": [
    {
     "data": {
      "image/png": "[encoded data removed]",
      "text/latex": [
       "$$\\tilde{k}^{*} = 6.48696951853632$$"
      ],
      "text/plain": [
       "k̃__* = 6.48696951853632"
      ]
     },
     "execution_count": 865,
     "metadata": {},
     "output_type": "execute_result"
    }
   ],
   "source": [
    "ktildesolved2 = sm.Eq(ktildestar, ((delta+g+n)/s)**(1/(alpha-1)))\n",
    "ktildesolved2"
   ]
  },
  {
   "cell_type": "code",
   "execution_count": 866,
   "metadata": {},
   "outputs": [
    {
     "data": {
      "image/png": "[encoded data removed]",
      "text/latex": [
       "$$\\tilde{y}^{*} = 1.85341986243895$$"
      ],
      "text/plain": [
       "ỹ__* = 1.85341986243895"
      ]
     },
     "execution_count": 866,
     "metadata": {},
     "output_type": "execute_result"
    }
   ],
   "source": [
    "ytildesolved2 = sm.Eq(ytildestar, ((delta+g+n)/s)**(alpha/(alpha-1)))\n",
    "ytildesolved2"
   ]
  },
  {
   "cell_type": "markdown",
   "metadata": {},
   "source": [
    "Let's try visualizing the steady state"
   ]
  },
  {
   "cell_type": "code",
   "execution_count": 867,
   "metadata": {},
   "outputs": [],
   "source": [
    "# Defining steady state as I am not sure how to utilize the expressions above in this circumstance.\n",
    "ksteady = ((delta+g+n)/s)**(1/(alpha-1))"
   ]
  },
  {
   "cell_type": "code",
   "execution_count": 868,
   "metadata": {},
   "outputs": [],
   "source": [
    "#Define domain and our capital accumulation function for loop:\n",
    "kmin = 0.0\n",
    "kmax = ksteady*1.5\n",
    "k_set = np.linspace(kmin, kmax)\n",
    "u = lambda x: s-(1-delta)*x+x #Capital accumulation rewritten\n",
    "\n",
    "#Equilibrium path\n",
    "T = 200\n",
    "k = np.zeros((T,1))\n",
    "k[0] = 0.01\n",
    "for t in range(T-1):\n",
    "    k[t+1] = u(k[t])\n"
   ]
  },
  {
   "cell_type": "code",
   "execution_count": 869,
   "metadata": {},
   "outputs": [
    {
     "data": {
      "image/png": "[encoded data removed]",
      "text/plain": [
       "<Figure size 432x288 with 1 Axes>"
      ]
     },
     "metadata": {
      "needs_background": "light"
     },
     "output_type": "display_data"
    }
   ],
   "source": [
    "# Lambda functions to plot the savings and depreciation rates.\n",
    "sav_k = lambda x: (s)*x**alpha #share of savings\n",
    "depr_k = lambda x: (g+n+delta)*x\n",
    "depr = depr_k(k_set)\n",
    "sav = sav_k(k_set)\n",
    "\n",
    "plt.plot(k_set, depr, 'b-', label='Depreciation')          \n",
    "plt.plot(k_set, sav, 'r-', label='Savings' )          \n",
    "plt.plot(ksteady, depr_k(ksteady), 'go', label='Steady state' ) \n",
    "plt.xlabel('$k_{t}$')\n",
    "plt.ylabel('saving, depreciation')\n",
    "plt.grid = True\n",
    "plt.legend()\n",
    "plt.show()"
   ]
  },
  {
   "cell_type": "markdown",
   "metadata": {},
   "source": [
    "We then see that the steady state is approximately 6.49"
   ]
  }
 ],
 "metadata": {
  "kernelspec": {
   "display_name": "Python 3",
   "language": "python",
   "name": "python3"
  },
  "language_info": {
   "codemirror_mode": {
    "name": "ipython",
    "version": 3
   },
   "file_extension": ".py",
   "mimetype": "text/x-python",
   "name": "python",
   "nbconvert_exporter": "python",
   "pygments_lexer": "ipython3",
   "version": "3.7.1"
  }
 },
 "nbformat": 4,
 "nbformat_minor": 2
}
